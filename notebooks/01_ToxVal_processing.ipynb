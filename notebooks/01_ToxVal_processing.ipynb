{
 "cells": [
  {
   "cell_type": "code",
   "execution_count": 1,
   "metadata": {},
   "outputs": [],
   "source": [
    "raw_dat_dir = '/home/grace/Documents/python/ttc_inhalation/data/raw/'\n",
    "processed_dat_dir = '/home/grace/Documents/python/ttc_inhalation/data/processed/'\n",
    "interim_dat_dir = '/home/grace/Documents/python/ttc_inhalation/data/interim/'"
   ]
  },
  {
   "cell_type": "code",
   "execution_count": 2,
   "metadata": {},
   "outputs": [],
   "source": [
    "import pandas as pd\n",
    "import numpy as np\n",
    "import matplotlib.pyplot as plt\n",
    "import seaborn as sns\n",
    "%matplotlib inline"
   ]
  },
  {
   "cell_type": "code",
   "execution_count": 3,
   "metadata": {},
   "outputs": [],
   "source": [
    "import os\n",
    "import glob"
   ]
  },
  {
   "cell_type": "code",
   "execution_count": 4,
   "metadata": {},
   "outputs": [
    {
     "name": "stdout",
     "output_type": "stream",
     "text": [
      "Original_ToxVal_v7_24-04-2019.RData\n",
      "Original_ToxVal_v7_24-04-2019.csv\n",
      ".ipynb_checkpoints\n",
      ".gitkeep\n",
      "ToxVal_v7.csv\n"
     ]
    }
   ],
   "source": [
    "for f in os.listdir(raw_dat_dir):\n",
    "    print(f)"
   ]
  },
  {
   "cell_type": "code",
   "execution_count": 5,
   "metadata": {},
   "outputs": [],
   "source": [
    "def loadTXdata(file, dat_dir = raw_dat_dir):\n",
    "    df = pd.read_csv(dat_dir+file)\n",
    "    return  df"
   ]
  },
  {
   "cell_type": "code",
   "execution_count": 6,
   "metadata": {},
   "outputs": [
    {
     "name": "stderr",
     "output_type": "stream",
     "text": [
      "/home/grace/anaconda3/envs/clone_newchem/lib/python3.6/site-packages/IPython/core/interactiveshell.py:3248: DtypeWarning: Columns (34,51,52,64) have mixed types. Specify dtype option on import or set low_memory=False.\n",
      "  if (await self.run_code(code, result,  async_=asy)):\n"
     ]
    },
    {
     "data": {
      "text/html": [
       "<div>\n",
       "<style scoped>\n",
       "    .dataframe tbody tr th:only-of-type {\n",
       "        vertical-align: middle;\n",
       "    }\n",
       "\n",
       "    .dataframe tbody tr th {\n",
       "        vertical-align: top;\n",
       "    }\n",
       "\n",
       "    .dataframe thead th {\n",
       "        text-align: right;\n",
       "    }\n",
       "</style>\n",
       "<table border=\"1\" class=\"dataframe\">\n",
       "  <thead>\n",
       "    <tr style=\"text-align: right;\">\n",
       "      <th></th>\n",
       "      <th>chemical_id</th>\n",
       "      <th>toxval_id</th>\n",
       "      <th>toxval_uuid</th>\n",
       "      <th>parent_toxval_uuid</th>\n",
       "      <th>chemical_id_original</th>\n",
       "      <th>species_id</th>\n",
       "      <th>study_id</th>\n",
       "      <th>quality_id</th>\n",
       "      <th>priority_id</th>\n",
       "      <th>manual_qc_flag</th>\n",
       "      <th>...</th>\n",
       "      <th>details_text</th>\n",
       "      <th>datestamp</th>\n",
       "      <th>lifestage</th>\n",
       "      <th>generation</th>\n",
       "      <th>casrn</th>\n",
       "      <th>name</th>\n",
       "      <th>dsstox_substance_id</th>\n",
       "      <th>dsstox_compound_id</th>\n",
       "      <th>chemical_id_external</th>\n",
       "      <th>qsar_ready_smiles</th>\n",
       "    </tr>\n",
       "  </thead>\n",
       "  <tbody>\n",
       "    <tr>\n",
       "      <th>0</th>\n",
       "      <td>147</td>\n",
       "      <td>1</td>\n",
       "      <td>695c5d4cd01afc10a34ad8a64f012bc1</td>\n",
       "      <td>-</td>\n",
       "      <td>147</td>\n",
       "      <td>24967</td>\n",
       "      <td>-1</td>\n",
       "      <td>-1</td>\n",
       "      <td>1</td>\n",
       "      <td>-</td>\n",
       "      <td>...</td>\n",
       "      <td>ATSDR Details</td>\n",
       "      <td>2019-04-22 16:58:52</td>\n",
       "      <td>-</td>\n",
       "      <td>-</td>\n",
       "      <td>100-41-4</td>\n",
       "      <td>Ethylbenzene</td>\n",
       "      <td>DTXSID3020596</td>\n",
       "      <td>DTXCID10596</td>\n",
       "      <td>-</td>\n",
       "      <td>CCC1=CC=CC=C1</td>\n",
       "    </tr>\n",
       "    <tr>\n",
       "      <th>1</th>\n",
       "      <td>147</td>\n",
       "      <td>2</td>\n",
       "      <td>aa3416372e86e2ad70eb36a37835fd88</td>\n",
       "      <td>-</td>\n",
       "      <td>147</td>\n",
       "      <td>24967</td>\n",
       "      <td>-1</td>\n",
       "      <td>-1</td>\n",
       "      <td>1</td>\n",
       "      <td>-</td>\n",
       "      <td>...</td>\n",
       "      <td>ATSDR Details</td>\n",
       "      <td>2019-04-22 16:58:52</td>\n",
       "      <td>-</td>\n",
       "      <td>-</td>\n",
       "      <td>100-41-4</td>\n",
       "      <td>Ethylbenzene</td>\n",
       "      <td>DTXSID3020596</td>\n",
       "      <td>DTXCID10596</td>\n",
       "      <td>-</td>\n",
       "      <td>CCC1=CC=CC=C1</td>\n",
       "    </tr>\n",
       "    <tr>\n",
       "      <th>2</th>\n",
       "      <td>147</td>\n",
       "      <td>3</td>\n",
       "      <td>9f8f21b321fffc119d6596113e6a42ad</td>\n",
       "      <td>-</td>\n",
       "      <td>147</td>\n",
       "      <td>24967</td>\n",
       "      <td>-1</td>\n",
       "      <td>-1</td>\n",
       "      <td>1</td>\n",
       "      <td>-</td>\n",
       "      <td>...</td>\n",
       "      <td>ATSDR Details</td>\n",
       "      <td>2019-04-22 16:58:52</td>\n",
       "      <td>-</td>\n",
       "      <td>-</td>\n",
       "      <td>100-41-4</td>\n",
       "      <td>Ethylbenzene</td>\n",
       "      <td>DTXSID3020596</td>\n",
       "      <td>DTXCID10596</td>\n",
       "      <td>-</td>\n",
       "      <td>CCC1=CC=CC=C1</td>\n",
       "    </tr>\n",
       "    <tr>\n",
       "      <th>3</th>\n",
       "      <td>147</td>\n",
       "      <td>4</td>\n",
       "      <td>f070a0caa6f198681d6eb29044052a03</td>\n",
       "      <td>-</td>\n",
       "      <td>147</td>\n",
       "      <td>24967</td>\n",
       "      <td>-1</td>\n",
       "      <td>-1</td>\n",
       "      <td>1</td>\n",
       "      <td>-</td>\n",
       "      <td>...</td>\n",
       "      <td>ATSDR Details</td>\n",
       "      <td>2019-04-22 16:58:52</td>\n",
       "      <td>-</td>\n",
       "      <td>-</td>\n",
       "      <td>100-41-4</td>\n",
       "      <td>Ethylbenzene</td>\n",
       "      <td>DTXSID3020596</td>\n",
       "      <td>DTXCID10596</td>\n",
       "      <td>-</td>\n",
       "      <td>CCC1=CC=CC=C1</td>\n",
       "    </tr>\n",
       "    <tr>\n",
       "      <th>4</th>\n",
       "      <td>147</td>\n",
       "      <td>5</td>\n",
       "      <td>c76087de396ffd785ff941c64bf41961</td>\n",
       "      <td>-</td>\n",
       "      <td>147</td>\n",
       "      <td>24967</td>\n",
       "      <td>-1</td>\n",
       "      <td>-1</td>\n",
       "      <td>1</td>\n",
       "      <td>-</td>\n",
       "      <td>...</td>\n",
       "      <td>ATSDR Details</td>\n",
       "      <td>2019-04-22 16:58:52</td>\n",
       "      <td>-</td>\n",
       "      <td>-</td>\n",
       "      <td>100-41-4</td>\n",
       "      <td>Ethylbenzene</td>\n",
       "      <td>DTXSID3020596</td>\n",
       "      <td>DTXCID10596</td>\n",
       "      <td>-</td>\n",
       "      <td>CCC1=CC=CC=C1</td>\n",
       "    </tr>\n",
       "  </tbody>\n",
       "</table>\n",
       "<p>5 rows × 65 columns</p>\n",
       "</div>"
      ],
      "text/plain": [
       "   chemical_id  toxval_id                       toxval_uuid  \\\n",
       "0          147          1  695c5d4cd01afc10a34ad8a64f012bc1   \n",
       "1          147          2  aa3416372e86e2ad70eb36a37835fd88   \n",
       "2          147          3  9f8f21b321fffc119d6596113e6a42ad   \n",
       "3          147          4  f070a0caa6f198681d6eb29044052a03   \n",
       "4          147          5  c76087de396ffd785ff941c64bf41961   \n",
       "\n",
       "  parent_toxval_uuid  chemical_id_original  species_id  study_id  quality_id  \\\n",
       "0                  -                   147       24967        -1          -1   \n",
       "1                  -                   147       24967        -1          -1   \n",
       "2                  -                   147       24967        -1          -1   \n",
       "3                  -                   147       24967        -1          -1   \n",
       "4                  -                   147       24967        -1          -1   \n",
       "\n",
       "   priority_id manual_qc_flag        ...          details_text  \\\n",
       "0            1              -        ...         ATSDR Details   \n",
       "1            1              -        ...         ATSDR Details   \n",
       "2            1              -        ...         ATSDR Details   \n",
       "3            1              -        ...         ATSDR Details   \n",
       "4            1              -        ...         ATSDR Details   \n",
       "\n",
       "             datestamp lifestage generation     casrn          name  \\\n",
       "0  2019-04-22 16:58:52         -          -  100-41-4  Ethylbenzene   \n",
       "1  2019-04-22 16:58:52         -          -  100-41-4  Ethylbenzene   \n",
       "2  2019-04-22 16:58:52         -          -  100-41-4  Ethylbenzene   \n",
       "3  2019-04-22 16:58:52         -          -  100-41-4  Ethylbenzene   \n",
       "4  2019-04-22 16:58:52         -          -  100-41-4  Ethylbenzene   \n",
       "\n",
       "  dsstox_substance_id dsstox_compound_id chemical_id_external  \\\n",
       "0       DTXSID3020596        DTXCID10596                    -   \n",
       "1       DTXSID3020596        DTXCID10596                    -   \n",
       "2       DTXSID3020596        DTXCID10596                    -   \n",
       "3       DTXSID3020596        DTXCID10596                    -   \n",
       "4       DTXSID3020596        DTXCID10596                    -   \n",
       "\n",
       "  qsar_ready_smiles  \n",
       "0     CCC1=CC=CC=C1  \n",
       "1     CCC1=CC=CC=C1  \n",
       "2     CCC1=CC=CC=C1  \n",
       "3     CCC1=CC=CC=C1  \n",
       "4     CCC1=CC=CC=C1  \n",
       "\n",
       "[5 rows x 65 columns]"
      ]
     },
     "execution_count": 6,
     "metadata": {},
     "output_type": "execute_result"
    }
   ],
   "source": [
    "toxval = loadTXdata('Original_ToxVal_v7_24-04-2019.csv')\n",
    "toxval.head()\n"
   ]
  },
  {
   "cell_type": "code",
   "execution_count": 20,
   "metadata": {},
   "outputs": [
    {
     "data": {
      "text/plain": [
       "(389, 50)"
      ]
     },
     "execution_count": 20,
     "metadata": {},
     "output_type": "execute_result"
    }
   ],
   "source": [
    "toxval[toxval['name'] == 'Ethylbenzene'].shape"
   ]
  },
  {
   "cell_type": "code",
   "execution_count": 8,
   "metadata": {},
   "outputs": [],
   "source": [
    "toxval.columns.tolist()\n",
    "\n",
    "cols_to_drop = ['chemical_id',\n",
    " 'toxval_id','toxval_uuid','parent_toxval_uuid','species_id',\n",
    " 'study_id','priority_id','manual_qc_flag','source_url','subsource_url','record_url','source_source_id','toxval_numeric_converted','toxval_units_converted','chemical_id_external']"
   ]
  },
  {
   "cell_type": "code",
   "execution_count": 9,
   "metadata": {},
   "outputs": [],
   "source": [
    "#len(cols_to_drop)"
   ]
  },
  {
   "cell_type": "code",
   "execution_count": 10,
   "metadata": {},
   "outputs": [],
   "source": [
    "toxval.drop(cols_to_drop, axis = 1, inplace = True)"
   ]
  },
  {
   "cell_type": "code",
   "execution_count": 11,
   "metadata": {},
   "outputs": [
    {
     "data": {
      "text/plain": [
       "(675694, 50)"
      ]
     },
     "execution_count": 11,
     "metadata": {},
     "output_type": "execute_result"
    }
   ],
   "source": [
    "toxval.shape"
   ]
  },
  {
   "cell_type": "code",
   "execution_count": 12,
   "metadata": {},
   "outputs": [],
   "source": [
    "mycols = toxval.columns.tolist()"
   ]
  },
  {
   "cell_type": "code",
   "execution_count": 13,
   "metadata": {},
   "outputs": [],
   "source": [
    "mycols2 = mycols[45:] + mycols[:45]"
   ]
  },
  {
   "cell_type": "code",
   "execution_count": 14,
   "metadata": {},
   "outputs": [],
   "source": [
    "#mycols2"
   ]
  },
  {
   "cell_type": "code",
   "execution_count": 15,
   "metadata": {},
   "outputs": [],
   "source": [
    "toxval = toxval[mycols2]"
   ]
  },
  {
   "cell_type": "code",
   "execution_count": 21,
   "metadata": {},
   "outputs": [],
   "source": [
    "#toxval[toxval.name == 'Ethylbenzene']"
   ]
  },
  {
   "cell_type": "code",
   "execution_count": 22,
   "metadata": {},
   "outputs": [
    {
     "data": {
      "text/plain": [
       "array(['subacute', 'chronic', 'acute', 'repeat dose', 'subchronic',\n",
       "       'cancer', 'short-term', 'subacute, subchronic',\n",
       "       'ecotoxicity invertebrate', 'reproductive developmental',\n",
       "       'ecotoxicity plants', 'reproductive', 'in vitro',\n",
       "       'genotoxicity, repeat dose', 'developmental',\n",
       "       'subacute, neurotoxicity', 'multigenerational reproductive',\n",
       "       'cancer, repeat dose', 'neurotoxicity', 'chronic, subchronic',\n",
       "       'air quality', 'water quality', 'clinical',\n",
       "       'developmental neurotoxicity', 'human', 'chemcial property',\n",
       "       'genotoxicity', 'special toxicity study', 'Immunotoxicology'],\n",
       "      dtype=object)"
      ]
     },
     "execution_count": 22,
     "metadata": {},
     "output_type": "execute_result"
    }
   ],
   "source": [
    "toxval.risk_assessment_class.unique()"
   ]
  },
  {
   "cell_type": "code",
   "execution_count": 23,
   "metadata": {},
   "outputs": [],
   "source": [
    "study_length = []\n",
    "for x, y, z, a in list(zip(toxval['risk_assessment_class'], toxval['study_type'], toxval['study_duration_value'], toxval['study_duration_units'])):\n",
    "    if (x in ['short-term','repeat dose'] and y == 'chronic'):\n",
    "        study_length.append('chronic')\n",
    "    elif (x in ['short-term','repeat dose']) and (y not in [\"reproductive\", \"subchronic\"]) and (z >=100) and (a == \"day\"):\n",
    "        study_length.append('chronic')\n",
    "    elif (x in [\"short-term\", \"repeat dose\"]) and (y not in [\"reproductive\", \"subchronic\"]) and (z >=14) and (a == \"week\"):\n",
    "        study_length.append('chronic')\n",
    "    elif (x in [\"short-term\", \"repeat dose\"]) and (y not in [\"reproductive\", \"subchronic\"]) and (z>=4) and (a == \"month\"):\n",
    "        study_length.append('chronic')\n",
    "    elif (x in [\"short-term\", \"repeat dose\"]) and (y not in [\"reproductive\", \"subchronic\"]) and (z >=1) and (a == \"year\"):\n",
    "        study_length.append('chronic')\n",
    "    elif (x in [\"short-term\", \"repeat dose\"]) and  (y == \"subchronic\"):\n",
    "        study_length.append('subchronic')\n",
    "    elif (x in ['short-term','repeat dose']) and (y not in [\"reproductive\", \"chronic\"]) and (z>=30) and  (z <100) and (a == \"day\"):\n",
    "        study_length.append('subchronic')\n",
    "    elif (x in ['short-term','repeat dose']) and (y not in [\"reproductive\", \"chronic\"]) and (z>=5) and  (z <14) and (a == \"week\"):\n",
    "        study_length.append('subchronic')\n",
    "    elif (x in ['short-term','repeat dose']) and (y not in [\"reproductive\", \"chronic\"]) and (z>=1.5) and  (z <4) and (a == \"month\"):\n",
    "        study_length.append('subchronic')\n",
    "    elif (x == 'repeat dose') and (y not in [\"acute\", \"reproductive\", \"chronic\"]) and (z==-1):\n",
    "        study_length.append('subchronic')\n",
    "    elif (x == 'repeat dose') and (y not in [\"acute\", \"reproductive\", \"chronic\"]) and (z==0):\n",
    "        study_length.append('subchronic')\n",
    "    elif (x in ['short-term','repeat dose']) and (y == \"reproductive\"):\n",
    "        study_length.append('reproductive')\n",
    "    else:\n",
    "        study_length.append(x)\n",
    "        \n",
    "\n",
    "toxval['study_length'] = study_length"
   ]
  },
  {
   "cell_type": "code",
   "execution_count": 24,
   "metadata": {},
   "outputs": [
    {
     "data": {
      "text/plain": [
       "675694"
      ]
     },
     "execution_count": 24,
     "metadata": {},
     "output_type": "execute_result"
    }
   ],
   "source": [
    "len(study_length)"
   ]
  },
  {
   "cell_type": "markdown",
   "metadata": {},
   "source": [
    "### Adding filters for study types and PODs and routes of exposure"
   ]
  },
  {
   "cell_type": "code",
   "execution_count": 25,
   "metadata": {},
   "outputs": [],
   "source": [
    "mask = (toxval['exposure_route'] == 'inhalation') & (toxval['toxval_type'].isin(['NOAEL','NOEL','NOAEC', 'NOEC'])) & (toxval['study_length'].isin(['subchronic','chronic','reproductive developmental','reproductive','developmental','reproductive developmental','multigenerational reproductive']))"
   ]
  },
  {
   "cell_type": "code",
   "execution_count": 26,
   "metadata": {},
   "outputs": [],
   "source": [
    "toxval_filt = toxval[mask]"
   ]
  },
  {
   "cell_type": "code",
   "execution_count": 27,
   "metadata": {},
   "outputs": [
    {
     "data": {
      "text/plain": [
       "697"
      ]
     },
     "execution_count": 27,
     "metadata": {},
     "output_type": "execute_result"
    }
   ],
   "source": [
    "toxval_filt.qsar_ready_smiles.nunique()"
   ]
  },
  {
   "cell_type": "code",
   "execution_count": 28,
   "metadata": {},
   "outputs": [
    {
     "data": {
      "text/plain": [
       "1594"
      ]
     },
     "execution_count": 28,
     "metadata": {},
     "output_type": "execute_result"
    }
   ],
   "source": [
    "toxval_filt.dsstox_substance_id.nunique()"
   ]
  },
  {
   "cell_type": "code",
   "execution_count": 29,
   "metadata": {},
   "outputs": [
    {
     "data": {
      "text/plain": [
       "(2057, 51)"
      ]
     },
     "execution_count": 29,
     "metadata": {},
     "output_type": "execute_result"
    }
   ],
   "source": [
    "#toxval_filt.species_original.unique()\n",
    "\n",
    "mask2 = toxval_filt['species_original'].isin(['rat','rabbit','mouse', 'rats','mouse / rat','other: rabbits, rats and mice', 'other: rats, mice, rabbits','rat / mouse','Rabbit','Mouse','other: rats and mice','other: rat and mice','other: mice, rats, and rabbits','other: rat and mouse'])\n",
    "toxval_filt2 = toxval_filt[mask2]\n",
    "toxval_filt2.shape"
   ]
  },
  {
   "cell_type": "code",
   "execution_count": 30,
   "metadata": {},
   "outputs": [
    {
     "data": {
      "text/plain": [
       "533"
      ]
     },
     "execution_count": 30,
     "metadata": {},
     "output_type": "execute_result"
    }
   ],
   "source": [
    "toxval_filt2.dsstox_substance_id.nunique()"
   ]
  },
  {
   "cell_type": "markdown",
   "metadata": {},
   "source": [
    "### Going back to the ToxVal dataset pre-cleaned but with the study type to verify consistency with the processed ToxValv7 from Nelms"
   ]
  },
  {
   "cell_type": "code",
   "execution_count": 31,
   "metadata": {},
   "outputs": [
    {
     "data": {
      "text/plain": [
       "(675694, 51)"
      ]
     },
     "execution_count": 31,
     "metadata": {},
     "output_type": "execute_result"
    }
   ],
   "source": [
    "toxval.head()\n",
    "toxval.shape"
   ]
  },
  {
   "cell_type": "code",
   "execution_count": 32,
   "metadata": {},
   "outputs": [],
   "source": [
    "toxval.columns.tolist()\n",
    "\n",
    "toxval.rename(columns = {'dsstox_substance_id': 'DTXSID', 'species_original': 'species_common'}, inplace = True)"
   ]
  },
  {
   "cell_type": "code",
   "execution_count": 33,
   "metadata": {},
   "outputs": [],
   "source": [
    "toxval.species_common.unique().tolist()\n",
    "\n",
    "toxval['species_common'] = [e.lower() for e in toxval['species_common']]"
   ]
  },
  {
   "cell_type": "code",
   "execution_count": 34,
   "metadata": {},
   "outputs": [],
   "source": [
    "#[e for e in toxval['species_common'] if 'rat' in e]"
   ]
  },
  {
   "cell_type": "code",
   "execution_count": 35,
   "metadata": {},
   "outputs": [],
   "source": [
    "#import re\n",
    "#regex=re.compile(\".*rat.*\")\n",
    "#set([m.group(0) for l in toxval['species_common'] for m in [regex.search(l)] if m])"
   ]
  },
  {
   "cell_type": "code",
   "execution_count": 36,
   "metadata": {},
   "outputs": [
    {
     "data": {
      "text/plain": [
       "Index(['casrn', 'name', 'DTXSID', 'dsstox_compound_id', 'qsar_ready_smiles',\n",
       "       'chemical_id_original', 'quality_id', 'source', 'subsource',\n",
       "       'toxval_type', 'toxval_type_original', 'toxval_subtype',\n",
       "       'toxval_subtype_original', 'toxval_numeric', 'toxval_numeric_original',\n",
       "       'toxval_numeric_qualifier', 'toxval_numeric_qualifier_original',\n",
       "       'toxval_units', 'toxval_units_original', 'risk_assessment_class',\n",
       "       'study_type', 'study_type_original', 'study_duration_class',\n",
       "       'study_duration_class_original', 'study_duration_value',\n",
       "       'study_duration_value_original', 'study_duration_units',\n",
       "       'study_duration_units_original', 'species_common', 'strain',\n",
       "       'strain_original', 'sex', 'sex_original', 'population',\n",
       "       'exposure_route', 'exposure_route_original', 'exposure_method',\n",
       "       'exposure_method_original', 'exposure_form', 'exposure_form_original',\n",
       "       'media', 'media_original', 'year', 'year_original', 'human_eco',\n",
       "       'critical_effect', 'details_text', 'datestamp', 'lifestage',\n",
       "       'generation', 'study_length'],\n",
       "      dtype='object')"
      ]
     },
     "execution_count": 36,
     "metadata": {},
     "output_type": "execute_result"
    }
   ],
   "source": [
    "toxval.columns"
   ]
  },
  {
   "cell_type": "code",
   "execution_count": 37,
   "metadata": {},
   "outputs": [
    {
     "name": "stderr",
     "output_type": "stream",
     "text": [
      "/home/grace/anaconda3/envs/clone_newchem/lib/python3.6/site-packages/IPython/core/interactiveshell.py:3057: DtypeWarning: Columns (26) have mixed types. Specify dtype option on import or set low_memory=False.\n",
      "  interactivity=interactivity, compiler=compiler, result=result)\n"
     ]
    }
   ],
   "source": [
    "toxval7 = pd.read_csv(raw_dat_dir+'ToxVal_v7.csv')"
   ]
  },
  {
   "cell_type": "code",
   "execution_count": 38,
   "metadata": {},
   "outputs": [
    {
     "data": {
      "text/plain": [
       "(675694, 34)"
      ]
     },
     "execution_count": 38,
     "metadata": {},
     "output_type": "execute_result"
    }
   ],
   "source": [
    "toxval7.shape"
   ]
  },
  {
   "cell_type": "markdown",
   "metadata": {},
   "source": [
    "### Checking if toxval7 and toxval are the same as far as study length"
   ]
  },
  {
   "cell_type": "code",
   "execution_count": 39,
   "metadata": {},
   "outputs": [
    {
     "data": {
      "text/plain": [
       "subacute                          180129\n",
       "acute                             173829\n",
       "chronic                           114502\n",
       "subchronic                         54861\n",
       "reproductive                       42711\n",
       "ecotoxicity invertebrate           38178\n",
       "short-term                         26730\n",
       "developmental                      10563\n",
       "cancer                              7222\n",
       "repeat dose                         6001\n",
       "genotoxicity                        4205\n",
       "ecotoxicity plants                  3892\n",
       "multigenerational reproductive      3471\n",
       "chemcial property                   2862\n",
       "water quality                       1854\n",
       "neurotoxicity                       1689\n",
       "reproductive developmental          1187\n",
       "developmental neurotoxicity          745\n",
       "special toxicity study               421\n",
       "air quality                          345\n",
       "human                                142\n",
       "clinical                             119\n",
       "Immunotoxicology                      24\n",
       "subacute, subchronic                   4\n",
       "cancer, repeat dose                    2\n",
       "subacute, neurotoxicity                2\n",
       "genotoxicity, repeat dose              2\n",
       "in vitro                               1\n",
       "chronic, subchronic                    1\n",
       "Name: study_length, dtype: int64"
      ]
     },
     "execution_count": 39,
     "metadata": {},
     "output_type": "execute_result"
    }
   ],
   "source": [
    "toxval7['study_length'].value_counts(dropna = False)"
   ]
  },
  {
   "cell_type": "code",
   "execution_count": 40,
   "metadata": {},
   "outputs": [],
   "source": [
    "toxval['que'] = np.where((toxval['study_length'] == toxval7['study_length']),toxval['study_length'], np.nan)"
   ]
  },
  {
   "cell_type": "code",
   "execution_count": 41,
   "metadata": {},
   "outputs": [
    {
     "data": {
      "text/plain": [
       "subacute                          180129\n",
       "acute                             173829\n",
       "chronic                           114502\n",
       "subchronic                         54861\n",
       "reproductive                       42711\n",
       "ecotoxicity invertebrate           38178\n",
       "short-term                         26730\n",
       "developmental                      10563\n",
       "cancer                              7222\n",
       "repeat dose                         6001\n",
       "genotoxicity                        4205\n",
       "ecotoxicity plants                  3892\n",
       "multigenerational reproductive      3471\n",
       "chemcial property                   2862\n",
       "water quality                       1854\n",
       "neurotoxicity                       1689\n",
       "reproductive developmental          1187\n",
       "developmental neurotoxicity          745\n",
       "special toxicity study               421\n",
       "air quality                          345\n",
       "human                                142\n",
       "clinical                             119\n",
       "Immunotoxicology                      24\n",
       "subacute, subchronic                   4\n",
       "cancer, repeat dose                    2\n",
       "subacute, neurotoxicity                2\n",
       "genotoxicity, repeat dose              2\n",
       "in vitro                               1\n",
       "chronic, subchronic                    1\n",
       "Name: que, dtype: int64"
      ]
     },
     "execution_count": 41,
     "metadata": {},
     "output_type": "execute_result"
    }
   ],
   "source": [
    "toxval['que'].value_counts(dropna = False)"
   ]
  },
  {
   "cell_type": "code",
   "execution_count": 43,
   "metadata": {},
   "outputs": [],
   "source": [
    "#toxval.to_csv(processed_dat_dir+'ToxVal_wstudylength.csv')"
   ]
  },
  {
   "cell_type": "code",
   "execution_count": null,
   "metadata": {},
   "outputs": [],
   "source": []
  },
  {
   "cell_type": "code",
   "execution_count": null,
   "metadata": {},
   "outputs": [],
   "source": []
  },
  {
   "cell_type": "code",
   "execution_count": null,
   "metadata": {},
   "outputs": [],
   "source": []
  },
  {
   "cell_type": "code",
   "execution_count": null,
   "metadata": {},
   "outputs": [],
   "source": []
  },
  {
   "cell_type": "code",
   "execution_count": null,
   "metadata": {},
   "outputs": [],
   "source": []
  },
  {
   "cell_type": "code",
   "execution_count": null,
   "metadata": {},
   "outputs": [],
   "source": []
  },
  {
   "cell_type": "code",
   "execution_count": null,
   "metadata": {},
   "outputs": [],
   "source": []
  },
  {
   "cell_type": "code",
   "execution_count": null,
   "metadata": {},
   "outputs": [],
   "source": []
  },
  {
   "cell_type": "code",
   "execution_count": null,
   "metadata": {},
   "outputs": [],
   "source": []
  },
  {
   "cell_type": "code",
   "execution_count": null,
   "metadata": {},
   "outputs": [],
   "source": []
  },
  {
   "cell_type": "code",
   "execution_count": null,
   "metadata": {},
   "outputs": [],
   "source": []
  },
  {
   "cell_type": "code",
   "execution_count": null,
   "metadata": {},
   "outputs": [],
   "source": []
  },
  {
   "cell_type": "code",
   "execution_count": null,
   "metadata": {},
   "outputs": [],
   "source": []
  }
 ],
 "metadata": {
  "kernelspec": {
   "display_name": "nbdev_chem",
   "language": "python",
   "name": "nbdev_chem"
  },
  "language_info": {
   "codemirror_mode": {
    "name": "ipython",
    "version": 3
   },
   "file_extension": ".py",
   "mimetype": "text/x-python",
   "name": "python",
   "nbconvert_exporter": "python",
   "pygments_lexer": "ipython3",
   "version": "3.6.4"
  }
 },
 "nbformat": 4,
 "nbformat_minor": 2
}
