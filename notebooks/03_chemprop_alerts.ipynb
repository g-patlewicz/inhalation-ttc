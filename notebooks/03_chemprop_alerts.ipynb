{
 "cells": [
  {
   "cell_type": "code",
   "execution_count": 1,
   "metadata": {},
   "outputs": [],
   "source": [
    "raw_dat_dir = '/home/grace/Documents/python/ttc_inhalation/data/raw/'\n",
    "processed_dat_dir = '/home/grace/Documents/python/ttc_inhalation/data/processed/'\n",
    "interim_dat_dir = '/home/grace/Documents/python/ttc_inhalation/data/interim/'"
   ]
  },
  {
   "cell_type": "code",
   "execution_count": 2,
   "metadata": {},
   "outputs": [],
   "source": [
    "import pandas as pd\n",
    "import numpy as np\n",
    "import matplotlib.pyplot as plt\n",
    "import seaborn as sns\n",
    "%matplotlib inline"
   ]
  },
  {
   "cell_type": "code",
   "execution_count": 3,
   "metadata": {},
   "outputs": [],
   "source": [
    "import os\n",
    "import glob"
   ]
  },
  {
   "cell_type": "markdown",
   "metadata": {},
   "source": [
    "### Import chemical properties"
   ]
  },
  {
   "cell_type": "code",
   "execution_count": 4,
   "metadata": {},
   "outputs": [],
   "source": [
    "chem_prop = pd.read_csv(processed_dat_dir+'ToxVal_v7_chem_prop.csv')"
   ]
  },
  {
   "cell_type": "code",
   "execution_count": 5,
   "metadata": {},
   "outputs": [
    {
     "data": {
      "text/plain": [
       "(4703, 62)"
      ]
     },
     "execution_count": 5,
     "metadata": {},
     "output_type": "execute_result"
    }
   ],
   "source": [
    "chem_prop.shape"
   ]
  },
  {
   "cell_type": "code",
   "execution_count": 6,
   "metadata": {},
   "outputs": [
    {
     "name": "stderr",
     "output_type": "stream",
     "text": [
      "/home/grace/anaconda3/envs/clone_newchem/lib/python3.6/site-packages/IPython/core/interactiveshell.py:3057: DtypeWarning: Columns (26,43,44) have mixed types. Specify dtype option on import or set low_memory=False.\n",
      "  interactivity=interactivity, compiler=compiler, result=result)\n"
     ]
    }
   ],
   "source": [
    "toxval = pd.read_csv(processed_dat_dir+'ToxVal_wstudylength.csv')"
   ]
  },
  {
   "cell_type": "code",
   "execution_count": 7,
   "metadata": {},
   "outputs": [],
   "source": [
    "#toxval.columns.tolist()\n",
    "#toxval.toxval_units.unique()"
   ]
  },
  {
   "cell_type": "code",
   "execution_count": 8,
   "metadata": {},
   "outputs": [],
   "source": [
    "#toxval.exposure_route.unique()"
   ]
  },
  {
   "cell_type": "code",
   "execution_count": 9,
   "metadata": {},
   "outputs": [],
   "source": [
    "toxval_chemprop = pd.merge(toxval, chem_prop, on = 'DTXSID', how = 'left')"
   ]
  },
  {
   "cell_type": "code",
   "execution_count": 10,
   "metadata": {},
   "outputs": [
    {
     "data": {
      "text/plain": [
       "(675694, 114)"
      ]
     },
     "execution_count": 10,
     "metadata": {},
     "output_type": "execute_result"
    }
   ],
   "source": [
    "toxval_chemprop.shape"
   ]
  },
  {
   "cell_type": "markdown",
   "metadata": {},
   "source": [
    "### ppm to mgm3 unit conversions: Basic equation for conversions: mg/m3 = ppm* Mol Weight/24.45"
   ]
  },
  {
   "cell_type": "code",
   "execution_count": 11,
   "metadata": {},
   "outputs": [],
   "source": [
    "mgm3_units = []\n",
    "for x, y, z, a in list(zip(toxval_chemprop['exposure_route'], toxval_chemprop['toxval_units'], toxval_chemprop['MolWeight'], toxval_chemprop['toxval_numeric'])):\n",
    "    if (x == 'inhalation' and y == 'ppm') or (x == 'inhalation' and y == 'mg/L'):\n",
    "        xx = (a*z)/24.45\n",
    "        mgm3_units.append(xx)\n",
    "    elif (x == \"inhalation\" and y == \"g/m3\"):\n",
    "        mgm3_units.append(a * 1000)\n",
    "    elif (x == \"inhalation\" and y == \"ug/m3\"):\n",
    "        mgm3_units.append(a / 1000)\n",
    "    elif (x == \"inhalation\" and y == \"mg/m\") or (x == \"inhalation\" and y == \"mg/m3\"):\n",
    "        mgm3_units.append(a)\n",
    "    else:\n",
    "        mgm3_units.append(a)\n",
    "    "
   ]
  },
  {
   "cell_type": "code",
   "execution_count": 12,
   "metadata": {},
   "outputs": [
    {
     "data": {
      "text/plain": [
       "675694"
      ]
     },
     "execution_count": 12,
     "metadata": {},
     "output_type": "execute_result"
    }
   ],
   "source": [
    "len(mgm3_units)"
   ]
  },
  {
   "cell_type": "markdown",
   "metadata": {},
   "source": [
    "### mg/m3 to ppm conversion: Basic equation used: ppm = (24.45 * mg/m3) / Mol Weight"
   ]
  },
  {
   "cell_type": "code",
   "execution_count": 13,
   "metadata": {},
   "outputs": [],
   "source": [
    "ppm_units = []\n",
    "for x, y, z, a in list(zip(toxval_chemprop['exposure_route'], toxval_chemprop['toxval_units'], toxval_chemprop['MolWeight'], toxval_chemprop['toxval_numeric'])):\n",
    "    if (x == 'inhalation' and y == 'mg/m') or (x == 'inhalation' and y == 'mg/m3'):\n",
    "        xx = (a*24.45)/z\n",
    "        ppm_units.append(xx)\n",
    "    elif (x == \"inhalation\" and y == \"g/m3\"):\n",
    "        xy = (24.45 * (a * 1000)) / z\n",
    "        ppm_units.append(xy)\n",
    "    elif (x == \"inhalation\" and y == \"ug/m3\"):\n",
    "        bb = (24.45 * (a/1000)) / z\n",
    "        ppm_units.append(bb)\n",
    "    elif (x == \"inhalation\" and y == \"ppm\") or (x == \"inhalation\" and y == \"mg/L\"):\n",
    "        ppm_units.append(a)\n",
    "    else:\n",
    "        ppm_units.append(a)\n",
    "    "
   ]
  },
  {
   "cell_type": "code",
   "execution_count": 14,
   "metadata": {},
   "outputs": [
    {
     "data": {
      "text/plain": [
       "675694"
      ]
     },
     "execution_count": 14,
     "metadata": {},
     "output_type": "execute_result"
    }
   ],
   "source": [
    "len(ppm_units)"
   ]
  },
  {
   "cell_type": "code",
   "execution_count": 15,
   "metadata": {},
   "outputs": [],
   "source": [
    "toxval_chemprop['toxval_ppm'] = ppm_units\n",
    "toxval_chemprop['toxval_mgm3'] = mgm3_units"
   ]
  },
  {
   "cell_type": "code",
   "execution_count": 16,
   "metadata": {},
   "outputs": [],
   "source": [
    "toolbox = pd.read_csv(processed_dat_dir+'Toolbox_out.csv')"
   ]
  },
  {
   "cell_type": "code",
   "execution_count": 17,
   "metadata": {},
   "outputs": [
    {
     "data": {
      "text/html": [
       "<div>\n",
       "<style scoped>\n",
       "    .dataframe tbody tr th:only-of-type {\n",
       "        vertical-align: middle;\n",
       "    }\n",
       "\n",
       "    .dataframe tbody tr th {\n",
       "        vertical-align: top;\n",
       "    }\n",
       "\n",
       "    .dataframe thead th {\n",
       "        text-align: right;\n",
       "    }\n",
       "</style>\n",
       "<table border=\"1\" class=\"dataframe\">\n",
       "  <thead>\n",
       "    <tr style=\"text-align: right;\">\n",
       "      <th></th>\n",
       "      <th>CAS</th>\n",
       "      <th>Chemical name(s)</th>\n",
       "      <th>SMILES</th>\n",
       "      <th>Molecular Formula</th>\n",
       "      <th>Predefined substance type</th>\n",
       "      <th>Additional Ids</th>\n",
       "      <th>Composition</th>\n",
       "      <th>CAS Smiles relation</th>\n",
       "      <th>Eye irritation/corrosion Exclusion rules by BfR</th>\n",
       "      <th>Eye irritation/corrosion Inclusion rules by BfR</th>\n",
       "      <th>Respiratory sensitisation</th>\n",
       "      <th>Skin irritation/corrosion Exclusion rules by BfR</th>\n",
       "      <th>Skin irritation/corrosion Inclusion rules by BfR</th>\n",
       "    </tr>\n",
       "  </thead>\n",
       "  <tbody>\n",
       "    <tr>\n",
       "      <th>0</th>\n",
       "      <td>No CAS number</td>\n",
       "      <td>38480;Ethylbenzene;DTXSID3020596</td>\n",
       "      <td>CCc1ccccc1</td>\n",
       "      <td>C8H10</td>\n",
       "      <td>Mono constituent</td>\n",
       "      <td>NaN</td>\n",
       "      <td>NaN</td>\n",
       "      <td>Not applicable</td>\n",
       "      <td>Undefined</td>\n",
       "      <td>Inclusion rules not met</td>\n",
       "      <td>No alert found</td>\n",
       "      <td>Group C Surface Tension &gt; 62 mN/m;Undefined</td>\n",
       "      <td>Inclusion rules not met</td>\n",
       "    </tr>\n",
       "    <tr>\n",
       "      <th>1</th>\n",
       "      <td>No CAS number</td>\n",
       "      <td>vinylbenzene;DTXSID2021284</td>\n",
       "      <td>C=Cc1ccccc1</td>\n",
       "      <td>C8H8</td>\n",
       "      <td>Mono constituent</td>\n",
       "      <td>NaN</td>\n",
       "      <td>NaN</td>\n",
       "      <td>Not applicable</td>\n",
       "      <td>Undefined</td>\n",
       "      <td>Inclusion rules not met</td>\n",
       "      <td>Pro-SN2;Pro-SN2 &gt;&gt; Pro-ring opening SN2;Pro-SN...</td>\n",
       "      <td>Undefined</td>\n",
       "      <td>Inclusion rules not met</td>\n",
       "    </tr>\n",
       "    <tr>\n",
       "      <th>2</th>\n",
       "      <td>No CAS number</td>\n",
       "      <td>DTXSID5020865</td>\n",
       "      <td>Nc1ccc(Cc2ccc(N)c(Cl)c2)cc1Cl</td>\n",
       "      <td>C13H12Cl2N2</td>\n",
       "      <td>Mono constituent</td>\n",
       "      <td>NaN</td>\n",
       "      <td>NaN</td>\n",
       "      <td>Not applicable</td>\n",
       "      <td>Group All Melting Point &gt; 200 C;Group CNHal Aq...</td>\n",
       "      <td>Inclusion rules not met</td>\n",
       "      <td>No alert found</td>\n",
       "      <td>Group All Melting Point &gt; 200 C;Group CNHal Aq...</td>\n",
       "      <td>Aromatic amines</td>\n",
       "    </tr>\n",
       "    <tr>\n",
       "      <th>3</th>\n",
       "      <td>No CAS number</td>\n",
       "      <td>DTXSID7025180</td>\n",
       "      <td>O=C=Nc1ccc(Cc2ccc(cc2)N=C=O)cc1</td>\n",
       "      <td>C15H10N2O2</td>\n",
       "      <td>Mono constituent</td>\n",
       "      <td>NaN</td>\n",
       "      <td>NaN</td>\n",
       "      <td>Not applicable</td>\n",
       "      <td>Group CN Aqueous Solubility &lt; 0.1 g/L;Group CN...</td>\n",
       "      <td>Inclusion rules not met</td>\n",
       "      <td>Acylation;Acylation &gt;&gt; Isocyanates and related...</td>\n",
       "      <td>Group CN Aqueous Solubility &lt; 0.1 g/L;Group CN...</td>\n",
       "      <td>Inclusion rules not met</td>\n",
       "    </tr>\n",
       "    <tr>\n",
       "      <th>4</th>\n",
       "      <td>No CAS number</td>\n",
       "      <td>DTXSID6022422</td>\n",
       "      <td>Nc1ccc(Cc2ccc(N)cc2)cc1</td>\n",
       "      <td>C13H14N2</td>\n",
       "      <td>Mono constituent</td>\n",
       "      <td>NaN</td>\n",
       "      <td>NaN</td>\n",
       "      <td>Not applicable</td>\n",
       "      <td>Undefined</td>\n",
       "      <td>Inclusion rules not met</td>\n",
       "      <td>No alert found</td>\n",
       "      <td>Group CN Vapour Pressure &lt; 0.001 Pa;Undefined</td>\n",
       "      <td>Aromatic amines</td>\n",
       "    </tr>\n",
       "  </tbody>\n",
       "</table>\n",
       "</div>"
      ],
      "text/plain": [
       "             CAS                  Chemical name(s)  \\\n",
       "0  No CAS number  38480;Ethylbenzene;DTXSID3020596   \n",
       "1  No CAS number        vinylbenzene;DTXSID2021284   \n",
       "2  No CAS number                     DTXSID5020865   \n",
       "3  No CAS number                     DTXSID7025180   \n",
       "4  No CAS number                     DTXSID6022422   \n",
       "\n",
       "                            SMILES Molecular Formula  \\\n",
       "0                       CCc1ccccc1             C8H10   \n",
       "1                      C=Cc1ccccc1              C8H8   \n",
       "2    Nc1ccc(Cc2ccc(N)c(Cl)c2)cc1Cl       C13H12Cl2N2   \n",
       "3  O=C=Nc1ccc(Cc2ccc(cc2)N=C=O)cc1        C15H10N2O2   \n",
       "4          Nc1ccc(Cc2ccc(N)cc2)cc1          C13H14N2   \n",
       "\n",
       "  Predefined substance type Additional Ids  Composition CAS Smiles relation  \\\n",
       "0          Mono constituent            NaN          NaN      Not applicable   \n",
       "1          Mono constituent            NaN          NaN      Not applicable   \n",
       "2          Mono constituent            NaN          NaN      Not applicable   \n",
       "3          Mono constituent            NaN          NaN      Not applicable   \n",
       "4          Mono constituent            NaN          NaN      Not applicable   \n",
       "\n",
       "     Eye irritation/corrosion Exclusion rules by BfR  \\\n",
       "0                                          Undefined   \n",
       "1                                          Undefined   \n",
       "2  Group All Melting Point > 200 C;Group CNHal Aq...   \n",
       "3  Group CN Aqueous Solubility < 0.1 g/L;Group CN...   \n",
       "4                                          Undefined   \n",
       "\n",
       "  Eye irritation/corrosion Inclusion rules by BfR  \\\n",
       "0                         Inclusion rules not met   \n",
       "1                         Inclusion rules not met   \n",
       "2                         Inclusion rules not met   \n",
       "3                         Inclusion rules not met   \n",
       "4                         Inclusion rules not met   \n",
       "\n",
       "                           Respiratory sensitisation  \\\n",
       "0                                     No alert found   \n",
       "1  Pro-SN2;Pro-SN2 >> Pro-ring opening SN2;Pro-SN...   \n",
       "2                                     No alert found   \n",
       "3  Acylation;Acylation >> Isocyanates and related...   \n",
       "4                                     No alert found   \n",
       "\n",
       "    Skin irritation/corrosion Exclusion rules by BfR  \\\n",
       "0        Group C Surface Tension > 62 mN/m;Undefined   \n",
       "1                                          Undefined   \n",
       "2  Group All Melting Point > 200 C;Group CNHal Aq...   \n",
       "3  Group CN Aqueous Solubility < 0.1 g/L;Group CN...   \n",
       "4      Group CN Vapour Pressure < 0.001 Pa;Undefined   \n",
       "\n",
       "  Skin irritation/corrosion Inclusion rules by BfR  \n",
       "0                          Inclusion rules not met  \n",
       "1                          Inclusion rules not met  \n",
       "2                                  Aromatic amines  \n",
       "3                          Inclusion rules not met  \n",
       "4                                  Aromatic amines  "
      ]
     },
     "execution_count": 17,
     "metadata": {},
     "output_type": "execute_result"
    }
   ],
   "source": [
    "toolbox.head()"
   ]
  },
  {
   "cell_type": "code",
   "execution_count": 18,
   "metadata": {},
   "outputs": [],
   "source": [
    "import re\n",
    "p = re.compile(r'DTXSID\\d{1,}')"
   ]
  },
  {
   "cell_type": "code",
   "execution_count": 19,
   "metadata": {},
   "outputs": [],
   "source": [
    "dtxsid = [m.group(0) for l in toolbox['Chemical name(s)'] for m in [p.search(l)] if m]"
   ]
  },
  {
   "cell_type": "code",
   "execution_count": 20,
   "metadata": {},
   "outputs": [
    {
     "data": {
      "text/plain": [
       "4702"
      ]
     },
     "execution_count": 20,
     "metadata": {},
     "output_type": "execute_result"
    }
   ],
   "source": [
    "len(dtxsid)"
   ]
  },
  {
   "cell_type": "code",
   "execution_count": 21,
   "metadata": {},
   "outputs": [],
   "source": [
    "toolbox = toolbox[toolbox['Chemical name(s)'].str.contains('DTXSID')]"
   ]
  },
  {
   "cell_type": "code",
   "execution_count": 22,
   "metadata": {},
   "outputs": [],
   "source": [
    "toolbox['DTXSID'] = dtxsid"
   ]
  },
  {
   "cell_type": "code",
   "execution_count": 23,
   "metadata": {},
   "outputs": [],
   "source": [
    "toolbox.drop(['CAS', 'Chemical name(s)', 'Additional Ids', 'Composition', 'CAS Smiles relation'], axis = 1, inplace = True)\n"
   ]
  },
  {
   "cell_type": "code",
   "execution_count": 24,
   "metadata": {},
   "outputs": [],
   "source": [
    "toolbox = toolbox[['DTXSID','SMILES','Eye irritation/corrosion Exclusion rules by BfR',\n",
    "       'Eye irritation/corrosion Inclusion rules by BfR',\n",
    "       'Respiratory sensitisation',\n",
    "       'Skin irritation/corrosion Exclusion rules by BfR',\n",
    "       'Skin irritation/corrosion Inclusion rules by BfR' ]]"
   ]
  },
  {
   "cell_type": "code",
   "execution_count": 25,
   "metadata": {},
   "outputs": [],
   "source": [
    "toolbox.columns = ['DTXSID','SMILES','BfR_eye_exclusion', 'BfR_eye_inclusion', 'resp_sens', 'BfR_skin_exclusion', 'BfR_skin_inclusion']"
   ]
  },
  {
   "cell_type": "code",
   "execution_count": 26,
   "metadata": {},
   "outputs": [
    {
     "data": {
      "text/html": [
       "<div>\n",
       "<style scoped>\n",
       "    .dataframe tbody tr th:only-of-type {\n",
       "        vertical-align: middle;\n",
       "    }\n",
       "\n",
       "    .dataframe tbody tr th {\n",
       "        vertical-align: top;\n",
       "    }\n",
       "\n",
       "    .dataframe thead th {\n",
       "        text-align: right;\n",
       "    }\n",
       "</style>\n",
       "<table border=\"1\" class=\"dataframe\">\n",
       "  <thead>\n",
       "    <tr style=\"text-align: right;\">\n",
       "      <th></th>\n",
       "      <th>DTXSID</th>\n",
       "      <th>SMILES</th>\n",
       "      <th>BfR_eye_exclusion</th>\n",
       "      <th>BfR_eye_inclusion</th>\n",
       "      <th>resp_sens</th>\n",
       "      <th>BfR_skin_exclusion</th>\n",
       "      <th>BfR_skin_inclusion</th>\n",
       "    </tr>\n",
       "  </thead>\n",
       "  <tbody>\n",
       "    <tr>\n",
       "      <th>0</th>\n",
       "      <td>DTXSID3020596</td>\n",
       "      <td>CCc1ccccc1</td>\n",
       "      <td>Undefined</td>\n",
       "      <td>Inclusion rules not met</td>\n",
       "      <td>No alert found</td>\n",
       "      <td>Group C Surface Tension &gt; 62 mN/m;Undefined</td>\n",
       "      <td>Inclusion rules not met</td>\n",
       "    </tr>\n",
       "    <tr>\n",
       "      <th>1</th>\n",
       "      <td>DTXSID2021284</td>\n",
       "      <td>C=Cc1ccccc1</td>\n",
       "      <td>Undefined</td>\n",
       "      <td>Inclusion rules not met</td>\n",
       "      <td>Pro-SN2;Pro-SN2 &gt;&gt; Pro-ring opening SN2;Pro-SN...</td>\n",
       "      <td>Undefined</td>\n",
       "      <td>Inclusion rules not met</td>\n",
       "    </tr>\n",
       "    <tr>\n",
       "      <th>2</th>\n",
       "      <td>DTXSID5020865</td>\n",
       "      <td>Nc1ccc(Cc2ccc(N)c(Cl)c2)cc1Cl</td>\n",
       "      <td>Group All Melting Point &gt; 200 C;Group CNHal Aq...</td>\n",
       "      <td>Inclusion rules not met</td>\n",
       "      <td>No alert found</td>\n",
       "      <td>Group All Melting Point &gt; 200 C;Group CNHal Aq...</td>\n",
       "      <td>Aromatic amines</td>\n",
       "    </tr>\n",
       "    <tr>\n",
       "      <th>3</th>\n",
       "      <td>DTXSID7025180</td>\n",
       "      <td>O=C=Nc1ccc(Cc2ccc(cc2)N=C=O)cc1</td>\n",
       "      <td>Group CN Aqueous Solubility &lt; 0.1 g/L;Group CN...</td>\n",
       "      <td>Inclusion rules not met</td>\n",
       "      <td>Acylation;Acylation &gt;&gt; Isocyanates and related...</td>\n",
       "      <td>Group CN Aqueous Solubility &lt; 0.1 g/L;Group CN...</td>\n",
       "      <td>Inclusion rules not met</td>\n",
       "    </tr>\n",
       "    <tr>\n",
       "      <th>4</th>\n",
       "      <td>DTXSID6022422</td>\n",
       "      <td>Nc1ccc(Cc2ccc(N)cc2)cc1</td>\n",
       "      <td>Undefined</td>\n",
       "      <td>Inclusion rules not met</td>\n",
       "      <td>No alert found</td>\n",
       "      <td>Group CN Vapour Pressure &lt; 0.001 Pa;Undefined</td>\n",
       "      <td>Aromatic amines</td>\n",
       "    </tr>\n",
       "  </tbody>\n",
       "</table>\n",
       "</div>"
      ],
      "text/plain": [
       "          DTXSID                           SMILES  \\\n",
       "0  DTXSID3020596                       CCc1ccccc1   \n",
       "1  DTXSID2021284                      C=Cc1ccccc1   \n",
       "2  DTXSID5020865    Nc1ccc(Cc2ccc(N)c(Cl)c2)cc1Cl   \n",
       "3  DTXSID7025180  O=C=Nc1ccc(Cc2ccc(cc2)N=C=O)cc1   \n",
       "4  DTXSID6022422          Nc1ccc(Cc2ccc(N)cc2)cc1   \n",
       "\n",
       "                                   BfR_eye_exclusion        BfR_eye_inclusion  \\\n",
       "0                                          Undefined  Inclusion rules not met   \n",
       "1                                          Undefined  Inclusion rules not met   \n",
       "2  Group All Melting Point > 200 C;Group CNHal Aq...  Inclusion rules not met   \n",
       "3  Group CN Aqueous Solubility < 0.1 g/L;Group CN...  Inclusion rules not met   \n",
       "4                                          Undefined  Inclusion rules not met   \n",
       "\n",
       "                                           resp_sens  \\\n",
       "0                                     No alert found   \n",
       "1  Pro-SN2;Pro-SN2 >> Pro-ring opening SN2;Pro-SN...   \n",
       "2                                     No alert found   \n",
       "3  Acylation;Acylation >> Isocyanates and related...   \n",
       "4                                     No alert found   \n",
       "\n",
       "                                  BfR_skin_exclusion       BfR_skin_inclusion  \n",
       "0        Group C Surface Tension > 62 mN/m;Undefined  Inclusion rules not met  \n",
       "1                                          Undefined  Inclusion rules not met  \n",
       "2  Group All Melting Point > 200 C;Group CNHal Aq...          Aromatic amines  \n",
       "3  Group CN Aqueous Solubility < 0.1 g/L;Group CN...  Inclusion rules not met  \n",
       "4      Group CN Vapour Pressure < 0.001 Pa;Undefined          Aromatic amines  "
      ]
     },
     "execution_count": 26,
     "metadata": {},
     "output_type": "execute_result"
    }
   ],
   "source": [
    "toolbox.head()"
   ]
  },
  {
   "cell_type": "code",
   "execution_count": 27,
   "metadata": {},
   "outputs": [],
   "source": [
    "toolbox['BfR_skin_inclusion'] = [e.replace(';','|') for e in toolbox['BfR_skin_inclusion'] ]\n"
   ]
  },
  {
   "cell_type": "code",
   "execution_count": 28,
   "metadata": {},
   "outputs": [],
   "source": [
    "toolbox['BfR_eye_inclusion'] = [e.replace(';','|') for e in toolbox['BfR_eye_inclusion'] ]"
   ]
  },
  {
   "cell_type": "code",
   "execution_count": 29,
   "metadata": {},
   "outputs": [
    {
     "data": {
      "text/plain": [
       "(675694, 116)"
      ]
     },
     "execution_count": 29,
     "metadata": {},
     "output_type": "execute_result"
    }
   ],
   "source": [
    "toxval_chemprop.shape"
   ]
  },
  {
   "cell_type": "code",
   "execution_count": 30,
   "metadata": {},
   "outputs": [
    {
     "data": {
      "text/plain": [
       "(389, 116)"
      ]
     },
     "execution_count": 30,
     "metadata": {},
     "output_type": "execute_result"
    }
   ],
   "source": [
    "toxval_chemprop[toxval_chemprop['DTXSID'] == 'DTXSID3020596'].shape"
   ]
  },
  {
   "cell_type": "code",
   "execution_count": 31,
   "metadata": {},
   "outputs": [],
   "source": [
    "toxval_prop = pd.merge(toxval_chemprop, toolbox, on = 'DTXSID', how = 'left')"
   ]
  },
  {
   "cell_type": "code",
   "execution_count": 32,
   "metadata": {},
   "outputs": [],
   "source": [
    "toxval_prop.to_csv(processed_dat_dir+'ToxVal_wpred_properties.csv')"
   ]
  },
  {
   "cell_type": "code",
   "execution_count": 33,
   "metadata": {},
   "outputs": [
    {
     "data": {
      "text/plain": [
       "(675694, 122)"
      ]
     },
     "execution_count": 33,
     "metadata": {},
     "output_type": "execute_result"
    }
   ],
   "source": [
    "toxval_prop.shape"
   ]
  },
  {
   "cell_type": "code",
   "execution_count": 34,
   "metadata": {},
   "outputs": [
    {
     "data": {
      "text/html": [
       "<div>\n",
       "<style scoped>\n",
       "    .dataframe tbody tr th:only-of-type {\n",
       "        vertical-align: middle;\n",
       "    }\n",
       "\n",
       "    .dataframe tbody tr th {\n",
       "        vertical-align: top;\n",
       "    }\n",
       "\n",
       "    .dataframe thead th {\n",
       "        text-align: right;\n",
       "    }\n",
       "</style>\n",
       "<table border=\"1\" class=\"dataframe\">\n",
       "  <thead>\n",
       "    <tr style=\"text-align: right;\">\n",
       "      <th></th>\n",
       "      <th>Unnamed: 0_x</th>\n",
       "      <th>casrn</th>\n",
       "      <th>name</th>\n",
       "      <th>DTXSID</th>\n",
       "      <th>dsstox_compound_id</th>\n",
       "      <th>qsar_ready_smiles</th>\n",
       "      <th>chemical_id_original</th>\n",
       "      <th>quality_id</th>\n",
       "      <th>source</th>\n",
       "      <th>subsource</th>\n",
       "      <th>...</th>\n",
       "      <th>AD_index_AOH</th>\n",
       "      <th>Conf_index_AOH</th>\n",
       "      <th>toxval_ppm</th>\n",
       "      <th>toxval_mgm3</th>\n",
       "      <th>SMILES</th>\n",
       "      <th>BfR_eye_exclusion</th>\n",
       "      <th>BfR_eye_inclusion</th>\n",
       "      <th>resp_sens</th>\n",
       "      <th>BfR_skin_exclusion</th>\n",
       "      <th>BfR_skin_inclusion</th>\n",
       "    </tr>\n",
       "  </thead>\n",
       "  <tbody>\n",
       "    <tr>\n",
       "      <th>0</th>\n",
       "      <td>0</td>\n",
       "      <td>100-41-4</td>\n",
       "      <td>Ethylbenzene</td>\n",
       "      <td>DTXSID3020596</td>\n",
       "      <td>DTXCID10596</td>\n",
       "      <td>CCC1=CC=CC=C1</td>\n",
       "      <td>147</td>\n",
       "      <td>-1</td>\n",
       "      <td>ATSDR</td>\n",
       "      <td>CDC</td>\n",
       "      <td>...</td>\n",
       "      <td>0.911374</td>\n",
       "      <td>0.817831</td>\n",
       "      <td>2.00</td>\n",
       "      <td>8.677157</td>\n",
       "      <td>CCc1ccccc1</td>\n",
       "      <td>Undefined</td>\n",
       "      <td>Inclusion rules not met</td>\n",
       "      <td>No alert found</td>\n",
       "      <td>Group C Surface Tension &gt; 62 mN/m;Undefined</td>\n",
       "      <td>Inclusion rules not met</td>\n",
       "    </tr>\n",
       "    <tr>\n",
       "      <th>1</th>\n",
       "      <td>1</td>\n",
       "      <td>100-41-4</td>\n",
       "      <td>Ethylbenzene</td>\n",
       "      <td>DTXSID3020596</td>\n",
       "      <td>DTXCID10596</td>\n",
       "      <td>CCC1=CC=CC=C1</td>\n",
       "      <td>147</td>\n",
       "      <td>-1</td>\n",
       "      <td>ATSDR</td>\n",
       "      <td>CDC</td>\n",
       "      <td>...</td>\n",
       "      <td>0.911374</td>\n",
       "      <td>0.817831</td>\n",
       "      <td>18.00</td>\n",
       "      <td>78.094417</td>\n",
       "      <td>CCc1ccccc1</td>\n",
       "      <td>Undefined</td>\n",
       "      <td>Inclusion rules not met</td>\n",
       "      <td>No alert found</td>\n",
       "      <td>Group C Surface Tension &gt; 62 mN/m;Undefined</td>\n",
       "      <td>Inclusion rules not met</td>\n",
       "    </tr>\n",
       "    <tr>\n",
       "      <th>2</th>\n",
       "      <td>2</td>\n",
       "      <td>100-41-4</td>\n",
       "      <td>Ethylbenzene</td>\n",
       "      <td>DTXSID3020596</td>\n",
       "      <td>DTXCID10596</td>\n",
       "      <td>CCC1=CC=CC=C1</td>\n",
       "      <td>147</td>\n",
       "      <td>-1</td>\n",
       "      <td>ATSDR</td>\n",
       "      <td>CDC</td>\n",
       "      <td>...</td>\n",
       "      <td>0.911374</td>\n",
       "      <td>0.817831</td>\n",
       "      <td>5.00</td>\n",
       "      <td>21.692894</td>\n",
       "      <td>CCc1ccccc1</td>\n",
       "      <td>Undefined</td>\n",
       "      <td>Inclusion rules not met</td>\n",
       "      <td>No alert found</td>\n",
       "      <td>Group C Surface Tension &gt; 62 mN/m;Undefined</td>\n",
       "      <td>Inclusion rules not met</td>\n",
       "    </tr>\n",
       "    <tr>\n",
       "      <th>3</th>\n",
       "      <td>3</td>\n",
       "      <td>100-41-4</td>\n",
       "      <td>Ethylbenzene</td>\n",
       "      <td>DTXSID3020596</td>\n",
       "      <td>DTXCID10596</td>\n",
       "      <td>CCC1=CC=CC=C1</td>\n",
       "      <td>147</td>\n",
       "      <td>-1</td>\n",
       "      <td>ATSDR</td>\n",
       "      <td>CDC</td>\n",
       "      <td>...</td>\n",
       "      <td>0.911374</td>\n",
       "      <td>0.817831</td>\n",
       "      <td>12.00</td>\n",
       "      <td>12.000000</td>\n",
       "      <td>CCc1ccccc1</td>\n",
       "      <td>Undefined</td>\n",
       "      <td>Inclusion rules not met</td>\n",
       "      <td>No alert found</td>\n",
       "      <td>Group C Surface Tension &gt; 62 mN/m;Undefined</td>\n",
       "      <td>Inclusion rules not met</td>\n",
       "    </tr>\n",
       "    <tr>\n",
       "      <th>4</th>\n",
       "      <td>4</td>\n",
       "      <td>100-41-4</td>\n",
       "      <td>Ethylbenzene</td>\n",
       "      <td>DTXSID3020596</td>\n",
       "      <td>DTXCID10596</td>\n",
       "      <td>CCC1=CC=CC=C1</td>\n",
       "      <td>147</td>\n",
       "      <td>-1</td>\n",
       "      <td>ATSDR</td>\n",
       "      <td>CDC</td>\n",
       "      <td>...</td>\n",
       "      <td>0.911374</td>\n",
       "      <td>0.817831</td>\n",
       "      <td>0.06</td>\n",
       "      <td>0.260315</td>\n",
       "      <td>CCc1ccccc1</td>\n",
       "      <td>Undefined</td>\n",
       "      <td>Inclusion rules not met</td>\n",
       "      <td>No alert found</td>\n",
       "      <td>Group C Surface Tension &gt; 62 mN/m;Undefined</td>\n",
       "      <td>Inclusion rules not met</td>\n",
       "    </tr>\n",
       "  </tbody>\n",
       "</table>\n",
       "<p>5 rows × 122 columns</p>\n",
       "</div>"
      ],
      "text/plain": [
       "   Unnamed: 0_x     casrn          name         DTXSID dsstox_compound_id  \\\n",
       "0             0  100-41-4  Ethylbenzene  DTXSID3020596        DTXCID10596   \n",
       "1             1  100-41-4  Ethylbenzene  DTXSID3020596        DTXCID10596   \n",
       "2             2  100-41-4  Ethylbenzene  DTXSID3020596        DTXCID10596   \n",
       "3             3  100-41-4  Ethylbenzene  DTXSID3020596        DTXCID10596   \n",
       "4             4  100-41-4  Ethylbenzene  DTXSID3020596        DTXCID10596   \n",
       "\n",
       "  qsar_ready_smiles  chemical_id_original  quality_id source subsource  \\\n",
       "0     CCC1=CC=CC=C1                   147          -1  ATSDR       CDC   \n",
       "1     CCC1=CC=CC=C1                   147          -1  ATSDR       CDC   \n",
       "2     CCC1=CC=CC=C1                   147          -1  ATSDR       CDC   \n",
       "3     CCC1=CC=CC=C1                   147          -1  ATSDR       CDC   \n",
       "4     CCC1=CC=CC=C1                   147          -1  ATSDR       CDC   \n",
       "\n",
       "            ...            AD_index_AOH Conf_index_AOH toxval_ppm toxval_mgm3  \\\n",
       "0           ...                0.911374       0.817831       2.00    8.677157   \n",
       "1           ...                0.911374       0.817831      18.00   78.094417   \n",
       "2           ...                0.911374       0.817831       5.00   21.692894   \n",
       "3           ...                0.911374       0.817831      12.00   12.000000   \n",
       "4           ...                0.911374       0.817831       0.06    0.260315   \n",
       "\n",
       "       SMILES  BfR_eye_exclusion        BfR_eye_inclusion       resp_sens  \\\n",
       "0  CCc1ccccc1          Undefined  Inclusion rules not met  No alert found   \n",
       "1  CCc1ccccc1          Undefined  Inclusion rules not met  No alert found   \n",
       "2  CCc1ccccc1          Undefined  Inclusion rules not met  No alert found   \n",
       "3  CCc1ccccc1          Undefined  Inclusion rules not met  No alert found   \n",
       "4  CCc1ccccc1          Undefined  Inclusion rules not met  No alert found   \n",
       "\n",
       "                            BfR_skin_exclusion       BfR_skin_inclusion  \n",
       "0  Group C Surface Tension > 62 mN/m;Undefined  Inclusion rules not met  \n",
       "1  Group C Surface Tension > 62 mN/m;Undefined  Inclusion rules not met  \n",
       "2  Group C Surface Tension > 62 mN/m;Undefined  Inclusion rules not met  \n",
       "3  Group C Surface Tension > 62 mN/m;Undefined  Inclusion rules not met  \n",
       "4  Group C Surface Tension > 62 mN/m;Undefined  Inclusion rules not met  \n",
       "\n",
       "[5 rows x 122 columns]"
      ]
     },
     "execution_count": 34,
     "metadata": {},
     "output_type": "execute_result"
    }
   ],
   "source": [
    "toxval_prop.head()"
   ]
  },
  {
   "cell_type": "code",
   "execution_count": null,
   "metadata": {},
   "outputs": [],
   "source": []
  },
  {
   "cell_type": "code",
   "execution_count": null,
   "metadata": {},
   "outputs": [],
   "source": []
  },
  {
   "cell_type": "code",
   "execution_count": null,
   "metadata": {},
   "outputs": [],
   "source": []
  },
  {
   "cell_type": "code",
   "execution_count": null,
   "metadata": {},
   "outputs": [],
   "source": []
  },
  {
   "cell_type": "code",
   "execution_count": null,
   "metadata": {},
   "outputs": [],
   "source": []
  }
 ],
 "metadata": {
  "kernelspec": {
   "display_name": "nbdev_chem",
   "language": "python",
   "name": "nbdev_chem"
  },
  "language_info": {
   "codemirror_mode": {
    "name": "ipython",
    "version": 3
   },
   "file_extension": ".py",
   "mimetype": "text/x-python",
   "name": "python",
   "nbconvert_exporter": "python",
   "pygments_lexer": "ipython3",
   "version": "3.6.4"
  }
 },
 "nbformat": 4,
 "nbformat_minor": 2
}
