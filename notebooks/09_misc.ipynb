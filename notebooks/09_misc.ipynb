{
 "cells": [
  {
   "cell_type": "code",
   "execution_count": 1,
   "metadata": {},
   "outputs": [],
   "source": [
    "import numpy as np\n",
    "import pandas as pd\n",
    "import matplotlib.pyplot as plt\n",
    "import seaborn as sns\n",
    "%matplotlib inline\n"
   ]
  },
  {
   "cell_type": "code",
   "execution_count": 2,
   "metadata": {},
   "outputs": [],
   "source": [
    "raw_dat_dir = '/home/grace/Documents/python/ttc_inhalation/data/raw/'\n",
    "processed_dat_dir = '/home/grace/Documents/python/ttc_inhalation/data/processed/'\n",
    "interim_dat_dir = '/home/grace/Documents/python/ttc_inhalation/data/interim/'\n",
    "figures_dir = '/home/grace/Documents/python/ttc_inhalation/reports/figures/'\n"
   ]
  },
  {
   "cell_type": "code",
   "execution_count": 3,
   "metadata": {},
   "outputs": [],
   "source": [
    "ClassIII_rep_ppm = pd.read_csv(processed_dat_dir+'ClassIII_rep_ppm.csv')\n",
    "ClassIII_rep_mgm3 = pd.read_csv(processed_dat_dir+'ClassIII_rep_mgm3.csv')\n",
    "\n",
    "ClassII_rep_ppm = pd.read_csv(processed_dat_dir+'ClassII_rep_ppm.csv')\n",
    "ClassII_rep_mgm3 = pd.read_csv(processed_dat_dir+'ClassII_rep_mgm3.csv')\n",
    "\n",
    "ClassI_rep_ppm = pd.read_csv(processed_dat_dir+'ClassI_rep_ppm.csv')\n",
    "ClassI_rep_mgm3 = pd.read_csv(processed_dat_dir+'ClassI_rep_mgm3.csv')"
   ]
  },
  {
   "cell_type": "code",
   "execution_count": 25,
   "metadata": {},
   "outputs": [],
   "source": [
    "ClassIII_rep_ppm['Cramer'] = 3\n"
   ]
  },
  {
   "cell_type": "code",
   "execution_count": 27,
   "metadata": {},
   "outputs": [],
   "source": [
    "ClassI_rep_ppm['Cramer'] = 2\n",
    "ClassI_rep_ppm['Cramer'] = 1"
   ]
  },
  {
   "cell_type": "code",
   "execution_count": 29,
   "metadata": {},
   "outputs": [],
   "source": [
    "toxval_cramer_ppm = pd.concat([ClassI_rep_ppm, ClassII_rep_ppm, ClassIII_rep_ppm])"
   ]
  },
  {
   "cell_type": "code",
   "execution_count": 47,
   "metadata": {},
   "outputs": [],
   "source": [
    "ClassIII_rep_mgm3['Cramer'] = 3\n",
    "ClassI_rep_mgm3['Cramer'] = 2\n",
    "ClassI_rep_mgm3['Cramer'] = 1\n",
    "\n",
    "toxval_cramer_mgm3 = pd.concat([ClassI_rep_mgm3, ClassII_rep_mgm3, ClassIII_rep_mgm3])"
   ]
  },
  {
   "cell_type": "code",
   "execution_count": 7,
   "metadata": {},
   "outputs": [],
   "source": [
    "xls = pd.read_excel(raw_dat_dir+'Escher_2010_Appendix_A.xlsx')"
   ]
  },
  {
   "cell_type": "code",
   "execution_count": 8,
   "metadata": {},
   "outputs": [],
   "source": [
    "import re"
   ]
  },
  {
   "cell_type": "code",
   "execution_count": 10,
   "metadata": {},
   "outputs": [],
   "source": [
    "mylst = []\n",
    "xls['CAS#'] = [str(e) for e in xls.CAS]\n",
    "for item in xls['CAS#']:\n",
    "    for e in item.split():\n",
    "        a = e[-1]\n",
    "        b = e[-3]+e[-2]\n",
    "        c = e[:-3]\n",
    "        d = c + '-' + b+ '-' +a\n",
    "        mylst.append(d)\n",
    "xls['INPUT'] = mylst"
   ]
  },
  {
   "cell_type": "code",
   "execution_count": 11,
   "metadata": {},
   "outputs": [],
   "source": [
    "escher = pd.merge(xls, escher_smi, on = 'INPUT', how = 'left')"
   ]
  },
  {
   "cell_type": "code",
   "execution_count": 5,
   "metadata": {},
   "outputs": [],
   "source": [
    "escher_smi = pd.read_csv(raw_dat_dir+'Escher_2010_Appendix_A_SMILES.tsv', sep= '\\t')"
   ]
  },
  {
   "cell_type": "code",
   "execution_count": 6,
   "metadata": {},
   "outputs": [
    {
     "data": {
      "text/html": [
       "<div>\n",
       "<style scoped>\n",
       "    .dataframe tbody tr th:only-of-type {\n",
       "        vertical-align: middle;\n",
       "    }\n",
       "\n",
       "    .dataframe tbody tr th {\n",
       "        vertical-align: top;\n",
       "    }\n",
       "\n",
       "    .dataframe thead th {\n",
       "        text-align: right;\n",
       "    }\n",
       "</style>\n",
       "<table border=\"1\" class=\"dataframe\">\n",
       "  <thead>\n",
       "    <tr style=\"text-align: right;\">\n",
       "      <th></th>\n",
       "      <th>INPUT</th>\n",
       "      <th>FOUND_BY</th>\n",
       "      <th>DTXSID</th>\n",
       "      <th>PREFERRED_NAME</th>\n",
       "      <th>SMILES</th>\n",
       "      <th>AVERAGE_MASS</th>\n",
       "      <th>QSAR_READY_SMILES</th>\n",
       "    </tr>\n",
       "  </thead>\n",
       "  <tbody>\n",
       "    <tr>\n",
       "      <th>0</th>\n",
       "      <td>50-00-0</td>\n",
       "      <td>CAS-RN</td>\n",
       "      <td>DTXSID7020637</td>\n",
       "      <td>Formaldehyde</td>\n",
       "      <td>C=O</td>\n",
       "      <td>30.026</td>\n",
       "      <td>C=O</td>\n",
       "    </tr>\n",
       "    <tr>\n",
       "      <th>1</th>\n",
       "      <td>57-55-6</td>\n",
       "      <td>CAS-RN</td>\n",
       "      <td>DTXSID0021206</td>\n",
       "      <td>1,2-Propylene glycol</td>\n",
       "      <td>CC(O)CO</td>\n",
       "      <td>76.095</td>\n",
       "      <td>CC(O)CO</td>\n",
       "    </tr>\n",
       "    <tr>\n",
       "      <th>2</th>\n",
       "      <td>64-18-6</td>\n",
       "      <td>CAS-RN</td>\n",
       "      <td>DTXSID2024115</td>\n",
       "      <td>Formic acid</td>\n",
       "      <td>OC=O</td>\n",
       "      <td>46.025</td>\n",
       "      <td>OC=O</td>\n",
       "    </tr>\n",
       "    <tr>\n",
       "      <th>3</th>\n",
       "      <td>67-56-1</td>\n",
       "      <td>CAS-RN</td>\n",
       "      <td>DTXSID2021731</td>\n",
       "      <td>Methanol</td>\n",
       "      <td>CO</td>\n",
       "      <td>32.042</td>\n",
       "      <td>CO</td>\n",
       "    </tr>\n",
       "    <tr>\n",
       "      <th>4</th>\n",
       "      <td>67-63-0</td>\n",
       "      <td>CAS-RN</td>\n",
       "      <td>DTXSID7020762</td>\n",
       "      <td>Isopropanol</td>\n",
       "      <td>CC(C)O</td>\n",
       "      <td>60.096</td>\n",
       "      <td>CC(C)O</td>\n",
       "    </tr>\n",
       "    <tr>\n",
       "      <th>...</th>\n",
       "      <td>...</td>\n",
       "      <td>...</td>\n",
       "      <td>...</td>\n",
       "      <td>...</td>\n",
       "      <td>...</td>\n",
       "      <td>...</td>\n",
       "      <td>...</td>\n",
       "    </tr>\n",
       "    <tr>\n",
       "      <th>198</th>\n",
       "      <td>333-41-5</td>\n",
       "      <td>CAS-RN</td>\n",
       "      <td>DTXSID9020407</td>\n",
       "      <td>Diazinon</td>\n",
       "      <td>CCOP(=S)(OCC)OC1=NC(=NC(C)=C1)C(C)C</td>\n",
       "      <td>304.340</td>\n",
       "      <td>CCOP(=S)(OCC)OC1=NC(=NC(C)=C1)C(C)C</td>\n",
       "    </tr>\n",
       "    <tr>\n",
       "      <th>199</th>\n",
       "      <td>57-74-9</td>\n",
       "      <td>CAS-RN</td>\n",
       "      <td>DTXSID7020267</td>\n",
       "      <td>Chlordane</td>\n",
       "      <td>ClC1CC2C(C1Cl)C1(Cl)C(Cl)=C(Cl)C2(Cl)C1(Cl)Cl</td>\n",
       "      <td>409.760</td>\n",
       "      <td>ClC1CC2C(C1Cl)C1(Cl)C(Cl)=C(Cl)C2(Cl)C1(Cl)Cl</td>\n",
       "    </tr>\n",
       "    <tr>\n",
       "      <th>200</th>\n",
       "      <td>583-39-1</td>\n",
       "      <td>CAS-RN</td>\n",
       "      <td>DTXSID9025536</td>\n",
       "      <td>2-Mercaptobenzimidazole</td>\n",
       "      <td>S=C1NC2=CC=CC=C2N1</td>\n",
       "      <td>150.200</td>\n",
       "      <td>S=C1NC2=CC=CC=C2N1</td>\n",
       "    </tr>\n",
       "    <tr>\n",
       "      <th>201</th>\n",
       "      <td>68359-37-5</td>\n",
       "      <td>CAS-RN</td>\n",
       "      <td>DTXSID5035957</td>\n",
       "      <td>Cyfluthrin</td>\n",
       "      <td>CC1(C)C(C=C(Cl)Cl)C1C(=O)OC(C#N)C1=CC=C(F)C(OC...</td>\n",
       "      <td>434.290</td>\n",
       "      <td>CC1(C)C(C=C(Cl)Cl)C1C(=O)OC(C#N)C1=CC=C(F)C(OC...</td>\n",
       "    </tr>\n",
       "    <tr>\n",
       "      <th>202</th>\n",
       "      <td>77-47-4</td>\n",
       "      <td>CAS-RN</td>\n",
       "      <td>DTXSID2020688</td>\n",
       "      <td>Hexachlorocyclopentadiene</td>\n",
       "      <td>ClC1=C(Cl)C(Cl)(Cl)C(Cl)=C1Cl</td>\n",
       "      <td>272.760</td>\n",
       "      <td>ClC1=C(Cl)C(Cl)(Cl)C(Cl)=C1Cl</td>\n",
       "    </tr>\n",
       "  </tbody>\n",
       "</table>\n",
       "<p>203 rows × 7 columns</p>\n",
       "</div>"
      ],
      "text/plain": [
       "          INPUT FOUND_BY         DTXSID             PREFERRED_NAME  \\\n",
       "0       50-00-0   CAS-RN  DTXSID7020637               Formaldehyde   \n",
       "1       57-55-6   CAS-RN  DTXSID0021206       1,2-Propylene glycol   \n",
       "2       64-18-6   CAS-RN  DTXSID2024115                Formic acid   \n",
       "3       67-56-1   CAS-RN  DTXSID2021731                   Methanol   \n",
       "4       67-63-0   CAS-RN  DTXSID7020762                Isopropanol   \n",
       "..          ...      ...            ...                        ...   \n",
       "198    333-41-5   CAS-RN  DTXSID9020407                   Diazinon   \n",
       "199     57-74-9   CAS-RN  DTXSID7020267                  Chlordane   \n",
       "200    583-39-1   CAS-RN  DTXSID9025536    2-Mercaptobenzimidazole   \n",
       "201  68359-37-5   CAS-RN  DTXSID5035957                 Cyfluthrin   \n",
       "202     77-47-4   CAS-RN  DTXSID2020688  Hexachlorocyclopentadiene   \n",
       "\n",
       "                                                SMILES  AVERAGE_MASS  \\\n",
       "0                                                  C=O        30.026   \n",
       "1                                              CC(O)CO        76.095   \n",
       "2                                                 OC=O        46.025   \n",
       "3                                                   CO        32.042   \n",
       "4                                               CC(C)O        60.096   \n",
       "..                                                 ...           ...   \n",
       "198                CCOP(=S)(OCC)OC1=NC(=NC(C)=C1)C(C)C       304.340   \n",
       "199      ClC1CC2C(C1Cl)C1(Cl)C(Cl)=C(Cl)C2(Cl)C1(Cl)Cl       409.760   \n",
       "200                                 S=C1NC2=CC=CC=C2N1       150.200   \n",
       "201  CC1(C)C(C=C(Cl)Cl)C1C(=O)OC(C#N)C1=CC=C(F)C(OC...       434.290   \n",
       "202                      ClC1=C(Cl)C(Cl)(Cl)C(Cl)=C1Cl       272.760   \n",
       "\n",
       "                                     QSAR_READY_SMILES  \n",
       "0                                                  C=O  \n",
       "1                                              CC(O)CO  \n",
       "2                                                 OC=O  \n",
       "3                                                   CO  \n",
       "4                                               CC(C)O  \n",
       "..                                                 ...  \n",
       "198                CCOP(=S)(OCC)OC1=NC(=NC(C)=C1)C(C)C  \n",
       "199      ClC1CC2C(C1Cl)C1(Cl)C(Cl)=C(Cl)C2(Cl)C1(Cl)Cl  \n",
       "200                                 S=C1NC2=CC=CC=C2N1  \n",
       "201  CC1(C)C(C=C(Cl)Cl)C1C(=O)OC(C#N)C1=CC=C(F)C(OC...  \n",
       "202                      ClC1=C(Cl)C(Cl)(Cl)C(Cl)=C1Cl  \n",
       "\n",
       "[203 rows x 7 columns]"
      ]
     },
     "execution_count": 6,
     "metadata": {},
     "output_type": "execute_result"
    }
   ],
   "source": [
    "escher_smi"
   ]
  },
  {
   "cell_type": "code",
   "execution_count": 12,
   "metadata": {},
   "outputs": [
    {
     "data": {
      "text/html": [
       "<div>\n",
       "<style scoped>\n",
       "    .dataframe tbody tr th:only-of-type {\n",
       "        vertical-align: middle;\n",
       "    }\n",
       "\n",
       "    .dataframe tbody tr th {\n",
       "        vertical-align: top;\n",
       "    }\n",
       "\n",
       "    .dataframe thead th {\n",
       "        text-align: right;\n",
       "    }\n",
       "</style>\n",
       "<table border=\"1\" class=\"dataframe\">\n",
       "  <thead>\n",
       "    <tr style=\"text-align: right;\">\n",
       "      <th></th>\n",
       "      <th>CAS</th>\n",
       "      <th>Name</th>\n",
       "      <th>Author/review</th>\n",
       "      <th>Publication</th>\n",
       "      <th>Year</th>\n",
       "      <th>Cramer_class</th>\n",
       "      <th>Study duration</th>\n",
       "      <th>Genotoxicity Alert</th>\n",
       "      <th>OP</th>\n",
       "      <th>General_NOEC_ppm</th>\n",
       "      <th>Systemic_NOEC_ppm</th>\n",
       "      <th>Local_NOEC_ppm</th>\n",
       "      <th>CAS#</th>\n",
       "      <th>INPUT</th>\n",
       "      <th>FOUND_BY</th>\n",
       "      <th>DTXSID</th>\n",
       "      <th>PREFERRED_NAME</th>\n",
       "      <th>SMILES</th>\n",
       "      <th>AVERAGE_MASS</th>\n",
       "      <th>QSAR_READY_SMILES</th>\n",
       "    </tr>\n",
       "  </thead>\n",
       "  <tbody>\n",
       "    <tr>\n",
       "      <th>0</th>\n",
       "      <td>50000</td>\n",
       "      <td>Formaldehyde</td>\n",
       "      <td>Woutersen et al.</td>\n",
       "      <td>J. Appl. Toxicol.</td>\n",
       "      <td>1989.0</td>\n",
       "      <td>1</td>\n",
       "      <td>chronic</td>\n",
       "      <td>NaN</td>\n",
       "      <td>NaN</td>\n",
       "      <td>1.02</td>\n",
       "      <td>1.02</td>\n",
       "      <td>1.02</td>\n",
       "      <td>50000</td>\n",
       "      <td>50-00-0</td>\n",
       "      <td>CAS-RN</td>\n",
       "      <td>DTXSID7020637</td>\n",
       "      <td>Formaldehyde</td>\n",
       "      <td>C=O</td>\n",
       "      <td>30.026</td>\n",
       "      <td>C=O</td>\n",
       "    </tr>\n",
       "    <tr>\n",
       "      <th>1</th>\n",
       "      <td>57556</td>\n",
       "      <td>Propylene glycol</td>\n",
       "      <td>La Kind et al.</td>\n",
       "      <td>CRC Crit. Rev. Toxicol.</td>\n",
       "      <td>1999.0</td>\n",
       "      <td>1</td>\n",
       "      <td>subchronic</td>\n",
       "      <td>NaN</td>\n",
       "      <td>NaN</td>\n",
       "      <td>25.70</td>\n",
       "      <td>160.70</td>\n",
       "      <td>25.70</td>\n",
       "      <td>57556</td>\n",
       "      <td>57-55-6</td>\n",
       "      <td>CAS-RN</td>\n",
       "      <td>DTXSID0021206</td>\n",
       "      <td>1,2-Propylene glycol</td>\n",
       "      <td>CC(O)CO</td>\n",
       "      <td>76.095</td>\n",
       "      <td>CC(O)CO</td>\n",
       "    </tr>\n",
       "    <tr>\n",
       "      <th>2</th>\n",
       "      <td>64186</td>\n",
       "      <td>Formic acid</td>\n",
       "      <td>NTP</td>\n",
       "      <td>TOX 19</td>\n",
       "      <td>1992.0</td>\n",
       "      <td>1</td>\n",
       "      <td>subchronic</td>\n",
       "      <td>NaN</td>\n",
       "      <td>NaN</td>\n",
       "      <td>1.33</td>\n",
       "      <td>1.33</td>\n",
       "      <td>4.00</td>\n",
       "      <td>64186</td>\n",
       "      <td>64-18-6</td>\n",
       "      <td>CAS-RN</td>\n",
       "      <td>DTXSID2024115</td>\n",
       "      <td>Formic acid</td>\n",
       "      <td>OC=O</td>\n",
       "      <td>46.025</td>\n",
       "      <td>OC=O</td>\n",
       "    </tr>\n",
       "    <tr>\n",
       "      <th>3</th>\n",
       "      <td>67561</td>\n",
       "      <td>Methanol</td>\n",
       "      <td>Andrews et al.</td>\n",
       "      <td>J. Toxicol. Environ. Health</td>\n",
       "      <td>1987.0</td>\n",
       "      <td>1</td>\n",
       "      <td>subacute</td>\n",
       "      <td>NaN</td>\n",
       "      <td>NaN</td>\n",
       "      <td>28.20</td>\n",
       "      <td>84.60</td>\n",
       "      <td>28.20</td>\n",
       "      <td>67561</td>\n",
       "      <td>67-56-1</td>\n",
       "      <td>CAS-RN</td>\n",
       "      <td>DTXSID2021731</td>\n",
       "      <td>Methanol</td>\n",
       "      <td>CO</td>\n",
       "      <td>32.042</td>\n",
       "      <td>CO</td>\n",
       "    </tr>\n",
       "    <tr>\n",
       "      <th>4</th>\n",
       "      <td>67630</td>\n",
       "      <td>2-Propanol</td>\n",
       "      <td>Burleigh-Flayer et al.</td>\n",
       "      <td>Fundam. Appl. Toxicol.</td>\n",
       "      <td>1997.0</td>\n",
       "      <td>1</td>\n",
       "      <td>chronic</td>\n",
       "      <td>NaN</td>\n",
       "      <td>NaN</td>\n",
       "      <td>166.80</td>\n",
       "      <td>166.80</td>\n",
       "      <td>NaN</td>\n",
       "      <td>67630</td>\n",
       "      <td>67-63-0</td>\n",
       "      <td>CAS-RN</td>\n",
       "      <td>DTXSID7020762</td>\n",
       "      <td>Isopropanol</td>\n",
       "      <td>CC(C)O</td>\n",
       "      <td>60.096</td>\n",
       "      <td>CC(C)O</td>\n",
       "    </tr>\n",
       "  </tbody>\n",
       "</table>\n",
       "</div>"
      ],
      "text/plain": [
       "     CAS              Name           Author/review  \\\n",
       "0  50000      Formaldehyde        Woutersen et al.   \n",
       "1  57556  Propylene glycol          La Kind et al.   \n",
       "2  64186       Formic acid                     NTP   \n",
       "3  67561          Methanol          Andrews et al.   \n",
       "4  67630        2-Propanol  Burleigh-Flayer et al.   \n",
       "\n",
       "                   Publication    Year  Cramer_class Study duration  \\\n",
       "0            J. Appl. Toxicol.  1989.0             1        chronic   \n",
       "1      CRC Crit. Rev. Toxicol.  1999.0             1     subchronic   \n",
       "2                       TOX 19  1992.0             1     subchronic   \n",
       "3  J. Toxicol. Environ. Health  1987.0             1       subacute   \n",
       "4       Fundam. Appl. Toxicol.  1997.0             1        chronic   \n",
       "\n",
       "  Genotoxicity Alert   OP  General_NOEC_ppm  Systemic_NOEC_ppm  \\\n",
       "0                NaN  NaN              1.02               1.02   \n",
       "1                NaN  NaN             25.70             160.70   \n",
       "2                NaN  NaN              1.33               1.33   \n",
       "3                NaN  NaN             28.20              84.60   \n",
       "4                NaN  NaN            166.80             166.80   \n",
       "\n",
       "   Local_NOEC_ppm   CAS#    INPUT FOUND_BY         DTXSID  \\\n",
       "0            1.02  50000  50-00-0   CAS-RN  DTXSID7020637   \n",
       "1           25.70  57556  57-55-6   CAS-RN  DTXSID0021206   \n",
       "2            4.00  64186  64-18-6   CAS-RN  DTXSID2024115   \n",
       "3           28.20  67561  67-56-1   CAS-RN  DTXSID2021731   \n",
       "4             NaN  67630  67-63-0   CAS-RN  DTXSID7020762   \n",
       "\n",
       "         PREFERRED_NAME   SMILES  AVERAGE_MASS QSAR_READY_SMILES  \n",
       "0          Formaldehyde      C=O        30.026               C=O  \n",
       "1  1,2-Propylene glycol  CC(O)CO        76.095           CC(O)CO  \n",
       "2           Formic acid     OC=O        46.025              OC=O  \n",
       "3              Methanol       CO        32.042                CO  \n",
       "4           Isopropanol   CC(C)O        60.096            CC(C)O  "
      ]
     },
     "execution_count": 12,
     "metadata": {},
     "output_type": "execute_result"
    }
   ],
   "source": [
    "escher.head()"
   ]
  },
  {
   "cell_type": "code",
   "execution_count": 13,
   "metadata": {},
   "outputs": [],
   "source": [
    "carthew_smi =pd.read_csv(raw_dat_dir+'Carthew_2009_Appendix_A_SMILES.tsv', sep= '\\t')\n",
    "carthew =pd.read_excel(raw_dat_dir+'Carthew_2009_Appendix_A.xlsx')"
   ]
  },
  {
   "cell_type": "code",
   "execution_count": 20,
   "metadata": {},
   "outputs": [],
   "source": [
    "carthew_df = pd.merge(carthew, carthew_smi, left_on = 'Updated_name', right_on =  'INPUT', how = 'left')"
   ]
  },
  {
   "cell_type": "code",
   "execution_count": 30,
   "metadata": {},
   "outputs": [
    {
     "data": {
      "text/html": [
       "<div>\n",
       "<style scoped>\n",
       "    .dataframe tbody tr th:only-of-type {\n",
       "        vertical-align: middle;\n",
       "    }\n",
       "\n",
       "    .dataframe tbody tr th {\n",
       "        vertical-align: top;\n",
       "    }\n",
       "\n",
       "    .dataframe thead th {\n",
       "        text-align: right;\n",
       "    }\n",
       "</style>\n",
       "<table border=\"1\" class=\"dataframe\">\n",
       "  <thead>\n",
       "    <tr style=\"text-align: right;\">\n",
       "      <th></th>\n",
       "      <th>Unnamed: 0</th>\n",
       "      <th>DTXSID</th>\n",
       "      <th>min_toxval_ppm_adj</th>\n",
       "      <th>Cramer</th>\n",
       "    </tr>\n",
       "  </thead>\n",
       "  <tbody>\n",
       "    <tr>\n",
       "      <th>0</th>\n",
       "      <td>0</td>\n",
       "      <td>DTXSID0020498</td>\n",
       "      <td>0.125993</td>\n",
       "      <td>1</td>\n",
       "    </tr>\n",
       "    <tr>\n",
       "      <th>1</th>\n",
       "      <td>1</td>\n",
       "      <td>DTXSID0021759</td>\n",
       "      <td>3.750000</td>\n",
       "      <td>1</td>\n",
       "    </tr>\n",
       "    <tr>\n",
       "      <th>2</th>\n",
       "      <td>2</td>\n",
       "      <td>DTXSID0021888</td>\n",
       "      <td>2.500000</td>\n",
       "      <td>1</td>\n",
       "    </tr>\n",
       "    <tr>\n",
       "      <th>3</th>\n",
       "      <td>3</td>\n",
       "      <td>DTXSID0021917</td>\n",
       "      <td>250.000000</td>\n",
       "      <td>1</td>\n",
       "    </tr>\n",
       "    <tr>\n",
       "      <th>4</th>\n",
       "      <td>4</td>\n",
       "      <td>DTXSID0022062</td>\n",
       "      <td>0.085218</td>\n",
       "      <td>1</td>\n",
       "    </tr>\n",
       "    <tr>\n",
       "      <th>...</th>\n",
       "      <td>...</td>\n",
       "      <td>...</td>\n",
       "      <td>...</td>\n",
       "      <td>...</td>\n",
       "    </tr>\n",
       "    <tr>\n",
       "      <th>256</th>\n",
       "      <td>256</td>\n",
       "      <td>DTXSID9051533</td>\n",
       "      <td>69.701923</td>\n",
       "      <td>3</td>\n",
       "    </tr>\n",
       "    <tr>\n",
       "      <th>257</th>\n",
       "      <td>257</td>\n",
       "      <td>DTXSID9059410</td>\n",
       "      <td>24.665999</td>\n",
       "      <td>3</td>\n",
       "    </tr>\n",
       "    <tr>\n",
       "      <th>258</th>\n",
       "      <td>258</td>\n",
       "      <td>DTXSID9059834</td>\n",
       "      <td>3.640000</td>\n",
       "      <td>3</td>\n",
       "    </tr>\n",
       "    <tr>\n",
       "      <th>259</th>\n",
       "      <td>259</td>\n",
       "      <td>DTXSID90862477</td>\n",
       "      <td>17.297582</td>\n",
       "      <td>3</td>\n",
       "    </tr>\n",
       "    <tr>\n",
       "      <th>260</th>\n",
       "      <td>260</td>\n",
       "      <td>DTXSID90863747</td>\n",
       "      <td>0.968803</td>\n",
       "      <td>3</td>\n",
       "    </tr>\n",
       "  </tbody>\n",
       "</table>\n",
       "<p>519 rows × 4 columns</p>\n",
       "</div>"
      ],
      "text/plain": [
       "     Unnamed: 0          DTXSID  min_toxval_ppm_adj  Cramer\n",
       "0             0   DTXSID0020498            0.125993       1\n",
       "1             1   DTXSID0021759            3.750000       1\n",
       "2             2   DTXSID0021888            2.500000       1\n",
       "3             3   DTXSID0021917          250.000000       1\n",
       "4             4   DTXSID0022062            0.085218       1\n",
       "..          ...             ...                 ...     ...\n",
       "256         256   DTXSID9051533           69.701923       3\n",
       "257         257   DTXSID9059410           24.665999       3\n",
       "258         258   DTXSID9059834            3.640000       3\n",
       "259         259  DTXSID90862477           17.297582       3\n",
       "260         260  DTXSID90863747            0.968803       3\n",
       "\n",
       "[519 rows x 4 columns]"
      ]
     },
     "execution_count": 30,
     "metadata": {},
     "output_type": "execute_result"
    }
   ],
   "source": [
    "toxval_cramer_ppm"
   ]
  },
  {
   "cell_type": "code",
   "execution_count": 39,
   "metadata": {},
   "outputs": [],
   "source": [
    "set1 = set(carthew_df.DTXSID.unique()) \n",
    "set2 = set(escher.DTXSID.unique()) \n",
    "set3 = set(toxval_cramer_ppm.DTXSID.unique())"
   ]
  },
  {
   "cell_type": "code",
   "execution_count": 40,
   "metadata": {},
   "outputs": [],
   "source": [
    "from matplotlib_venn import venn3\n"
   ]
  },
  {
   "cell_type": "code",
   "execution_count": 167,
   "metadata": {},
   "outputs": [
    {
     "data": {
      "image/png": "[encoded data removed]",
      "text/plain": [
       "<Figure size 720x576 with 1 Axes>"
      ]
     },
     "metadata": {},
     "output_type": "display_data"
    }
   ],
   "source": [
    "plt.style.use('ggplot')\n",
    "plt.figure(figsize=(10,8))\n",
    "v = venn3([set1, set2, set3], ('Carthew', 'Escher', 'ToxValDB'))\n",
    "plt.savefig(figures_dir+'venn_overlaps.jpg', dpi = 300)"
   ]
  },
  {
   "cell_type": "code",
   "execution_count": 45,
   "metadata": {},
   "outputs": [],
   "source": [
    "overlaps_ids = list(set(carthew_df.DTXSID.unique()) & set(escher.DTXSID.unique()) & set(toxval_cramer_ppm.DTXSID.unique()))"
   ]
  },
  {
   "cell_type": "markdown",
   "metadata": {},
   "source": [
    "Explore overlap betwen ToxVal dataset underpinning the Cramer classes and the Escher dataset "
   ]
  },
  {
   "cell_type": "code",
   "execution_count": 65,
   "metadata": {},
   "outputs": [],
   "source": [
    "txval_escher_ids = list(set(escher.DTXSID.unique()) & set(toxval_cramer_ppm.DTXSID.unique()))"
   ]
  },
  {
   "cell_type": "code",
   "execution_count": 66,
   "metadata": {},
   "outputs": [],
   "source": [
    "temp1 = toxval_cramer_ppm[toxval_cramer_ppm['DTXSID'].isin(txval_escher_ids)]"
   ]
  },
  {
   "cell_type": "code",
   "execution_count": 67,
   "metadata": {},
   "outputs": [
    {
     "name": "stderr",
     "output_type": "stream",
     "text": [
      "/home/grace/anaconda3/lib/python3.7/site-packages/ipykernel_launcher.py:1: SettingWithCopyWarning: \n",
      "A value is trying to be set on a copy of a slice from a DataFrame.\n",
      "Try using .loc[row_indexer,col_indexer] = value instead\n",
      "\n",
      "See the caveats in the documentation: https://pandas.pydata.org/pandas-docs/stable/user_guide/indexing.html#returning-a-view-versus-a-copy\n",
      "  \"\"\"Entry point for launching an IPython kernel.\n"
     ]
    }
   ],
   "source": [
    "temp1['Source'] = 'txval'"
   ]
  },
  {
   "cell_type": "code",
   "execution_count": 68,
   "metadata": {},
   "outputs": [],
   "source": [
    "temp2 = escher[escher['DTXSID'].isin(txval_escher_ids)]"
   ]
  },
  {
   "cell_type": "code",
   "execution_count": 69,
   "metadata": {},
   "outputs": [
    {
     "name": "stderr",
     "output_type": "stream",
     "text": [
      "/home/grace/anaconda3/lib/python3.7/site-packages/ipykernel_launcher.py:1: SettingWithCopyWarning: \n",
      "A value is trying to be set on a copy of a slice from a DataFrame.\n",
      "Try using .loc[row_indexer,col_indexer] = value instead\n",
      "\n",
      "See the caveats in the documentation: https://pandas.pydata.org/pandas-docs/stable/user_guide/indexing.html#returning-a-view-versus-a-copy\n",
      "  \"\"\"Entry point for launching an IPython kernel.\n"
     ]
    }
   ],
   "source": [
    "temp2['Source'] = 'escher'"
   ]
  },
  {
   "cell_type": "code",
   "execution_count": 78,
   "metadata": {},
   "outputs": [],
   "source": [
    "escher_txval = pd.merge(temp1, temp2, on = 'DTXSID', how = 'left')"
   ]
  },
  {
   "cell_type": "code",
   "execution_count": 79,
   "metadata": {},
   "outputs": [
    {
     "data": {
      "text/plain": [
       "(101, 25)"
      ]
     },
     "execution_count": 79,
     "metadata": {},
     "output_type": "execute_result"
    }
   ],
   "source": [
    "escher_txval.shape"
   ]
  },
  {
   "cell_type": "code",
   "execution_count": 89,
   "metadata": {},
   "outputs": [
    {
     "data": {
      "text/html": [
       "<div>\n",
       "<style scoped>\n",
       "    .dataframe tbody tr th:only-of-type {\n",
       "        vertical-align: middle;\n",
       "    }\n",
       "\n",
       "    .dataframe tbody tr th {\n",
       "        vertical-align: top;\n",
       "    }\n",
       "\n",
       "    .dataframe thead th {\n",
       "        text-align: right;\n",
       "    }\n",
       "</style>\n",
       "<table border=\"1\" class=\"dataframe\">\n",
       "  <thead>\n",
       "    <tr style=\"text-align: right;\">\n",
       "      <th></th>\n",
       "      <th>Unnamed: 0</th>\n",
       "      <th>min_toxval_ppm_adj</th>\n",
       "      <th>Cramer</th>\n",
       "      <th>CAS</th>\n",
       "      <th>Year</th>\n",
       "      <th>Cramer_class</th>\n",
       "      <th>General_NOEC_ppm</th>\n",
       "      <th>Systemic_NOEC_ppm</th>\n",
       "      <th>Local_NOEC_ppm</th>\n",
       "      <th>AVERAGE_MASS</th>\n",
       "    </tr>\n",
       "  </thead>\n",
       "  <tbody>\n",
       "    <tr>\n",
       "      <th>count</th>\n",
       "      <td>101.000000</td>\n",
       "      <td>101.000000</td>\n",
       "      <td>101.000000</td>\n",
       "      <td>1.010000e+02</td>\n",
       "      <td>100.000000</td>\n",
       "      <td>101.000000</td>\n",
       "      <td>101.000000</td>\n",
       "      <td>97.000000</td>\n",
       "      <td>44.000000</td>\n",
       "      <td>101.000000</td>\n",
       "    </tr>\n",
       "    <tr>\n",
       "      <th>mean</th>\n",
       "      <td>103.643564</td>\n",
       "      <td>546.025934</td>\n",
       "      <td>1.970297</td>\n",
       "      <td>1.116548e+06</td>\n",
       "      <td>1989.380000</td>\n",
       "      <td>1.970297</td>\n",
       "      <td>1696.536010</td>\n",
       "      <td>1771.083515</td>\n",
       "      <td>328.461273</td>\n",
       "      <td>116.164980</td>\n",
       "    </tr>\n",
       "    <tr>\n",
       "      <th>std</th>\n",
       "      <td>70.072903</td>\n",
       "      <td>2727.772557</td>\n",
       "      <td>0.994540</td>\n",
       "      <td>7.254209e+06</td>\n",
       "      <td>9.453533</td>\n",
       "      <td>0.994540</td>\n",
       "      <td>9016.410707</td>\n",
       "      <td>9194.699462</td>\n",
       "      <td>1529.798280</td>\n",
       "      <td>72.265993</td>\n",
       "    </tr>\n",
       "    <tr>\n",
       "      <th>min</th>\n",
       "      <td>0.000000</td>\n",
       "      <td>0.000383</td>\n",
       "      <td>1.000000</td>\n",
       "      <td>5.000000e+04</td>\n",
       "      <td>1951.000000</td>\n",
       "      <td>1.000000</td>\n",
       "      <td>0.001000</td>\n",
       "      <td>0.001000</td>\n",
       "      <td>0.003000</td>\n",
       "      <td>28.054000</td>\n",
       "    </tr>\n",
       "    <tr>\n",
       "      <th>25%</th>\n",
       "      <td>44.000000</td>\n",
       "      <td>0.166667</td>\n",
       "      <td>1.000000</td>\n",
       "      <td>7.901600e+04</td>\n",
       "      <td>1985.000000</td>\n",
       "      <td>1.000000</td>\n",
       "      <td>1.930000</td>\n",
       "      <td>3.390000</td>\n",
       "      <td>0.625000</td>\n",
       "      <td>75.067000</td>\n",
       "    </tr>\n",
       "    <tr>\n",
       "      <th>50%</th>\n",
       "      <td>89.000000</td>\n",
       "      <td>4.100000</td>\n",
       "      <td>1.000000</td>\n",
       "      <td>1.069900e+05</td>\n",
       "      <td>1990.000000</td>\n",
       "      <td>1.000000</td>\n",
       "      <td>10.400000</td>\n",
       "      <td>24.950000</td>\n",
       "      <td>4.115000</td>\n",
       "      <td>100.161000</td>\n",
       "    </tr>\n",
       "    <tr>\n",
       "      <th>75%</th>\n",
       "      <td>162.000000</td>\n",
       "      <td>50.000000</td>\n",
       "      <td>3.000000</td>\n",
       "      <td>1.161430e+05</td>\n",
       "      <td>1996.000000</td>\n",
       "      <td>3.000000</td>\n",
       "      <td>73.500000</td>\n",
       "      <td>84.600000</td>\n",
       "      <td>33.725000</td>\n",
       "      <td>128.171000</td>\n",
       "    </tr>\n",
       "    <tr>\n",
       "      <th>max</th>\n",
       "      <td>251.000000</td>\n",
       "      <td>25000.000000</td>\n",
       "      <td>3.000000</td>\n",
       "      <td>6.835938e+07</td>\n",
       "      <td>2007.000000</td>\n",
       "      <td>3.000000</td>\n",
       "      <td>82000.000000</td>\n",
       "      <td>82000.000000</td>\n",
       "      <td>9995.000000</td>\n",
       "      <td>434.290000</td>\n",
       "    </tr>\n",
       "  </tbody>\n",
       "</table>\n",
       "</div>"
      ],
      "text/plain": [
       "       Unnamed: 0  min_toxval_ppm_adj      Cramer           CAS         Year  \\\n",
       "count  101.000000          101.000000  101.000000  1.010000e+02   100.000000   \n",
       "mean   103.643564          546.025934    1.970297  1.116548e+06  1989.380000   \n",
       "std     70.072903         2727.772557    0.994540  7.254209e+06     9.453533   \n",
       "min      0.000000            0.000383    1.000000  5.000000e+04  1951.000000   \n",
       "25%     44.000000            0.166667    1.000000  7.901600e+04  1985.000000   \n",
       "50%     89.000000            4.100000    1.000000  1.069900e+05  1990.000000   \n",
       "75%    162.000000           50.000000    3.000000  1.161430e+05  1996.000000   \n",
       "max    251.000000        25000.000000    3.000000  6.835938e+07  2007.000000   \n",
       "\n",
       "       Cramer_class  General_NOEC_ppm  Systemic_NOEC_ppm  Local_NOEC_ppm  \\\n",
       "count    101.000000        101.000000          97.000000       44.000000   \n",
       "mean       1.970297       1696.536010        1771.083515      328.461273   \n",
       "std        0.994540       9016.410707        9194.699462     1529.798280   \n",
       "min        1.000000          0.001000           0.001000        0.003000   \n",
       "25%        1.000000          1.930000           3.390000        0.625000   \n",
       "50%        1.000000         10.400000          24.950000        4.115000   \n",
       "75%        3.000000         73.500000          84.600000       33.725000   \n",
       "max        3.000000      82000.000000       82000.000000     9995.000000   \n",
       "\n",
       "       AVERAGE_MASS  \n",
       "count    101.000000  \n",
       "mean     116.164980  \n",
       "std       72.265993  \n",
       "min       28.054000  \n",
       "25%       75.067000  \n",
       "50%      100.161000  \n",
       "75%      128.171000  \n",
       "max      434.290000  "
      ]
     },
     "execution_count": 89,
     "metadata": {},
     "output_type": "execute_result"
    }
   ],
   "source": [
    "escher_txval.describe()"
   ]
  },
  {
   "cell_type": "code",
   "execution_count": 100,
   "metadata": {},
   "outputs": [
    {
     "data": {
      "text/plain": [
       "0         41.70\n",
       "1        136.90\n",
       "2         41.80\n",
       "3          8.33\n",
       "4         50.00\n",
       "         ...   \n",
       "96         4.20\n",
       "97       300.00\n",
       "98      2000.00\n",
       "99     82000.00\n",
       "100    19938.00\n",
       "Name: Systemic_NOEC_ppm, Length: 97, dtype: float64"
      ]
     },
     "execution_count": 100,
     "metadata": {},
     "output_type": "execute_result"
    }
   ],
   "source": [
    "escher_txval[~escher_txval['Systemic_NOEC_ppm'].isnull()]['Systemic_NOEC_ppm']"
   ]
  },
  {
   "cell_type": "markdown",
   "metadata": {},
   "source": [
    "Explore distribution of the 2 datsets by boxplots and computing a ttest"
   ]
  },
  {
   "cell_type": "code",
   "execution_count": 164,
   "metadata": {},
   "outputs": [
    {
     "data": {
      "image/png": "[encoded data removed]",
      "text/plain": [
       "<Figure size 648x432 with 1 Axes>"
      ]
     },
     "metadata": {},
     "output_type": "display_data"
    }
   ],
   "source": [
    "labels = ['ToxValDB', 'Escher']\n",
    "data = [escher_txval['min_toxval_ppm_adj'], escher_txval[~escher_txval['Systemic_NOEC_ppm'].isnull()]['Systemic_NOEC_ppm']]\n",
    "f,ax = plt.subplots(figsize = (9,6))\n",
    "ax.boxplot(data, labels = labels)\n",
    "plt.yscale('log')\n",
    "plt.ylabel('NOAEL/NOEC ppm')\n",
    "plt.savefig(figures_dir+'Escher_ToxVal_boxplot_comparison.jpg', dpi = 300)"
   ]
  },
  {
   "cell_type": "code",
   "execution_count": 111,
   "metadata": {},
   "outputs": [],
   "source": [
    "from scipy import stats\n",
    "t2, p2 = stats.ttest_ind(escher_txval['min_toxval_ppm_adj'], escher_txval[~escher_txval['Systemic_NOEC_ppm'].isnull()]['Systemic_NOEC_ppm'], equal_var = False)"
   ]
  },
  {
   "cell_type": "code",
   "execution_count": 112,
   "metadata": {},
   "outputs": [
    {
     "data": {
      "text/plain": [
       "(-1.260041349355996, 0.2102701891682602)"
      ]
     },
     "execution_count": 112,
     "metadata": {},
     "output_type": "execute_result"
    }
   ],
   "source": [
    "t2, p2"
   ]
  },
  {
   "cell_type": "markdown",
   "metadata": {},
   "source": [
    "Investigating the correlation between the 2 datasets and computing the pearson correlation coefficient and plotting as a scatterplot"
   ]
  },
  {
   "cell_type": "code",
   "execution_count": 120,
   "metadata": {},
   "outputs": [],
   "source": [
    "def abline(slope, intercept):\n",
    "    \"\"\"Plot a line from slope and intercept\"\"\"\n",
    "    axes = plt.gca()\n",
    "    x_vals = np.array(axes.get_xlim())\n",
    "    y_vals = intercept + slope * x_vals\n",
    "    plt.plot(x_vals, y_vals, '--')"
   ]
  },
  {
   "cell_type": "code",
   "execution_count": 166,
   "metadata": {},
   "outputs": [
    {
     "data": {
      "image/png": "[encoded data removed]",
      "text/plain": [
       "<Figure size 648x432 with 1 Axes>"
      ]
     },
     "metadata": {},
     "output_type": "display_data"
    }
   ],
   "source": [
    "plt.figure(figsize = (9,6))\n",
    "plt.plot(temp_df['log_min_toxval_ppm_adj'],temp_df['log_Systemic_NOEC_ppm'], linestyle ='none', marker = '.')\n",
    "#plt.yscale('log')\n",
    "#plt.xscale('log')\n",
    "abline(0.4453609894547061,1.078402387661468)\n",
    "plt.xlabel('ToxValDB logNOAEC ppm')\n",
    "plt.ylabel('Escher logNOAEC ppm')\n",
    "plt.text(3.5,-3, 'r = 0.547', fontsize = 12)\n",
    "plt.savefig(figures_dir+'Escher_ToxVal_comparison.jpg', dpi = 300)"
   ]
  },
  {
   "cell_type": "markdown",
   "metadata": {},
   "source": [
    "Also attempted a linear regression though not particularly additive to the discussion"
   ]
  },
  {
   "cell_type": "code",
   "execution_count": 122,
   "metadata": {},
   "outputs": [],
   "source": [
    "from sklearn import datasets, linear_model\n",
    "from sklearn.metrics import mean_squared_error, r2_score"
   ]
  },
  {
   "cell_type": "code",
   "execution_count": 123,
   "metadata": {},
   "outputs": [],
   "source": [
    "regr = linear_model.LinearRegression()"
   ]
  },
  {
   "cell_type": "code",
   "execution_count": 131,
   "metadata": {},
   "outputs": [],
   "source": [
    "temp_df = escher_txval[~escher_txval['Systemic_NOEC_ppm'].isnull()]"
   ]
  },
  {
   "cell_type": "code",
   "execution_count": 141,
   "metadata": {},
   "outputs": [
    {
     "name": "stderr",
     "output_type": "stream",
     "text": [
      "/home/grace/anaconda3/lib/python3.7/site-packages/ipykernel_launcher.py:3: SettingWithCopyWarning: \n",
      "A value is trying to be set on a copy of a slice from a DataFrame.\n",
      "Try using .loc[row_indexer,col_indexer] = value instead\n",
      "\n",
      "See the caveats in the documentation: https://pandas.pydata.org/pandas-docs/stable/user_guide/indexing.html#returning-a-view-versus-a-copy\n",
      "  This is separate from the ipykernel package so we can avoid doing imports until\n",
      "/home/grace/anaconda3/lib/python3.7/site-packages/ipykernel_launcher.py:4: SettingWithCopyWarning: \n",
      "A value is trying to be set on a copy of a slice from a DataFrame.\n",
      "Try using .loc[row_indexer,col_indexer] = value instead\n",
      "\n",
      "See the caveats in the documentation: https://pandas.pydata.org/pandas-docs/stable/user_guide/indexing.html#returning-a-view-versus-a-copy\n",
      "  after removing the cwd from sys.path.\n"
     ]
    }
   ],
   "source": [
    "temp_df\n",
    "\n",
    "temp_df['log_min_toxval_ppm_adj'] = np.log10(temp_df['min_toxval_ppm_adj'])\n",
    "temp_df['log_Systemic_NOEC_ppm'] = np.log10(temp_df['Systemic_NOEC_ppm'])"
   ]
  },
  {
   "cell_type": "code",
   "execution_count": 142,
   "metadata": {},
   "outputs": [
    {
     "data": {
      "text/plain": [
       "LinearRegression(copy_X=True, fit_intercept=True, n_jobs=None, normalize=False)"
      ]
     },
     "execution_count": 142,
     "metadata": {},
     "output_type": "execute_result"
    }
   ],
   "source": [
    "regr.fit(temp_df['log_min_toxval_ppm_adj'].values.reshape(1,-1),temp_df['log_Systemic_NOEC_ppm'].values.reshape(1,-1))"
   ]
  },
  {
   "cell_type": "code",
   "execution_count": 144,
   "metadata": {},
   "outputs": [
    {
     "data": {
      "text/plain": [
       "-0.015836489923399144"
      ]
     },
     "execution_count": 144,
     "metadata": {},
     "output_type": "execute_result"
    }
   ],
   "source": [
    "r2_score(temp_df['log_min_toxval_ppm_adj'],temp_df['log_Systemic_NOEC_ppm'])"
   ]
  },
  {
   "cell_type": "markdown",
   "metadata": {},
   "source": [
    "Calculating the pearson correlation coefficient - included this in the scatterplot above"
   ]
  },
  {
   "cell_type": "code",
   "execution_count": 149,
   "metadata": {},
   "outputs": [
    {
     "data": {
      "text/plain": [
       "array([[1.        , 0.54781241],\n",
       "       [0.54781241, 1.        ]])"
      ]
     },
     "execution_count": 149,
     "metadata": {},
     "output_type": "execute_result"
    }
   ],
   "source": [
    "plt.plot(np.corrcoef(temp_df['log_min_toxval_ppm_adj'],temp_df['log_Systemic_NOEC_ppm'])"
   ]
  },
  {
   "cell_type": "code",
   "execution_count": 150,
   "metadata": {},
   "outputs": [
    {
     "data": {
      "text/plain": [
       "LinregressResult(slope=0.4453609894547061, intercept=1.078402387661468, rvalue=0.5478124095673371, pvalue=6.348477817141831e-09, stderr=0.06978096747571025)"
      ]
     },
     "execution_count": 150,
     "metadata": {},
     "output_type": "execute_result"
    }
   ],
   "source": [
    "from scipy.stats import linregress\n",
    "linregress(temp_df['log_min_toxval_ppm_adj'],temp_df['log_Systemic_NOEC_ppm'])"
   ]
  },
  {
   "cell_type": "markdown",
   "metadata": {},
   "source": [
    "Investigating overlapping toxicity values between ToxValDB and Carthew"
   ]
  },
  {
   "cell_type": "markdown",
   "metadata": {},
   "source": [
    "Convert mg/m3 to mg/kg units for comparison to Carthew"
   ]
  },
  {
   "cell_type": "code",
   "execution_count": 170,
   "metadata": {},
   "outputs": [],
   "source": [
    "d = ((6/24)*(5/7))\n",
    "bw = 60\n",
    "V = 20"
   ]
  },
  {
   "cell_type": "code",
   "execution_count": 175,
   "metadata": {},
   "outputs": [],
   "source": [
    "def noec_conv(s):\n",
    "    noec_new = s*d*V\n",
    "    return noec_new"
   ]
  },
  {
   "cell_type": "code",
   "execution_count": 176,
   "metadata": {},
   "outputs": [],
   "source": [
    "toxval_cramer_mgm3['toxval_new'] = toxval_cramer_mgm3['min_toxval_mgm3_adj'].apply(noec_conv)"
   ]
  },
  {
   "cell_type": "code",
   "execution_count": 178,
   "metadata": {},
   "outputs": [],
   "source": [
    "txval_carthew_ids = list(set(carthew_df.DTXSID.unique()) & set(toxval_cramer_mgm3.DTXSID.unique()))"
   ]
  },
  {
   "cell_type": "code",
   "execution_count": 181,
   "metadata": {},
   "outputs": [],
   "source": [
    "temp10 = carthew_df[carthew_df['DTXSID'].isin(txval_carthew_ids)]\n",
    "temp11 = toxval_cramer_mgm3[toxval_cramer_mgm3['DTXSID'].isin(txval_carthew_ids)]"
   ]
  },
  {
   "cell_type": "code",
   "execution_count": 185,
   "metadata": {},
   "outputs": [],
   "source": [
    "temp12 = pd.merge(temp10,temp11, on = 'DTXSID', how = 'left')"
   ]
  },
  {
   "cell_type": "code",
   "execution_count": 187,
   "metadata": {},
   "outputs": [
    {
     "data": {
      "text/html": [
       "<div>\n",
       "<style scoped>\n",
       "    .dataframe tbody tr th:only-of-type {\n",
       "        vertical-align: middle;\n",
       "    }\n",
       "\n",
       "    .dataframe tbody tr th {\n",
       "        vertical-align: top;\n",
       "    }\n",
       "\n",
       "    .dataframe thead th {\n",
       "        text-align: right;\n",
       "    }\n",
       "</style>\n",
       "<table border=\"1\" class=\"dataframe\">\n",
       "  <thead>\n",
       "    <tr style=\"text-align: right;\">\n",
       "      <th></th>\n",
       "      <th>No.</th>\n",
       "      <th>Original_name</th>\n",
       "      <th>Updated_name</th>\n",
       "      <th>Local NOAEC (mg/m3)</th>\n",
       "      <th>Systemic NOAEL (mg/kg/day)</th>\n",
       "      <th>Reference</th>\n",
       "      <th>Cramer_class</th>\n",
       "      <th>INPUT</th>\n",
       "      <th>FOUND_BY</th>\n",
       "      <th>DTXSID</th>\n",
       "      <th>PREFERRED_NAME</th>\n",
       "      <th>SMILES</th>\n",
       "      <th>AVERAGE_MASS</th>\n",
       "      <th>QSAR_READY_SMILES</th>\n",
       "      <th>Unnamed: 0</th>\n",
       "      <th>min_toxval_mgm3_adj</th>\n",
       "      <th>Cramer</th>\n",
       "      <th>toxval_new</th>\n",
       "    </tr>\n",
       "  </thead>\n",
       "  <tbody>\n",
       "    <tr>\n",
       "      <th>0</th>\n",
       "      <td>2</td>\n",
       "      <td>Benzoic acid</td>\n",
       "      <td>Benzoic acid</td>\n",
       "      <td>3.0</td>\n",
       "      <td>0.5</td>\n",
       "      <td>OECD SIDS, 2001a, IRDC, 1981</td>\n",
       "      <td>1</td>\n",
       "      <td>Benzoic acid</td>\n",
       "      <td>Approved Name</td>\n",
       "      <td>DTXSID6020143</td>\n",
       "      <td>Benzoic acid</td>\n",
       "      <td>OC(=O)C1=CC=CC=C1</td>\n",
       "      <td>122.123</td>\n",
       "      <td>OC(=O)C1=CC=CC=C1</td>\n",
       "      <td>156</td>\n",
       "      <td>41.666667</td>\n",
       "      <td>1.0</td>\n",
       "      <td>148.809524</td>\n",
       "    </tr>\n",
       "    <tr>\n",
       "      <th>1</th>\n",
       "      <td>3</td>\n",
       "      <td>1,4-Butanediol</td>\n",
       "      <td>1,4-Butanediol</td>\n",
       "      <td>79.0</td>\n",
       "      <td>14.0</td>\n",
       "      <td>Stasenkova (1965), OECD SIDS (2000a)</td>\n",
       "      <td>1</td>\n",
       "      <td>1,4-Butanediol</td>\n",
       "      <td>Approved Name</td>\n",
       "      <td>DTXSID2024666</td>\n",
       "      <td>1,4-Butanediol</td>\n",
       "      <td>OCCCCO</td>\n",
       "      <td>90.122</td>\n",
       "      <td>OCCCCO</td>\n",
       "      <td>63</td>\n",
       "      <td>0.675357</td>\n",
       "      <td>1.0</td>\n",
       "      <td>2.411990</td>\n",
       "    </tr>\n",
       "    <tr>\n",
       "      <th>2</th>\n",
       "      <td>4</td>\n",
       "      <td>n-Butyl acetate</td>\n",
       "      <td>n-Butyl acetate</td>\n",
       "      <td>847.0</td>\n",
       "      <td>307.0</td>\n",
       "      <td>David et al. (2001)</td>\n",
       "      <td>1</td>\n",
       "      <td>n-Butyl acetate</td>\n",
       "      <td>Synonym from Valid Source</td>\n",
       "      <td>DTXSID3021982</td>\n",
       "      <td>Butyl acetate</td>\n",
       "      <td>CCCCOC(C)=O</td>\n",
       "      <td>116.16</td>\n",
       "      <td>CCCCOC(C)=O</td>\n",
       "      <td>85</td>\n",
       "      <td>593.475100</td>\n",
       "      <td>1.0</td>\n",
       "      <td>2119.553930</td>\n",
       "    </tr>\n",
       "    <tr>\n",
       "      <th>3</th>\n",
       "      <td>6</td>\n",
       "      <td>2-Butoxyethanol</td>\n",
       "      <td>2-Butoxyethanol</td>\n",
       "      <td>107.0</td>\n",
       "      <td>16.0</td>\n",
       "      <td>Dodd et al. (1983)</td>\n",
       "      <td>1</td>\n",
       "      <td>2-Butoxyethanol</td>\n",
       "      <td>Approved Name</td>\n",
       "      <td>DTXSID1024097</td>\n",
       "      <td>2-Butoxyethanol</td>\n",
       "      <td>CCCCOCCO</td>\n",
       "      <td>118.176</td>\n",
       "      <td>CCCCOCCO</td>\n",
       "      <td>30</td>\n",
       "      <td>60.378006</td>\n",
       "      <td>1.0</td>\n",
       "      <td>215.635736</td>\n",
       "    </tr>\n",
       "    <tr>\n",
       "      <th>4</th>\n",
       "      <td>7</td>\n",
       "      <td>Diethylene glycol butyl ether</td>\n",
       "      <td>Diethylene glycol butyl ether</td>\n",
       "      <td>34.0</td>\n",
       "      <td>6.4</td>\n",
       "      <td>OECD SIDS (2005a)</td>\n",
       "      <td>1</td>\n",
       "      <td>Diethylene glycol butyl ether</td>\n",
       "      <td>Synonym from Valid Source</td>\n",
       "      <td>DTXSID8021519</td>\n",
       "      <td>2-(2-Butoxyethoxy)ethanol</td>\n",
       "      <td>CCCCOCCOCCO</td>\n",
       "      <td>162.229</td>\n",
       "      <td>CCCCOCCOCCO</td>\n",
       "      <td>201</td>\n",
       "      <td>6.630904</td>\n",
       "      <td>1.0</td>\n",
       "      <td>23.681799</td>\n",
       "    </tr>\n",
       "  </tbody>\n",
       "</table>\n",
       "</div>"
      ],
      "text/plain": [
       "   No.                  Original_name                   Updated_name  \\\n",
       "0    2                   Benzoic acid                   Benzoic acid   \n",
       "1    3                 1,4-Butanediol                 1,4-Butanediol   \n",
       "2    4                n-Butyl acetate                n-Butyl acetate   \n",
       "3    6                2-Butoxyethanol                2-Butoxyethanol   \n",
       "4    7  Diethylene glycol butyl ether  Diethylene glycol butyl ether   \n",
       "\n",
       "   Local NOAEC (mg/m3)  Systemic NOAEL (mg/kg/day)  \\\n",
       "0                  3.0                         0.5   \n",
       "1                 79.0                        14.0   \n",
       "2                847.0                       307.0   \n",
       "3                107.0                        16.0   \n",
       "4                 34.0                         6.4   \n",
       "\n",
       "                              Reference  Cramer_class  \\\n",
       "0          OECD SIDS, 2001a, IRDC, 1981             1   \n",
       "1  Stasenkova (1965), OECD SIDS (2000a)             1   \n",
       "2                   David et al. (2001)             1   \n",
       "3                    Dodd et al. (1983)             1   \n",
       "4                     OECD SIDS (2005a)             1   \n",
       "\n",
       "                           INPUT                   FOUND_BY         DTXSID  \\\n",
       "0                   Benzoic acid              Approved Name  DTXSID6020143   \n",
       "1                 1,4-Butanediol              Approved Name  DTXSID2024666   \n",
       "2                n-Butyl acetate  Synonym from Valid Source  DTXSID3021982   \n",
       "3                2-Butoxyethanol              Approved Name  DTXSID1024097   \n",
       "4  Diethylene glycol butyl ether  Synonym from Valid Source  DTXSID8021519   \n",
       "\n",
       "              PREFERRED_NAME             SMILES AVERAGE_MASS  \\\n",
       "0               Benzoic acid  OC(=O)C1=CC=CC=C1      122.123   \n",
       "1             1,4-Butanediol             OCCCCO       90.122   \n",
       "2              Butyl acetate        CCCCOC(C)=O       116.16   \n",
       "3            2-Butoxyethanol           CCCCOCCO      118.176   \n",
       "4  2-(2-Butoxyethoxy)ethanol        CCCCOCCOCCO      162.229   \n",
       "\n",
       "   QSAR_READY_SMILES  Unnamed: 0  min_toxval_mgm3_adj  Cramer   toxval_new  \n",
       "0  OC(=O)C1=CC=CC=C1         156            41.666667     1.0   148.809524  \n",
       "1             OCCCCO          63             0.675357     1.0     2.411990  \n",
       "2        CCCCOC(C)=O          85           593.475100     1.0  2119.553930  \n",
       "3           CCCCOCCO          30            60.378006     1.0   215.635736  \n",
       "4        CCCCOCCOCCO         201             6.630904     1.0    23.681799  "
      ]
     },
     "execution_count": 187,
     "metadata": {},
     "output_type": "execute_result"
    }
   ],
   "source": [
    "temp12.head()"
   ]
  },
  {
   "cell_type": "code",
   "execution_count": 189,
   "metadata": {},
   "outputs": [
    {
     "data": {
      "image/png": "[encoded data removed]",
      "text/plain": [
       "<Figure size 648x432 with 1 Axes>"
      ]
     },
     "metadata": {},
     "output_type": "display_data"
    }
   ],
   "source": [
    "labels = ['ToxValDB', 'Carthew']\n",
    "data = [temp12['toxval_new'], temp12['Systemic NOAEL (mg/kg/day)']]\n",
    "f,ax = plt.subplots(figsize = (9,6))\n",
    "ax.boxplot(data, labels = labels)\n",
    "plt.yscale('log')\n",
    "plt.ylabel('NOAEL/NOEC ppm')\n",
    "plt.savefig(figures_dir+'Carthew_ToxVal_boxplot_comparison.jpg', dpi = 300)"
   ]
  },
  {
   "cell_type": "code",
   "execution_count": 190,
   "metadata": {},
   "outputs": [
    {
     "data": {
      "text/plain": [
       "Ttest_indResult(statistic=1.0960866610530187, pvalue=0.27552487800405473)"
      ]
     },
     "execution_count": 190,
     "metadata": {},
     "output_type": "execute_result"
    }
   ],
   "source": [
    "stats.ttest_ind(temp12['toxval_new'], temp12['Systemic NOAEL (mg/kg/day)'])"
   ]
  },
  {
   "cell_type": "code",
   "execution_count": 191,
   "metadata": {},
   "outputs": [
    {
     "data": {
      "text/plain": [
       "(54, 18)"
      ]
     },
     "execution_count": 191,
     "metadata": {},
     "output_type": "execute_result"
    }
   ],
   "source": [
    "temp12.shape"
   ]
  },
  {
   "cell_type": "code",
   "execution_count": 192,
   "metadata": {},
   "outputs": [],
   "source": [
    "temp12['logtoxval'] = np.log10(temp12['toxval_new'])\n",
    "temp12['logCarthew'] = np.log10(temp12['Systemic NOAEL (mg/kg/day)'])"
   ]
  },
  {
   "cell_type": "code",
   "execution_count": 193,
   "metadata": {},
   "outputs": [
    {
     "data": {
      "text/plain": [
       "LinregressResult(slope=0.4230764350869608, intercept=0.795383327302313, rvalue=0.5672307787604943, pvalue=7.737764622772916e-06, stderr=0.08518282428148317)"
      ]
     },
     "execution_count": 193,
     "metadata": {},
     "output_type": "execute_result"
    }
   ],
   "source": [
    "linregress(temp12['logtoxval'],temp12['logCarthew'])"
   ]
  },
  {
   "cell_type": "code",
   "execution_count": 196,
   "metadata": {},
   "outputs": [
    {
     "data": {
      "image/png": "[encoded data removed]",
      "text/plain": [
       "<Figure size 648x432 with 1 Axes>"
      ]
     },
     "metadata": {},
     "output_type": "display_data"
    }
   ],
   "source": [
    "plt.figure(figsize = (9,6))\n",
    "plt.plot(temp12['logtoxval'],temp12['logCarthew'], linestyle ='none', marker = '.')\n",
    "#plt.yscale('log')\n",
    "#plt.xscale('log')\n",
    "abline(0.4230764350869608,0.795383327302313)\n",
    "plt.xlabel('ToxValDB logNOAEC mg/kg/day')\n",
    "plt.ylabel('Carthew logNOAEC mg/kg/day')\n",
    "plt.text(4.5,-1, 'r = 0.567', fontsize = 12)\n",
    "plt.savefig(figures_dir+'Carthew_ToxVal_comparison.jpg', dpi = 300)"
   ]
  },
  {
   "cell_type": "code",
   "execution_count": 201,
   "metadata": {},
   "outputs": [
    {
     "data": {
      "text/html": [
       "<div>\n",
       "<style scoped>\n",
       "    .dataframe tbody tr th:only-of-type {\n",
       "        vertical-align: middle;\n",
       "    }\n",
       "\n",
       "    .dataframe tbody tr th {\n",
       "        vertical-align: top;\n",
       "    }\n",
       "\n",
       "    .dataframe thead th {\n",
       "        text-align: right;\n",
       "    }\n",
       "</style>\n",
       "<table border=\"1\" class=\"dataframe\">\n",
       "  <thead>\n",
       "    <tr style=\"text-align: right;\">\n",
       "      <th></th>\n",
       "      <th>Updated_name</th>\n",
       "      <th>Systemic NOAEL (mg/kg/day)</th>\n",
       "      <th>min_toxval_mgm3_adj</th>\n",
       "      <th>Cramer</th>\n",
       "      <th>toxval_new</th>\n",
       "      <th>logtoxval</th>\n",
       "      <th>logCarthew</th>\n",
       "    </tr>\n",
       "  </thead>\n",
       "  <tbody>\n",
       "    <tr>\n",
       "      <th>0</th>\n",
       "      <td>Benzoic acid</td>\n",
       "      <td>0.5</td>\n",
       "      <td>41.666667</td>\n",
       "      <td>1.0</td>\n",
       "      <td>148.809524</td>\n",
       "      <td>2.172631</td>\n",
       "      <td>-0.301030</td>\n",
       "    </tr>\n",
       "    <tr>\n",
       "      <th>1</th>\n",
       "      <td>1,4-Butanediol</td>\n",
       "      <td>14.0</td>\n",
       "      <td>0.675357</td>\n",
       "      <td>1.0</td>\n",
       "      <td>2.411990</td>\n",
       "      <td>0.382375</td>\n",
       "      <td>1.146128</td>\n",
       "    </tr>\n",
       "    <tr>\n",
       "      <th>2</th>\n",
       "      <td>n-Butyl acetate</td>\n",
       "      <td>307.0</td>\n",
       "      <td>593.475100</td>\n",
       "      <td>1.0</td>\n",
       "      <td>2119.553930</td>\n",
       "      <td>3.326244</td>\n",
       "      <td>2.487138</td>\n",
       "    </tr>\n",
       "    <tr>\n",
       "      <th>3</th>\n",
       "      <td>2-Butoxyethanol</td>\n",
       "      <td>16.0</td>\n",
       "      <td>60.378006</td>\n",
       "      <td>1.0</td>\n",
       "      <td>215.635736</td>\n",
       "      <td>2.333721</td>\n",
       "      <td>1.204120</td>\n",
       "    </tr>\n",
       "    <tr>\n",
       "      <th>4</th>\n",
       "      <td>Diethylene glycol butyl ether</td>\n",
       "      <td>6.4</td>\n",
       "      <td>6.630904</td>\n",
       "      <td>1.0</td>\n",
       "      <td>23.681799</td>\n",
       "      <td>1.374415</td>\n",
       "      <td>0.806180</td>\n",
       "    </tr>\n",
       "  </tbody>\n",
       "</table>\n",
       "</div>"
      ],
      "text/plain": [
       "                    Updated_name  Systemic NOAEL (mg/kg/day)  \\\n",
       "0                   Benzoic acid                         0.5   \n",
       "1                 1,4-Butanediol                        14.0   \n",
       "2                n-Butyl acetate                       307.0   \n",
       "3                2-Butoxyethanol                        16.0   \n",
       "4  Diethylene glycol butyl ether                         6.4   \n",
       "\n",
       "   min_toxval_mgm3_adj  Cramer   toxval_new  logtoxval  logCarthew  \n",
       "0            41.666667     1.0   148.809524   2.172631   -0.301030  \n",
       "1             0.675357     1.0     2.411990   0.382375    1.146128  \n",
       "2           593.475100     1.0  2119.553930   3.326244    2.487138  \n",
       "3            60.378006     1.0   215.635736   2.333721    1.204120  \n",
       "4             6.630904     1.0    23.681799   1.374415    0.806180  "
      ]
     },
     "execution_count": 201,
     "metadata": {},
     "output_type": "execute_result"
    }
   ],
   "source": [
    "temp12[['Updated_name','Systemic NOAEL (mg/kg/day)','min_toxval_mgm3_adj', 'Cramer',\n",
    "       'toxval_new', 'logtoxval', 'logCarthew']].head()"
   ]
  },
  {
   "cell_type": "code",
   "execution_count": null,
   "metadata": {},
   "outputs": [],
   "source": []
  },
  {
   "cell_type": "code",
   "execution_count": null,
   "metadata": {},
   "outputs": [],
   "source": []
  },
  {
   "cell_type": "code",
   "execution_count": null,
   "metadata": {},
   "outputs": [],
   "source": []
  },
  {
   "cell_type": "code",
   "execution_count": null,
   "metadata": {},
   "outputs": [],
   "source": []
  }
 ],
 "metadata": {
  "kernelspec": {
   "display_name": "Python 3",
   "language": "python",
   "name": "python3"
  },
  "language_info": {
   "codemirror_mode": {
    "name": "ipython",
    "version": 3
   },
   "file_extension": ".py",
   "mimetype": "text/x-python",
   "name": "python",
   "nbconvert_exporter": "python",
   "pygments_lexer": "ipython3",
   "version": "3.7.6"
  }
 },
 "nbformat": 4,
 "nbformat_minor": 4
}
