{
 "cells": [
  {
   "cell_type": "code",
   "execution_count": 1,
   "metadata": {},
   "outputs": [],
   "source": [
    "raw_dat_dir = '/home/grace/Documents/python/ttc_inhalation/data/raw/'\n",
    "processed_dat_dir = '/home/grace/Documents/python/ttc_inhalation/data/processed/'\n",
    "interim_dat_dir = '/home/grace/Documents/python/ttc_inhalation/data/interim/'"
   ]
  },
  {
   "cell_type": "code",
   "execution_count": 2,
   "metadata": {},
   "outputs": [],
   "source": [
    "import pandas as pd\n",
    "import numpy as np\n",
    "import matplotlib.pyplot as plt\n",
    "import seaborn as sns\n",
    "%matplotlib inline"
   ]
  },
  {
   "cell_type": "code",
   "execution_count": 3,
   "metadata": {},
   "outputs": [],
   "source": [
    "import os\n",
    "import glob"
   ]
  },
  {
   "cell_type": "markdown",
   "metadata": {},
   "source": [
    "### Process ToxVal.sdf through the various components from Toxtree"
   ]
  },
  {
   "cell_type": "code",
   "execution_count": 4,
   "metadata": {},
   "outputs": [],
   "source": [
    "kroes = pd.read_csv(processed_dat_dir+'Kroes_results.csv')\n"
   ]
  },
  {
   "cell_type": "code",
   "execution_count": 5,
   "metadata": {},
   "outputs": [
    {
     "data": {
      "text/plain": [
       "Index(['DTXSID', 'Kroes TTC decision tree',\n",
       "       'Kroes TTC decision tree#explanation', 'cdk:Remark', 'cdk:Title',\n",
       "       'name', 'SMILES'],\n",
       "      dtype='object')"
      ]
     },
     "execution_count": 5,
     "metadata": {},
     "output_type": "execute_result"
    }
   ],
   "source": [
    "kroes.columns"
   ]
  },
  {
   "cell_type": "markdown",
   "metadata": {},
   "source": [
    "## Checked Kroes for null and removed them"
   ]
  },
  {
   "cell_type": "code",
   "execution_count": 8,
   "metadata": {},
   "outputs": [],
   "source": [
    "kroes = kroes[~kroes['Kroes TTC decision tree'].isnull()]"
   ]
  },
  {
   "cell_type": "code",
   "execution_count": 9,
   "metadata": {},
   "outputs": [
    {
     "data": {
      "text/plain": [
       "(4701, 7)"
      ]
     },
     "execution_count": 9,
     "metadata": {},
     "output_type": "execute_result"
    }
   ],
   "source": [
    "kroes.shape"
   ]
  },
  {
   "cell_type": "code",
   "execution_count": 10,
   "metadata": {},
   "outputs": [
    {
     "data": {
      "text/html": [
       "<div>\n",
       "<style scoped>\n",
       "    .dataframe tbody tr th:only-of-type {\n",
       "        vertical-align: middle;\n",
       "    }\n",
       "\n",
       "    .dataframe tbody tr th {\n",
       "        vertical-align: top;\n",
       "    }\n",
       "\n",
       "    .dataframe thead th {\n",
       "        text-align: right;\n",
       "    }\n",
       "</style>\n",
       "<table border=\"1\" class=\"dataframe\">\n",
       "  <thead>\n",
       "    <tr style=\"text-align: right;\">\n",
       "      <th></th>\n",
       "      <th>DTXSID</th>\n",
       "      <th>Kroes TTC decision tree</th>\n",
       "      <th>Kroes TTC decision tree#explanation</th>\n",
       "      <th>cdk:Remark</th>\n",
       "      <th>cdk:Title</th>\n",
       "      <th>name</th>\n",
       "      <th>SMILES</th>\n",
       "    </tr>\n",
       "  </thead>\n",
       "  <tbody>\n",
       "    <tr>\n",
       "      <th>0</th>\n",
       "      <td>DTXSID3020596</td>\n",
       "      <td>Substance would not be expected to be a safety...</td>\n",
       "      <td>Q1N,Alerts(genotoxic)Y,SA1_genN,SA2_genN,SA3_g...</td>\n",
       "      <td>NaN</td>\n",
       "      <td>DTXSID3020596</td>\n",
       "      <td>Ethylbenzene</td>\n",
       "      <td>CCC1=CC=CC=C1</td>\n",
       "    </tr>\n",
       "    <tr>\n",
       "      <th>1</th>\n",
       "      <td>DTXSID2021284</td>\n",
       "      <td>Substance would not be expected to be a safety...</td>\n",
       "      <td>Q1N,Alerts(genotoxic)Y,SA1_genN,SA2_genN,SA3_g...</td>\n",
       "      <td>NaN</td>\n",
       "      <td>DTXSID2021284</td>\n",
       "      <td>Styrene</td>\n",
       "      <td>C=CC1=CC=CC=C1</td>\n",
       "    </tr>\n",
       "    <tr>\n",
       "      <th>2</th>\n",
       "      <td>DTXSID5020865</td>\n",
       "      <td>Negligible risk (low probability of a life-tim...</td>\n",
       "      <td>Q1N,Alerts(genotoxic)Y,SA1_genN,SA2_genN,SA3_g...</td>\n",
       "      <td>NaN</td>\n",
       "      <td>DTXSID5020865</td>\n",
       "      <td>4,4-Methylenebis(2-chloroaniline)</td>\n",
       "      <td>C1=C(CC2=CC=C(C(=C2)Cl)N)C=C(C(=C1)N)Cl</td>\n",
       "    </tr>\n",
       "    <tr>\n",
       "      <th>3</th>\n",
       "      <td>DTXSID7025180</td>\n",
       "      <td>Negligible risk (low probability of a life-tim...</td>\n",
       "      <td>Q1N,Alerts(genotoxic)Y,SA1_genN,SA2_genN,SA3_g...</td>\n",
       "      <td>NaN</td>\n",
       "      <td>DTXSID7025180</td>\n",
       "      <td>4,4-Diphenylmethane diisocyanate</td>\n",
       "      <td>C1=C(C=CC(=C1)N=C=O)CC2=CC=C(C=C2)N=C=O</td>\n",
       "    </tr>\n",
       "    <tr>\n",
       "      <th>4</th>\n",
       "      <td>DTXSID6022422</td>\n",
       "      <td>Negligible risk (low probability of a life-tim...</td>\n",
       "      <td>Q1N,Alerts(genotoxic)Y,SA1_genN,SA2_genN,SA3_g...</td>\n",
       "      <td>NaN</td>\n",
       "      <td>DTXSID6022422</td>\n",
       "      <td>4,4-Diaminobiphenyl methane</td>\n",
       "      <td>C1=C(C=CC(=C1)N)CC2=CC=C(C=C2)N</td>\n",
       "    </tr>\n",
       "  </tbody>\n",
       "</table>\n",
       "</div>"
      ],
      "text/plain": [
       "          DTXSID                            Kroes TTC decision tree  \\\n",
       "0  DTXSID3020596  Substance would not be expected to be a safety...   \n",
       "1  DTXSID2021284  Substance would not be expected to be a safety...   \n",
       "2  DTXSID5020865  Negligible risk (low probability of a life-tim...   \n",
       "3  DTXSID7025180  Negligible risk (low probability of a life-tim...   \n",
       "4  DTXSID6022422  Negligible risk (low probability of a life-tim...   \n",
       "\n",
       "                 Kroes TTC decision tree#explanation  cdk:Remark  \\\n",
       "0  Q1N,Alerts(genotoxic)Y,SA1_genN,SA2_genN,SA3_g...         NaN   \n",
       "1  Q1N,Alerts(genotoxic)Y,SA1_genN,SA2_genN,SA3_g...         NaN   \n",
       "2  Q1N,Alerts(genotoxic)Y,SA1_genN,SA2_genN,SA3_g...         NaN   \n",
       "3  Q1N,Alerts(genotoxic)Y,SA1_genN,SA2_genN,SA3_g...         NaN   \n",
       "4  Q1N,Alerts(genotoxic)Y,SA1_genN,SA2_genN,SA3_g...         NaN   \n",
       "\n",
       "       cdk:Title                               name  \\\n",
       "0  DTXSID3020596                       Ethylbenzene   \n",
       "1  DTXSID2021284                            Styrene   \n",
       "2  DTXSID5020865  4,4-Methylenebis(2-chloroaniline)   \n",
       "3  DTXSID7025180   4,4-Diphenylmethane diisocyanate   \n",
       "4  DTXSID6022422        4,4-Diaminobiphenyl methane   \n",
       "\n",
       "                                    SMILES  \n",
       "0                            CCC1=CC=CC=C1  \n",
       "1                           C=CC1=CC=CC=C1  \n",
       "2  C1=C(CC2=CC=C(C(=C2)Cl)N)C=C(C(=C1)N)Cl  \n",
       "3  C1=C(C=CC(=C1)N=C=O)CC2=CC=C(C=C2)N=C=O  \n",
       "4          C1=C(C=CC(=C1)N)CC2=CC=C(C=C2)N  "
      ]
     },
     "execution_count": 10,
     "metadata": {},
     "output_type": "execute_result"
    }
   ],
   "source": [
    "kroes.head()"
   ]
  },
  {
   "cell_type": "code",
   "execution_count": 11,
   "metadata": {},
   "outputs": [
    {
     "data": {
      "text/plain": [
       "array(['Substance would not be expected to be a safety concern',\n",
       "       'Negligible risk (low probability of a life-time cancer risk greater than 1 in 10^6',\n",
       "       'Risk assessment requires compound-specific toxicity data'],\n",
       "      dtype=object)"
      ]
     },
     "execution_count": 11,
     "metadata": {},
     "output_type": "execute_result"
    }
   ],
   "source": [
    "kroes['Kroes TTC decision tree'].unique()"
   ]
  },
  {
   "cell_type": "code",
   "execution_count": 12,
   "metadata": {},
   "outputs": [],
   "source": [
    "exclusions = kroes[kroes['Kroes TTC decision tree'] == 'Risk assessment requires compound-specific toxicity data']"
   ]
  },
  {
   "cell_type": "code",
   "execution_count": 13,
   "metadata": {},
   "outputs": [
    {
     "data": {
      "text/plain": [
       "(218, 7)"
      ]
     },
     "execution_count": 13,
     "metadata": {},
     "output_type": "execute_result"
    }
   ],
   "source": [
    "exclusions.shape"
   ]
  },
  {
   "cell_type": "code",
   "execution_count": 14,
   "metadata": {},
   "outputs": [],
   "source": [
    "q1y = exclusions[exclusions['Kroes TTC decision tree#explanation'] == 'Q1Y']"
   ]
  },
  {
   "cell_type": "code",
   "execution_count": 15,
   "metadata": {},
   "outputs": [
    {
     "data": {
      "text/plain": [
       "(200, 7)"
      ]
     },
     "execution_count": 15,
     "metadata": {},
     "output_type": "execute_result"
    }
   ],
   "source": [
    "q1y.shape"
   ]
  },
  {
   "cell_type": "markdown",
   "metadata": {},
   "source": [
    "### Q1Y needs to be process through the new OPs filter as published in the Nelms et al 2019 paper"
   ]
  },
  {
   "cell_type": "code",
   "execution_count": 30,
   "metadata": {},
   "outputs": [],
   "source": [
    "q1y.to_csv(processed_dat_dir+'Q1Y.csv')"
   ]
  },
  {
   "cell_type": "code",
   "execution_count": 16,
   "metadata": {},
   "outputs": [],
   "source": [
    "q1y_wOPs = pd.read_csv(interim_dat_dir+'OPS_Q1Y.csv')"
   ]
  },
  {
   "cell_type": "markdown",
   "metadata": {},
   "source": [
    "### Identifying actual OPs"
   ]
  },
  {
   "cell_type": "code",
   "execution_count": 17,
   "metadata": {},
   "outputs": [],
   "source": [
    "OPs = q1y_wOPs[q1y_wOPs['Mark_OPs'] == 'Default Class 1']"
   ]
  },
  {
   "cell_type": "code",
   "execution_count": 18,
   "metadata": {},
   "outputs": [
    {
     "data": {
      "text/plain": [
       "(70, 9)"
      ]
     },
     "execution_count": 18,
     "metadata": {},
     "output_type": "execute_result"
    }
   ],
   "source": [
    "OPs.shape"
   ]
  },
  {
   "cell_type": "markdown",
   "metadata": {},
   "source": [
    "### High potency carcinogens"
   ]
  },
  {
   "cell_type": "code",
   "execution_count": 19,
   "metadata": {},
   "outputs": [],
   "source": [
    "highpotcarc = exclusions[exclusions['Kroes TTC decision tree#explanation'].str.contains('Q2Y,Q3Y')]"
   ]
  },
  {
   "cell_type": "code",
   "execution_count": 20,
   "metadata": {},
   "outputs": [
    {
     "data": {
      "text/plain": [
       "(18, 7)"
      ]
     },
     "execution_count": 20,
     "metadata": {},
     "output_type": "execute_result"
    }
   ],
   "source": [
    "highpotcarc.head()\n",
    "highpotcarc.shape"
   ]
  },
  {
   "cell_type": "markdown",
   "metadata": {},
   "source": [
    "## Substances presenting a gentox alert"
   ]
  },
  {
   "cell_type": "code",
   "execution_count": 22,
   "metadata": {},
   "outputs": [],
   "source": [
    "gentox = kroes[kroes['Kroes TTC decision tree'].str.contains('Negli')]"
   ]
  },
  {
   "cell_type": "code",
   "execution_count": 40,
   "metadata": {},
   "outputs": [],
   "source": [
    "gentox.head()\n",
    "gentox.to_csv(interim_dat_dir+'Genetox_4Toxtree.csv')"
   ]
  },
  {
   "cell_type": "code",
   "execution_count": 23,
   "metadata": {},
   "outputs": [
    {
     "data": {
      "text/plain": [
       "(1094, 7)"
      ]
     },
     "execution_count": 23,
     "metadata": {},
     "output_type": "execute_result"
    }
   ],
   "source": [
    "gentox.shape"
   ]
  },
  {
   "cell_type": "markdown",
   "metadata": {},
   "source": [
    "## Identifying carbamates"
   ]
  },
  {
   "cell_type": "code",
   "execution_count": 24,
   "metadata": {},
   "outputs": [],
   "source": [
    "carbamates = pd.read_csv(interim_dat_dir+'Genetox_carbamates.csv')"
   ]
  },
  {
   "cell_type": "code",
   "execution_count": 25,
   "metadata": {},
   "outputs": [
    {
     "data": {
      "text/plain": [
       "(17, 8)"
      ]
     },
     "execution_count": 25,
     "metadata": {},
     "output_type": "execute_result"
    }
   ],
   "source": [
    "carbamates = carbamates[carbamates['Mark_Carbamates'] == 'Default Class 1']\n",
    "carbamates.shape"
   ]
  },
  {
   "cell_type": "markdown",
   "metadata": {},
   "source": [
    "## Identifying steroids"
   ]
  },
  {
   "cell_type": "code",
   "execution_count": 26,
   "metadata": {},
   "outputs": [
    {
     "data": {
      "text/plain": [
       "(0, 8)"
      ]
     },
     "execution_count": 26,
     "metadata": {},
     "output_type": "execute_result"
    }
   ],
   "source": [
    "steroids = pd.read_csv(interim_dat_dir+'Genetox_steroids.csv')\n",
    "steroids = steroids[steroids['Steroids'] == 'Default Class 1']\n",
    "steroids.shape"
   ]
  },
  {
   "cell_type": "code",
   "execution_count": 27,
   "metadata": {},
   "outputs": [
    {
     "data": {
      "text/plain": [
       "(1094, 7)"
      ]
     },
     "execution_count": 27,
     "metadata": {},
     "output_type": "execute_result"
    }
   ],
   "source": [
    "gentox.shape"
   ]
  },
  {
   "cell_type": "markdown",
   "metadata": {},
   "source": [
    "### Anti-join to remove carbamates and steroid (in this case steroids were 0) from the gentox presenting substances"
   ]
  },
  {
   "cell_type": "code",
   "execution_count": 28,
   "metadata": {},
   "outputs": [],
   "source": [
    "mer = gentox.merge(carbamates, how='left')\n",
    "gentox_tot = mer[mer['Mark_Carbamates'].isnull()].drop(['Mark_Carbamates'], 1)"
   ]
  },
  {
   "cell_type": "code",
   "execution_count": 29,
   "metadata": {},
   "outputs": [
    {
     "data": {
      "text/plain": [
       "(1077, 7)"
      ]
     },
     "execution_count": 29,
     "metadata": {},
     "output_type": "execute_result"
    }
   ],
   "source": [
    "gentox_tot.shape"
   ]
  },
  {
   "cell_type": "markdown",
   "metadata": {},
   "source": [
    "### Remove OPs from Q1Y set"
   ]
  },
  {
   "cell_type": "code",
   "execution_count": 30,
   "metadata": {},
   "outputs": [],
   "source": [
    "mer2 = q1y.merge(OPs, how = 'left')\n",
    "Q1Y_tot = mer2[mer2['Mark_OPs'].isnull()].drop(['Mark_OPs'],1)"
   ]
  },
  {
   "cell_type": "code",
   "execution_count": 31,
   "metadata": {},
   "outputs": [
    {
     "data": {
      "text/plain": [
       "(130, 8)"
      ]
     },
     "execution_count": 31,
     "metadata": {},
     "output_type": "execute_result"
    }
   ],
   "source": [
    "Q1Y_tot.shape"
   ]
  },
  {
   "cell_type": "markdown",
   "metadata": {},
   "source": [
    "### Add steroids (if identified to the final set of exclusions Q1Y_tot"
   ]
  },
  {
   "cell_type": "markdown",
   "metadata": {},
   "source": [
    "### Add High Pot Carc and exclusions together to return all substances that are not applicable for TTC"
   ]
  },
  {
   "cell_type": "code",
   "execution_count": 32,
   "metadata": {},
   "outputs": [
    {
     "data": {
      "text/plain": [
       "(148, 14)"
      ]
     },
     "execution_count": 32,
     "metadata": {},
     "output_type": "execute_result"
    }
   ],
   "source": [
    "NA_4_TTC = pd.merge(Q1Y_tot, highpotcarc, on = 'DTXSID', how = 'outer')\n",
    "NA_4_TTC.shape\n",
    "#NA_4_TTC.to_csv(processed_dat_dir+'NA_4_TTC.csv')"
   ]
  },
  {
   "cell_type": "markdown",
   "metadata": {},
   "source": [
    "### Antijoin full Kroes set profiled and exclude all exclusions and genetox presenting substances"
   ]
  },
  {
   "cell_type": "code",
   "execution_count": 33,
   "metadata": {},
   "outputs": [
    {
     "name": "stderr",
     "output_type": "stream",
     "text": [
      "/home/grace/anaconda3/envs/clone_newchem/lib/python3.6/site-packages/ipykernel_launcher.py:1: SettingWithCopyWarning: \n",
      "A value is trying to be set on a copy of a slice from a DataFrame.\n",
      "Try using .loc[row_indexer,col_indexer] = value instead\n",
      "\n",
      "See the caveats in the documentation: http://pandas.pydata.org/pandas-docs/stable/indexing.html#indexing-view-versus-copy\n",
      "  \"\"\"Entry point for launching an IPython kernel.\n"
     ]
    }
   ],
   "source": [
    "exclusions['exclusions'] = 'exclusions'\n",
    "mer3 = kroes.merge(exclusions, how = 'left')"
   ]
  },
  {
   "cell_type": "code",
   "execution_count": 34,
   "metadata": {},
   "outputs": [],
   "source": [
    "ttc1 = mer3[mer3['exclusions'].isnull()].drop(['exclusions'],1)"
   ]
  },
  {
   "cell_type": "code",
   "execution_count": 35,
   "metadata": {},
   "outputs": [
    {
     "name": "stderr",
     "output_type": "stream",
     "text": [
      "/home/grace/anaconda3/envs/clone_newchem/lib/python3.6/site-packages/ipykernel_launcher.py:1: SettingWithCopyWarning: \n",
      "A value is trying to be set on a copy of a slice from a DataFrame.\n",
      "Try using .loc[row_indexer,col_indexer] = value instead\n",
      "\n",
      "See the caveats in the documentation: http://pandas.pydata.org/pandas-docs/stable/indexing.html#indexing-view-versus-copy\n",
      "  \"\"\"Entry point for launching an IPython kernel.\n"
     ]
    },
    {
     "data": {
      "text/plain": [
       "(3389, 7)"
      ]
     },
     "execution_count": 35,
     "metadata": {},
     "output_type": "execute_result"
    }
   ],
   "source": [
    "gentox['gentox'] = 'gentox'\n",
    "mer4 = ttc1.merge(gentox, how = 'left')\n",
    "ttc2 = mer4[mer4['gentox'].isnull()].drop(['gentox'],1)\n",
    "ttc2.shape"
   ]
  },
  {
   "cell_type": "markdown",
   "metadata": {},
   "source": [
    "### Parsing out substances from NA for TTC, what have alerts for gentox to leave substances that can be processed for Cramer tree"
   ]
  },
  {
   "cell_type": "code",
   "execution_count": 89,
   "metadata": {},
   "outputs": [],
   "source": [
    "ttc2.to_csv(interim_dat_dir+'TTC_4_Cramer.csv')"
   ]
  },
  {
   "cell_type": "markdown",
   "metadata": {},
   "source": [
    "### Process substances based on their Cramer classes"
   ]
  },
  {
   "cell_type": "code",
   "execution_count": 4,
   "metadata": {},
   "outputs": [
    {
     "data": {
      "text/html": [
       "<div>\n",
       "<style scoped>\n",
       "    .dataframe tbody tr th:only-of-type {\n",
       "        vertical-align: middle;\n",
       "    }\n",
       "\n",
       "    .dataframe tbody tr th {\n",
       "        vertical-align: top;\n",
       "    }\n",
       "\n",
       "    .dataframe thead th {\n",
       "        text-align: right;\n",
       "    }\n",
       "</style>\n",
       "<table border=\"1\" class=\"dataframe\">\n",
       "  <thead>\n",
       "    <tr style=\"text-align: right;\">\n",
       "      <th></th>\n",
       "      <th>Cramer rules</th>\n",
       "      <th>DTXSID</th>\n",
       "      <th>Kroes TTC decision tree</th>\n",
       "      <th>Kroes TTC decision tree#explanation</th>\n",
       "      <th>SMILES</th>\n",
       "      <th>cdk:Remark</th>\n",
       "      <th>cdk:Title</th>\n",
       "      <th>genetox</th>\n",
       "      <th>name</th>\n",
       "      <th>toxTree.tree.cramer.CramerTreeResult</th>\n",
       "    </tr>\n",
       "  </thead>\n",
       "  <tbody>\n",
       "    <tr>\n",
       "      <th>0</th>\n",
       "      <td>Low (Class I)</td>\n",
       "      <td>DTXSID3020596</td>\n",
       "      <td>Substance would not be expected to be a safety...</td>\n",
       "      <td>Q1N,Alerts(genotoxic)Y,SA1_genN,SA2_genN,SA3_g...</td>\n",
       "      <td>CCC1=CC=CC=C1</td>\n",
       "      <td>NaN</td>\n",
       "      <td>DTXSID3020596</td>\n",
       "      <td>NaN</td>\n",
       "      <td>Ethylbenzene</td>\n",
       "      <td>1N,2N,3N,5N,6N,7N,16N,17N,19N,23Y,27Y,28N,30N,18N</td>\n",
       "    </tr>\n",
       "    <tr>\n",
       "      <th>1</th>\n",
       "      <td>Low (Class I)</td>\n",
       "      <td>DTXSID2021284</td>\n",
       "      <td>Substance would not be expected to be a safety...</td>\n",
       "      <td>Q1N,Alerts(genotoxic)Y,SA1_genN,SA2_genN,SA3_g...</td>\n",
       "      <td>C=CC1=CC=CC=C1</td>\n",
       "      <td>NaN</td>\n",
       "      <td>DTXSID2021284</td>\n",
       "      <td>NaN</td>\n",
       "      <td>Styrene</td>\n",
       "      <td>1N,2N,3N,5N,6N,7N,16N,17N,19N,23Y,27Y,28N,30N,18N</td>\n",
       "    </tr>\n",
       "    <tr>\n",
       "      <th>2</th>\n",
       "      <td>High (Class III)</td>\n",
       "      <td>DTXSID1020431</td>\n",
       "      <td>Substance would not be expected to be a safety...</td>\n",
       "      <td>Q1N,Alerts(genotoxic)Y,SA1_genN,SA2_genN,SA3_g...</td>\n",
       "      <td>C1=C(C=CC(=C1)Cl)Cl</td>\n",
       "      <td>NaN</td>\n",
       "      <td>DTXSID1020431</td>\n",
       "      <td>NaN</td>\n",
       "      <td>1,4-Dichlorobenzene</td>\n",
       "      <td>1N,2N,3Y,4N</td>\n",
       "    </tr>\n",
       "    <tr>\n",
       "      <th>3</th>\n",
       "      <td>High (Class III)</td>\n",
       "      <td>DTXSID1021871</td>\n",
       "      <td>Substance would not be expected to be a safety...</td>\n",
       "      <td>Q1N,Alerts(genotoxic)Y,SA1_genN,SA2_genN,SA3_g...</td>\n",
       "      <td>C1=C(C=CC(=C1)O)Cl</td>\n",
       "      <td>NaN</td>\n",
       "      <td>DTXSID1021871</td>\n",
       "      <td>NaN</td>\n",
       "      <td>4-Chlorophenol</td>\n",
       "      <td>1N,2N,3Y,4N</td>\n",
       "    </tr>\n",
       "    <tr>\n",
       "      <th>4</th>\n",
       "      <td>High (Class III)</td>\n",
       "      <td>DTXSID5020029</td>\n",
       "      <td>Substance would not be expected to be a safety...</td>\n",
       "      <td>Q1N,Alerts(genotoxic)Y,SA1_genN,SA2_genN,SA3_g...</td>\n",
       "      <td>C=CC#N</td>\n",
       "      <td>NaN</td>\n",
       "      <td>DTXSID5020029</td>\n",
       "      <td>NaN</td>\n",
       "      <td>Acrylonitrile</td>\n",
       "      <td>1N,2Y</td>\n",
       "    </tr>\n",
       "  </tbody>\n",
       "</table>\n",
       "</div>"
      ],
      "text/plain": [
       "       Cramer rules         DTXSID  \\\n",
       "0     Low (Class I)  DTXSID3020596   \n",
       "1     Low (Class I)  DTXSID2021284   \n",
       "2  High (Class III)  DTXSID1020431   \n",
       "3  High (Class III)  DTXSID1021871   \n",
       "4  High (Class III)  DTXSID5020029   \n",
       "\n",
       "                             Kroes TTC decision tree  \\\n",
       "0  Substance would not be expected to be a safety...   \n",
       "1  Substance would not be expected to be a safety...   \n",
       "2  Substance would not be expected to be a safety...   \n",
       "3  Substance would not be expected to be a safety...   \n",
       "4  Substance would not be expected to be a safety...   \n",
       "\n",
       "                 Kroes TTC decision tree#explanation               SMILES  \\\n",
       "0  Q1N,Alerts(genotoxic)Y,SA1_genN,SA2_genN,SA3_g...        CCC1=CC=CC=C1   \n",
       "1  Q1N,Alerts(genotoxic)Y,SA1_genN,SA2_genN,SA3_g...       C=CC1=CC=CC=C1   \n",
       "2  Q1N,Alerts(genotoxic)Y,SA1_genN,SA2_genN,SA3_g...  C1=C(C=CC(=C1)Cl)Cl   \n",
       "3  Q1N,Alerts(genotoxic)Y,SA1_genN,SA2_genN,SA3_g...   C1=C(C=CC(=C1)O)Cl   \n",
       "4  Q1N,Alerts(genotoxic)Y,SA1_genN,SA2_genN,SA3_g...               C=CC#N   \n",
       "\n",
       "   cdk:Remark      cdk:Title  genetox                 name  \\\n",
       "0         NaN  DTXSID3020596      NaN         Ethylbenzene   \n",
       "1         NaN  DTXSID2021284      NaN              Styrene   \n",
       "2         NaN  DTXSID1020431      NaN  1,4-Dichlorobenzene   \n",
       "3         NaN  DTXSID1021871      NaN       4-Chlorophenol   \n",
       "4         NaN  DTXSID5020029      NaN        Acrylonitrile   \n",
       "\n",
       "                toxTree.tree.cramer.CramerTreeResult  \n",
       "0  1N,2N,3N,5N,6N,7N,16N,17N,19N,23Y,27Y,28N,30N,18N  \n",
       "1  1N,2N,3N,5N,6N,7N,16N,17N,19N,23Y,27Y,28N,30N,18N  \n",
       "2                                        1N,2N,3Y,4N  \n",
       "3                                        1N,2N,3Y,4N  \n",
       "4                                              1N,2Y  "
      ]
     },
     "execution_count": 4,
     "metadata": {},
     "output_type": "execute_result"
    }
   ],
   "source": [
    "cramer = pd.read_csv(interim_dat_dir+'Cramer_4Toxtree_results.csv')\n",
    "cramer.head()"
   ]
  },
  {
   "cell_type": "code",
   "execution_count": 5,
   "metadata": {},
   "outputs": [],
   "source": [
    "figures_dir = '/home/grace/Documents/python/ttc_inhalation/reports/figures/'"
   ]
  },
  {
   "cell_type": "code",
   "execution_count": 9,
   "metadata": {},
   "outputs": [
    {
     "data": {
      "image/png": "[encoded data removed]",
      "text/plain": [
       "<Figure size 432x288 with 1 Axes>"
      ]
     },
     "metadata": {},
     "output_type": "display_data"
    }
   ],
   "source": [
    "plt.style.use('ggplot')\n",
    "cramer['Cramer rules'].value_counts(dropna = False).sort_index(ascending = False).plot.bar()\n",
    "plt.ylabel('Number of chemicals')\n",
    "plt.tight_layout()\n",
    "plt.savefig(figures_dir+'Cramer_designations.png', dpi = 300)"
   ]
  },
  {
   "cell_type": "code",
   "execution_count": 38,
   "metadata": {},
   "outputs": [
    {
     "data": {
      "text/plain": [
       "High (Class III)           1726\n",
       "Low (Class I)              1498\n",
       "Intermediate (Class II)     165\n",
       "Name: Cramer rules, dtype: int64"
      ]
     },
     "execution_count": 38,
     "metadata": {},
     "output_type": "execute_result"
    }
   ],
   "source": [
    "cramer['Cramer rules'].value_counts(dropna = False)"
   ]
  },
  {
   "cell_type": "markdown",
   "metadata": {},
   "source": [
    "### Chemical properties"
   ]
  },
  {
   "cell_type": "code",
   "execution_count": 98,
   "metadata": {},
   "outputs": [],
   "source": [
    "chem_prop = pd.read_csv(processed_dat_dir+'ToxVal_v7_pred_physchem.csv')"
   ]
  },
  {
   "cell_type": "code",
   "execution_count": 99,
   "metadata": {},
   "outputs": [
    {
     "data": {
      "text/plain": [
       "(4703, 61)"
      ]
     },
     "execution_count": 99,
     "metadata": {},
     "output_type": "execute_result"
    }
   ],
   "source": [
    "chem_prop.shape"
   ]
  },
  {
   "cell_type": "code",
   "execution_count": 102,
   "metadata": {},
   "outputs": [],
   "source": [
    "mydict = {'DTXSID' : 'MoleculeID',\n",
    "         'nbHBdAcc': 'nH_bond_acc', \n",
    "         'ndHBdDon' : 'nH_bond_don', \n",
    "         'MolWeight' : 'MW',\n",
    "         'TopoPolSurfAir' : 'TPSA' ,\n",
    "         'logP' : 'LogP_pred',\n",
    "         'melting_point' : 'MP_pred',\n",
    "         'boiling_point' : 'BP_pred',\n",
    "         'log_vapour_pres' : 'LogVP_pred',\n",
    "         'log_water_sol' : 'LogWS_pred',\n",
    "         'log_henrys_law' : 'LogHL_pred',\n",
    "         'logKOA' : 'LogKOA_pred',\n",
    "         'pKa_acid' : 'pKa_a_pred',\n",
    "         'pKa_base' : 'pKa_b_pred',\n",
    "         'logD_55' : 'LogD55_pred',\n",
    "         'logD_74' : 'LogD74_pred',\n",
    "         'logOH' : 'LogOH_pred'}"
   ]
  },
  {
   "cell_type": "code",
   "execution_count": 104,
   "metadata": {},
   "outputs": [],
   "source": [
    "myrev_dict = {v:k for k,v in mydict.items()}"
   ]
  },
  {
   "cell_type": "code",
   "execution_count": 105,
   "metadata": {},
   "outputs": [],
   "source": [
    "chem_prop.rename(columns = myrev_dict, inplace = True)"
   ]
  },
  {
   "cell_type": "code",
   "execution_count": 106,
   "metadata": {},
   "outputs": [
    {
     "data": {
      "text/html": [
       "<div>\n",
       "<style scoped>\n",
       "    .dataframe tbody tr th:only-of-type {\n",
       "        vertical-align: middle;\n",
       "    }\n",
       "\n",
       "    .dataframe tbody tr th {\n",
       "        vertical-align: top;\n",
       "    }\n",
       "\n",
       "    .dataframe thead th {\n",
       "        text-align: right;\n",
       "    }\n",
       "</style>\n",
       "<table border=\"1\" class=\"dataframe\">\n",
       "  <thead>\n",
       "    <tr style=\"text-align: right;\">\n",
       "      <th></th>\n",
       "      <th>DTXSID</th>\n",
       "      <th>MolWeight</th>\n",
       "      <th>nbAtoms</th>\n",
       "      <th>nbHeavyAtoms</th>\n",
       "      <th>nbC</th>\n",
       "      <th>nbO</th>\n",
       "      <th>nbN</th>\n",
       "      <th>nbAromAtom</th>\n",
       "      <th>nbRing</th>\n",
       "      <th>nbHeteroRing</th>\n",
       "      <th>...</th>\n",
       "      <th>Conf_index_pKa</th>\n",
       "      <th>logD_55</th>\n",
       "      <th>logD_74</th>\n",
       "      <th>AD_LogD</th>\n",
       "      <th>AD_index_LogD</th>\n",
       "      <th>Conf_index_LogD</th>\n",
       "      <th>logOH</th>\n",
       "      <th>AD_AOH</th>\n",
       "      <th>AD_index_AOH</th>\n",
       "      <th>Conf_index_AOH</th>\n",
       "    </tr>\n",
       "  </thead>\n",
       "  <tbody>\n",
       "    <tr>\n",
       "      <th>0</th>\n",
       "      <td>DTXSID3020596</td>\n",
       "      <td>106.078250</td>\n",
       "      <td>18</td>\n",
       "      <td>8</td>\n",
       "      <td>8</td>\n",
       "      <td>0</td>\n",
       "      <td>0</td>\n",
       "      <td>6</td>\n",
       "      <td>1</td>\n",
       "      <td>0</td>\n",
       "      <td>...</td>\n",
       "      <td>0.358701</td>\n",
       "      <td>3.169397</td>\n",
       "      <td>3.169397</td>\n",
       "      <td>1</td>\n",
       "      <td>0.678181</td>\n",
       "      <td>0.596891</td>\n",
       "      <td>-10.977672</td>\n",
       "      <td>1</td>\n",
       "      <td>0.911374</td>\n",
       "      <td>0.817831</td>\n",
       "    </tr>\n",
       "    <tr>\n",
       "      <th>1</th>\n",
       "      <td>DTXSID2021284</td>\n",
       "      <td>104.062600</td>\n",
       "      <td>16</td>\n",
       "      <td>8</td>\n",
       "      <td>8</td>\n",
       "      <td>0</td>\n",
       "      <td>0</td>\n",
       "      <td>6</td>\n",
       "      <td>1</td>\n",
       "      <td>0</td>\n",
       "      <td>...</td>\n",
       "      <td>0.431938</td>\n",
       "      <td>2.928553</td>\n",
       "      <td>2.928553</td>\n",
       "      <td>1</td>\n",
       "      <td>0.656950</td>\n",
       "      <td>0.662520</td>\n",
       "      <td>-10.274111</td>\n",
       "      <td>1</td>\n",
       "      <td>0.853899</td>\n",
       "      <td>0.804606</td>\n",
       "    </tr>\n",
       "    <tr>\n",
       "      <th>2</th>\n",
       "      <td>DTXSID5020865</td>\n",
       "      <td>266.037754</td>\n",
       "      <td>29</td>\n",
       "      <td>17</td>\n",
       "      <td>13</td>\n",
       "      <td>0</td>\n",
       "      <td>2</td>\n",
       "      <td>12</td>\n",
       "      <td>2</td>\n",
       "      <td>0</td>\n",
       "      <td>...</td>\n",
       "      <td>0.688743</td>\n",
       "      <td>3.616479</td>\n",
       "      <td>3.707869</td>\n",
       "      <td>1</td>\n",
       "      <td>0.662210</td>\n",
       "      <td>0.684440</td>\n",
       "      <td>-10.847789</td>\n",
       "      <td>1</td>\n",
       "      <td>0.360898</td>\n",
       "      <td>0.568695</td>\n",
       "    </tr>\n",
       "    <tr>\n",
       "      <th>3</th>\n",
       "      <td>DTXSID7025180</td>\n",
       "      <td>250.074228</td>\n",
       "      <td>29</td>\n",
       "      <td>19</td>\n",
       "      <td>15</td>\n",
       "      <td>2</td>\n",
       "      <td>2</td>\n",
       "      <td>12</td>\n",
       "      <td>2</td>\n",
       "      <td>0</td>\n",
       "      <td>...</td>\n",
       "      <td>0.605524</td>\n",
       "      <td>2.818890</td>\n",
       "      <td>2.818906</td>\n",
       "      <td>1</td>\n",
       "      <td>0.386349</td>\n",
       "      <td>0.576067</td>\n",
       "      <td>-10.940394</td>\n",
       "      <td>0</td>\n",
       "      <td>0.194449</td>\n",
       "      <td>0.458024</td>\n",
       "    </tr>\n",
       "    <tr>\n",
       "      <th>4</th>\n",
       "      <td>DTXSID6022422</td>\n",
       "      <td>198.115698</td>\n",
       "      <td>29</td>\n",
       "      <td>15</td>\n",
       "      <td>13</td>\n",
       "      <td>0</td>\n",
       "      <td>2</td>\n",
       "      <td>12</td>\n",
       "      <td>2</td>\n",
       "      <td>0</td>\n",
       "      <td>...</td>\n",
       "      <td>0.848858</td>\n",
       "      <td>1.416549</td>\n",
       "      <td>1.524975</td>\n",
       "      <td>1</td>\n",
       "      <td>0.915255</td>\n",
       "      <td>0.840320</td>\n",
       "      <td>-10.528324</td>\n",
       "      <td>1</td>\n",
       "      <td>0.853005</td>\n",
       "      <td>0.845125</td>\n",
       "    </tr>\n",
       "  </tbody>\n",
       "</table>\n",
       "<p>5 rows × 61 columns</p>\n",
       "</div>"
      ],
      "text/plain": [
       "          DTXSID   MolWeight  nbAtoms  nbHeavyAtoms  nbC  nbO  nbN  \\\n",
       "0  DTXSID3020596  106.078250       18             8    8    0    0   \n",
       "1  DTXSID2021284  104.062600       16             8    8    0    0   \n",
       "2  DTXSID5020865  266.037754       29            17   13    0    2   \n",
       "3  DTXSID7025180  250.074228       29            19   15    2    2   \n",
       "4  DTXSID6022422  198.115698       29            15   13    0    2   \n",
       "\n",
       "   nbAromAtom  nbRing  nbHeteroRing       ...        Conf_index_pKa   logD_55  \\\n",
       "0           6       1             0       ...              0.358701  3.169397   \n",
       "1           6       1             0       ...              0.431938  2.928553   \n",
       "2          12       2             0       ...              0.688743  3.616479   \n",
       "3          12       2             0       ...              0.605524  2.818890   \n",
       "4          12       2             0       ...              0.848858  1.416549   \n",
       "\n",
       "    logD_74  AD_LogD  AD_index_LogD  Conf_index_LogD      logOH  AD_AOH  \\\n",
       "0  3.169397        1       0.678181         0.596891 -10.977672       1   \n",
       "1  2.928553        1       0.656950         0.662520 -10.274111       1   \n",
       "2  3.707869        1       0.662210         0.684440 -10.847789       1   \n",
       "3  2.818906        1       0.386349         0.576067 -10.940394       0   \n",
       "4  1.524975        1       0.915255         0.840320 -10.528324       1   \n",
       "\n",
       "   AD_index_AOH  Conf_index_AOH  \n",
       "0      0.911374        0.817831  \n",
       "1      0.853899        0.804606  \n",
       "2      0.360898        0.568695  \n",
       "3      0.194449        0.458024  \n",
       "4      0.853005        0.845125  \n",
       "\n",
       "[5 rows x 61 columns]"
      ]
     },
     "execution_count": 106,
     "metadata": {},
     "output_type": "execute_result"
    }
   ],
   "source": [
    "chem_prop.head()"
   ]
  },
  {
   "cell_type": "code",
   "execution_count": 107,
   "metadata": {},
   "outputs": [],
   "source": [
    "chem_prop.to_csv(processed_dat_dir+'ToxVal_v7_chem_prop.csv')"
   ]
  },
  {
   "cell_type": "code",
   "execution_count": null,
   "metadata": {},
   "outputs": [],
   "source": []
  },
  {
   "cell_type": "code",
   "execution_count": null,
   "metadata": {},
   "outputs": [],
   "source": []
  },
  {
   "cell_type": "code",
   "execution_count": null,
   "metadata": {},
   "outputs": [],
   "source": []
  }
 ],
 "metadata": {
  "kernelspec": {
   "display_name": "chem",
   "language": "python",
   "name": "chem"
  },
  "language_info": {
   "codemirror_mode": {
    "name": "ipython",
    "version": 3
   },
   "file_extension": ".py",
   "mimetype": "text/x-python",
   "name": "python",
   "nbconvert_exporter": "python",
   "pygments_lexer": "ipython3",
   "version": "3.6.10"
  }
 },
 "nbformat": 4,
 "nbformat_minor": 4
}
