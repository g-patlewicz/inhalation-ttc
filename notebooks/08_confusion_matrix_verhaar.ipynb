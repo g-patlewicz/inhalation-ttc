{
 "cells": [
  {
   "cell_type": "code",
   "execution_count": 46,
   "metadata": {},
   "outputs": [],
   "source": [
    "import numpy as np\n",
    "import pandas as pd\n",
    "import matplotlib.pyplot as plt\n",
    "import seaborn as sns\n",
    "%matplotlib inline\n",
    "import glob"
   ]
  },
  {
   "cell_type": "code",
   "execution_count": 2,
   "metadata": {},
   "outputs": [],
   "source": [
    "raw_dat_dir = '/home/grace/Documents/python/ttc_inhalation/data/raw/'\n",
    "processed_dat_dir = '/home/grace/Documents/python/ttc_inhalation/data/processed/'\n",
    "interim_dat_dir = '/home/grace/Documents/python/ttc_inhalation/data/interim/'\n",
    "figures_dir = '/home/grace/Documents/python/ttc_inhalation/reports/figures/'"
   ]
  },
  {
   "cell_type": "code",
   "execution_count": 3,
   "metadata": {},
   "outputs": [],
   "source": [
    "xls = pd.ExcelFile(processed_dat_dir+'ttc_moa_v1.xlsx')"
   ]
  },
  {
   "cell_type": "code",
   "execution_count": 4,
   "metadata": {},
   "outputs": [
    {
     "data": {
      "text/plain": [
       "['ttc_moa_v1']"
      ]
     },
     "execution_count": 4,
     "metadata": {},
     "output_type": "execute_result"
    }
   ],
   "source": [
    "xls.sheet_names"
   ]
  },
  {
   "cell_type": "code",
   "execution_count": 8,
   "metadata": {},
   "outputs": [],
   "source": [
    "ttc_moa_df = xls.parse('ttc_moa_v1')"
   ]
  },
  {
   "cell_type": "code",
   "execution_count": 9,
   "metadata": {},
   "outputs": [
    {
     "data": {
      "text/html": [
       "<div>\n",
       "<style scoped>\n",
       "    .dataframe tbody tr th:only-of-type {\n",
       "        vertical-align: middle;\n",
       "    }\n",
       "\n",
       "    .dataframe tbody tr th {\n",
       "        vertical-align: top;\n",
       "    }\n",
       "\n",
       "    .dataframe thead th {\n",
       "        text-align: right;\n",
       "    }\n",
       "</style>\n",
       "<table border=\"1\" class=\"dataframe\">\n",
       "  <thead>\n",
       "    <tr style=\"text-align: right;\">\n",
       "      <th></th>\n",
       "      <th>Unnamed: 0</th>\n",
       "      <th>DTXSID</th>\n",
       "      <th>min_toxval_mgm3_adj</th>\n",
       "      <th>Cramer_class</th>\n",
       "      <th>Aquatic_OASIS</th>\n",
       "      <th>Verhaar</th>\n",
       "      <th>log_min_toxval_mgm3_adj</th>\n",
       "      <th>Verhaar_toxtree</th>\n",
       "      <th>OASIS_v2</th>\n",
       "      <th>consensus_MOA</th>\n",
       "    </tr>\n",
       "  </thead>\n",
       "  <tbody>\n",
       "    <tr>\n",
       "      <th>0</th>\n",
       "      <td>0</td>\n",
       "      <td>DTXSID0020315</td>\n",
       "      <td>0.005000</td>\n",
       "      <td>ClassIII</td>\n",
       "      <td>baseline_narcotic</td>\n",
       "      <td>unclassified</td>\n",
       "      <td>-2.301030</td>\n",
       "      <td>unclassified</td>\n",
       "      <td>baseline_narcotic</td>\n",
       "      <td>unclassified</td>\n",
       "    </tr>\n",
       "    <tr>\n",
       "      <th>1</th>\n",
       "      <td>1</td>\n",
       "      <td>DTXSID0020446</td>\n",
       "      <td>0.683333</td>\n",
       "      <td>ClassIII</td>\n",
       "      <td>baseline_narcotic</td>\n",
       "      <td>reactive</td>\n",
       "      <td>-0.165367</td>\n",
       "      <td>unclassified</td>\n",
       "      <td>baseline_narcotic</td>\n",
       "      <td>reactive</td>\n",
       "    </tr>\n",
       "    <tr>\n",
       "      <th>2</th>\n",
       "      <td>2</td>\n",
       "      <td>DTXSID0021096</td>\n",
       "      <td>9.800000</td>\n",
       "      <td>ClassIII</td>\n",
       "      <td>reactive</td>\n",
       "      <td>unclassified</td>\n",
       "      <td>0.991226</td>\n",
       "      <td>unclassified</td>\n",
       "      <td>reactive</td>\n",
       "      <td>unclassified</td>\n",
       "    </tr>\n",
       "    <tr>\n",
       "      <th>3</th>\n",
       "      <td>3</td>\n",
       "      <td>DTXSID0021381</td>\n",
       "      <td>550.382960</td>\n",
       "      <td>ClassIII</td>\n",
       "      <td>baseline_narcotic</td>\n",
       "      <td>baseline_narcotic</td>\n",
       "      <td>2.740665</td>\n",
       "      <td>baseline_narcotic</td>\n",
       "      <td>baseline_narcotic</td>\n",
       "      <td>baseline_narcotic</td>\n",
       "    </tr>\n",
       "    <tr>\n",
       "      <th>4</th>\n",
       "      <td>4</td>\n",
       "      <td>DTXSID0021383</td>\n",
       "      <td>24.750000</td>\n",
       "      <td>ClassIII</td>\n",
       "      <td>baseline_narcotic</td>\n",
       "      <td>baseline_narcotic</td>\n",
       "      <td>1.393575</td>\n",
       "      <td>baseline_narcotic</td>\n",
       "      <td>baseline_narcotic</td>\n",
       "      <td>baseline_narcotic</td>\n",
       "    </tr>\n",
       "  </tbody>\n",
       "</table>\n",
       "</div>"
      ],
      "text/plain": [
       "   Unnamed: 0         DTXSID  min_toxval_mgm3_adj Cramer_class  \\\n",
       "0           0  DTXSID0020315             0.005000     ClassIII   \n",
       "1           1  DTXSID0020446             0.683333     ClassIII   \n",
       "2           2  DTXSID0021096             9.800000     ClassIII   \n",
       "3           3  DTXSID0021381           550.382960     ClassIII   \n",
       "4           4  DTXSID0021383            24.750000     ClassIII   \n",
       "\n",
       "       Aquatic_OASIS            Verhaar  log_min_toxval_mgm3_adj  \\\n",
       "0  baseline_narcotic       unclassified                -2.301030   \n",
       "1  baseline_narcotic           reactive                -0.165367   \n",
       "2           reactive       unclassified                 0.991226   \n",
       "3  baseline_narcotic  baseline_narcotic                 2.740665   \n",
       "4  baseline_narcotic  baseline_narcotic                 1.393575   \n",
       "\n",
       "     Verhaar_toxtree           OASIS_v2      consensus_MOA  \n",
       "0       unclassified  baseline_narcotic       unclassified  \n",
       "1       unclassified  baseline_narcotic           reactive  \n",
       "2       unclassified           reactive       unclassified  \n",
       "3  baseline_narcotic  baseline_narcotic  baseline_narcotic  \n",
       "4  baseline_narcotic  baseline_narcotic  baseline_narcotic  "
      ]
     },
     "execution_count": 9,
     "metadata": {},
     "output_type": "execute_result"
    }
   ],
   "source": [
    "ttc_moa_df.head()"
   ]
  },
  {
   "cell_type": "code",
   "execution_count": 7,
   "metadata": {},
   "outputs": [],
   "source": [
    "from sklearn.metrics import confusion_matrix\n",
    "from sklearn.metrics import classification_report, precision_recall_fscore_support"
   ]
  },
  {
   "cell_type": "code",
   "execution_count": 10,
   "metadata": {},
   "outputs": [
    {
     "data": {
      "text/plain": [
       "unclassified         220\n",
       "baseline_narcotic    169\n",
       "reactive             108\n",
       "polar_narcotic        15\n",
       "specific_acting        7\n",
       "Name: Verhaar, dtype: int64"
      ]
     },
     "execution_count": 10,
     "metadata": {},
     "output_type": "execute_result"
    }
   ],
   "source": [
    "ttc_moa_df['Verhaar'].value_counts(dropna = False)"
   ]
  },
  {
   "cell_type": "code",
   "execution_count": 11,
   "metadata": {},
   "outputs": [
    {
     "data": {
      "text/plain": [
       "unclassified         241\n",
       "baseline_narcotic    200\n",
       "reactive              48\n",
       "polar_narcotic        28\n",
       "Missing                2\n",
       "Name: Verhaar_toxtree, dtype: int64"
      ]
     },
     "execution_count": 11,
     "metadata": {},
     "output_type": "execute_result"
    }
   ],
   "source": [
    "ttc_moa_df['Verhaar_toxtree'].value_counts(dropna = False)"
   ]
  },
  {
   "cell_type": "code",
   "execution_count": 20,
   "metadata": {},
   "outputs": [
    {
     "name": "stdout",
     "output_type": "stream",
     "text": [
      "                   precision    recall  f1-score   support\n",
      "\n",
      "          Missing       0.00      0.00      0.00         2\n",
      "baseline_narcotic       0.90      0.76      0.82       200\n",
      "   polar_narcotic       0.67      0.36      0.47        28\n",
      "         reactive       0.31      0.71      0.44        48\n",
      "  specific_acting       0.00      0.00      0.00         0\n",
      "     unclassified       0.80      0.73      0.76       241\n",
      "\n",
      "         accuracy                           0.71       519\n",
      "        macro avg       0.45      0.43      0.41       519\n",
      "     weighted avg       0.78      0.71      0.74       519\n",
      "\n"
     ]
    }
   ],
   "source": [
    "print(classification_report(ttc_moa_df['Verhaar_toxtree'],ttc_moa_df['Verhaar']))"
   ]
  },
  {
   "cell_type": "code",
   "execution_count": 28,
   "metadata": {},
   "outputs": [
    {
     "data": {
      "text/plain": [
       "['baseline_narcotic',\n",
       " 'polar_narcotic',\n",
       " 'reactive',\n",
       " 'specific_acting',\n",
       " 'unclassified']"
      ]
     },
     "execution_count": 28,
     "metadata": {},
     "output_type": "execute_result"
    }
   ],
   "source": [
    "sorted(ttc_moa_df['Verhaar'].unique())"
   ]
  },
  {
   "cell_type": "code",
   "execution_count": 27,
   "metadata": {},
   "outputs": [
    {
     "data": {
      "text/plain": [
       "['Missing', 'baseline_narcotic', 'polar_narcotic', 'reactive', 'unclassified']"
      ]
     },
     "execution_count": 27,
     "metadata": {},
     "output_type": "execute_result"
    }
   ],
   "source": [
    "sorted(ttc_moa_df['Verhaar_toxtree'].unique())"
   ]
  },
  {
   "cell_type": "code",
   "execution_count": 29,
   "metadata": {},
   "outputs": [],
   "source": [
    "labels = ['Missing', 'baseline_narcotic', 'polar_narcotic', 'reactive', 'specific_acting','unclassified']"
   ]
  },
  {
   "cell_type": "code",
   "execution_count": 30,
   "metadata": {},
   "outputs": [
    {
     "name": "stdout",
     "output_type": "stream",
     "text": [
      "[[  0   0   0   0   2   0]\n",
      " [  0 152   0  21   0  27]\n",
      " [  0   5  10   4   0   9]\n",
      " [  0   1   0  34   4   9]\n",
      " [  0   0   0   0   0   0]\n",
      " [  0  11   5  49   1 175]]\n"
     ]
    }
   ],
   "source": [
    "print(confusion_matrix( ttc_moa_df['Verhaar_toxtree'],ttc_moa_df['Verhaar'], labels))"
   ]
  },
  {
   "cell_type": "code",
   "execution_count": 15,
   "metadata": {},
   "outputs": [],
   "source": [
    "xticklabels = ttc_moa_df['Verhaar'].unique()\n",
    "yticklabels = ttc_moa_df['Verhaar_toxtree'].unique()"
   ]
  },
  {
   "cell_type": "code",
   "execution_count": 35,
   "metadata": {},
   "outputs": [
    {
     "data": {
      "image/png": "[encoded data removed]",
      "text/plain": [
       "<Figure size 432x288 with 2 Axes>"
      ]
     },
     "metadata": {
      "needs_background": "light"
     },
     "output_type": "display_data"
    }
   ],
   "source": [
    "ax= plt.subplot()\n",
    "\n",
    "sns.heatmap(confusion_matrix( ttc_moa_df['Verhaar_toxtree'],ttc_moa_df['Verhaar'] ),xticklabels = labels, yticklabels = labels , annot = True, ax = ax)\n",
    "ax.set_xlabel('Verhaar');ax.set_ylabel('Verhaar_toxtree')\n",
    "plt.tight_layout()\n",
    "plt.savefig(figures_dir+'hm_verhaar_revised.png', dpi = 300)"
   ]
  },
  {
   "cell_type": "code",
   "execution_count": null,
   "metadata": {},
   "outputs": [],
   "source": [
    "cramer = pd.read_csv()"
   ]
  },
  {
   "cell_type": "code",
   "execution_count": 48,
   "metadata": {},
   "outputs": [],
   "source": [
    "cramer_all = pd.DataFrame()\n",
    "for f in glob.glob(processed_dat_dir+'*mgm3.csv'):\n",
    "    df = pd.read_csv(f, sep = ',')\n",
    "    cramer_all = cramer_all.append(df, ignore_index = True)"
   ]
  },
  {
   "cell_type": "code",
   "execution_count": 53,
   "metadata": {},
   "outputs": [],
   "source": [
    "cramer_all.to_csv(processed_dat_dir+'cramer_all.csv')"
   ]
  },
  {
   "cell_type": "code",
   "execution_count": 60,
   "metadata": {},
   "outputs": [],
   "source": [
    "cramer_txps = pd.read_csv(processed_dat_dir+'cramer_all_txps.csv', sep = '\\t')"
   ]
  },
  {
   "cell_type": "code",
   "execution_count": 62,
   "metadata": {},
   "outputs": [],
   "source": [
    "cramer_txps.drop(['INPUT', 'PREFERRED_NAME'], axis = 1, inplace = True)"
   ]
  },
  {
   "cell_type": "code",
   "execution_count": 65,
   "metadata": {},
   "outputs": [],
   "source": [
    "cramer_txps['source'] ='ToxVal'"
   ]
  },
  {
   "cell_type": "code",
   "execution_count": 66,
   "metadata": {},
   "outputs": [],
   "source": [
    "carthew = pd.read_csv(raw_dat_dir+'Carthew_2009_Appendix_A_ToxPrints.tsv', sep = '\\t')"
   ]
  },
  {
   "cell_type": "code",
   "execution_count": 69,
   "metadata": {},
   "outputs": [],
   "source": [
    "carthew = carthew[carthew['atom:element_main_group'] != '-']"
   ]
  },
  {
   "cell_type": "code",
   "execution_count": 72,
   "metadata": {},
   "outputs": [],
   "source": [
    "carthew.drop(['INPUT', 'PREFERRED_NAME'], axis = 1, inplace = True)"
   ]
  },
  {
   "cell_type": "code",
   "execution_count": 73,
   "metadata": {},
   "outputs": [],
   "source": [
    "carthew['source'] = 'Carthew'"
   ]
  },
  {
   "cell_type": "code",
   "execution_count": 74,
   "metadata": {},
   "outputs": [],
   "source": [
    "escher = pd.read_csv(raw_dat_dir+'Escher_2010_Appendix_A_ToxPrints.tsv', sep = '\\t')"
   ]
  },
  {
   "cell_type": "code",
   "execution_count": 77,
   "metadata": {},
   "outputs": [],
   "source": [
    "escher = escher[escher['atom:element_main_group'] != '-']"
   ]
  },
  {
   "cell_type": "code",
   "execution_count": 79,
   "metadata": {},
   "outputs": [
    {
     "name": "stderr",
     "output_type": "stream",
     "text": [
      "/home/grace/anaconda3/lib/python3.7/site-packages/pandas/core/frame.py:3997: SettingWithCopyWarning: \n",
      "A value is trying to be set on a copy of a slice from a DataFrame\n",
      "\n",
      "See the caveats in the documentation: https://pandas.pydata.org/pandas-docs/stable/user_guide/indexing.html#returning-a-view-versus-a-copy\n",
      "  errors=errors,\n"
     ]
    }
   ],
   "source": [
    "escher.drop(['INPUT', 'PREFERRED_NAME'], axis = 1, inplace = True)"
   ]
  },
  {
   "cell_type": "code",
   "execution_count": 81,
   "metadata": {},
   "outputs": [
    {
     "name": "stderr",
     "output_type": "stream",
     "text": [
      "/home/grace/anaconda3/lib/python3.7/site-packages/ipykernel_launcher.py:1: SettingWithCopyWarning: \n",
      "A value is trying to be set on a copy of a slice from a DataFrame.\n",
      "Try using .loc[row_indexer,col_indexer] = value instead\n",
      "\n",
      "See the caveats in the documentation: https://pandas.pydata.org/pandas-docs/stable/user_guide/indexing.html#returning-a-view-versus-a-copy\n",
      "  \"\"\"Entry point for launching an IPython kernel.\n"
     ]
    }
   ],
   "source": [
    "escher['source'] = 'Escher'"
   ]
  },
  {
   "cell_type": "code",
   "execution_count": 83,
   "metadata": {},
   "outputs": [],
   "source": [
    "df = pd.concat([cramer_txps, carthew, escher], axis =0)"
   ]
  },
  {
   "cell_type": "code",
   "execution_count": 84,
   "metadata": {},
   "outputs": [
    {
     "data": {
      "text/html": [
       "<div>\n",
       "<style scoped>\n",
       "    .dataframe tbody tr th:only-of-type {\n",
       "        vertical-align: middle;\n",
       "    }\n",
       "\n",
       "    .dataframe tbody tr th {\n",
       "        vertical-align: top;\n",
       "    }\n",
       "\n",
       "    .dataframe thead th {\n",
       "        text-align: right;\n",
       "    }\n",
       "</style>\n",
       "<table border=\"1\" class=\"dataframe\">\n",
       "  <thead>\n",
       "    <tr style=\"text-align: right;\">\n",
       "      <th></th>\n",
       "      <th>DTXSID</th>\n",
       "      <th>atom:element_main_group</th>\n",
       "      <th>atom:element_metal_group_I_II</th>\n",
       "      <th>atom:element_metal_group_III</th>\n",
       "      <th>atom:element_metal_metalloid</th>\n",
       "      <th>atom:element_metal_poor_metal</th>\n",
       "      <th>atom:element_metal_transistion_metal</th>\n",
       "      <th>atom:element_noble_gas</th>\n",
       "      <th>bond:C#N_cyano_acylcyanide</th>\n",
       "      <th>bond:C#N_cyano_cyanamide</th>\n",
       "      <th>...</th>\n",
       "      <th>ring:polycycle_spiro_[2.2]pentane</th>\n",
       "      <th>ring:polycycle_spiro_[2.5]octane</th>\n",
       "      <th>ring:polycycle_spiro_[4.5]decane</th>\n",
       "      <th>ring:polycycle_spiro_1_4-dioxaspiro[4.5]decane</th>\n",
       "      <th>ring:polycycle_tricyclo_[3.5.5]_cyclopropa[cd]pentalene</th>\n",
       "      <th>ring:polycycle_tricyclo_[3.7.7]bullvalene</th>\n",
       "      <th>ring:polycycle_tricyclo_[3.7.7]semibullvalene</th>\n",
       "      <th>ring:polycycle_tricyclo_adamantane</th>\n",
       "      <th>ring:polycycle_tricyclo_benzvalene</th>\n",
       "      <th>source</th>\n",
       "    </tr>\n",
       "  </thead>\n",
       "  <tbody>\n",
       "    <tr>\n",
       "      <th>0</th>\n",
       "      <td>DTXSID0020315</td>\n",
       "      <td>0</td>\n",
       "      <td>0</td>\n",
       "      <td>0</td>\n",
       "      <td>0</td>\n",
       "      <td>0</td>\n",
       "      <td>0</td>\n",
       "      <td>0</td>\n",
       "      <td>0</td>\n",
       "      <td>0</td>\n",
       "      <td>...</td>\n",
       "      <td>0</td>\n",
       "      <td>0</td>\n",
       "      <td>0</td>\n",
       "      <td>0</td>\n",
       "      <td>0</td>\n",
       "      <td>0</td>\n",
       "      <td>0</td>\n",
       "      <td>0</td>\n",
       "      <td>0</td>\n",
       "      <td>ToxVal</td>\n",
       "    </tr>\n",
       "    <tr>\n",
       "      <th>1</th>\n",
       "      <td>DTXSID0020446</td>\n",
       "      <td>0</td>\n",
       "      <td>0</td>\n",
       "      <td>0</td>\n",
       "      <td>0</td>\n",
       "      <td>0</td>\n",
       "      <td>0</td>\n",
       "      <td>0</td>\n",
       "      <td>0</td>\n",
       "      <td>0</td>\n",
       "      <td>...</td>\n",
       "      <td>0</td>\n",
       "      <td>0</td>\n",
       "      <td>0</td>\n",
       "      <td>0</td>\n",
       "      <td>0</td>\n",
       "      <td>0</td>\n",
       "      <td>0</td>\n",
       "      <td>0</td>\n",
       "      <td>0</td>\n",
       "      <td>ToxVal</td>\n",
       "    </tr>\n",
       "    <tr>\n",
       "      <th>2</th>\n",
       "      <td>DTXSID0021096</td>\n",
       "      <td>0</td>\n",
       "      <td>0</td>\n",
       "      <td>0</td>\n",
       "      <td>0</td>\n",
       "      <td>0</td>\n",
       "      <td>0</td>\n",
       "      <td>0</td>\n",
       "      <td>0</td>\n",
       "      <td>0</td>\n",
       "      <td>...</td>\n",
       "      <td>0</td>\n",
       "      <td>0</td>\n",
       "      <td>0</td>\n",
       "      <td>0</td>\n",
       "      <td>0</td>\n",
       "      <td>0</td>\n",
       "      <td>0</td>\n",
       "      <td>0</td>\n",
       "      <td>0</td>\n",
       "      <td>ToxVal</td>\n",
       "    </tr>\n",
       "    <tr>\n",
       "      <th>3</th>\n",
       "      <td>DTXSID0021381</td>\n",
       "      <td>0</td>\n",
       "      <td>0</td>\n",
       "      <td>0</td>\n",
       "      <td>0</td>\n",
       "      <td>0</td>\n",
       "      <td>0</td>\n",
       "      <td>0</td>\n",
       "      <td>0</td>\n",
       "      <td>0</td>\n",
       "      <td>...</td>\n",
       "      <td>0</td>\n",
       "      <td>0</td>\n",
       "      <td>0</td>\n",
       "      <td>0</td>\n",
       "      <td>0</td>\n",
       "      <td>0</td>\n",
       "      <td>0</td>\n",
       "      <td>0</td>\n",
       "      <td>0</td>\n",
       "      <td>ToxVal</td>\n",
       "    </tr>\n",
       "    <tr>\n",
       "      <th>4</th>\n",
       "      <td>DTXSID0021383</td>\n",
       "      <td>0</td>\n",
       "      <td>0</td>\n",
       "      <td>0</td>\n",
       "      <td>0</td>\n",
       "      <td>0</td>\n",
       "      <td>0</td>\n",
       "      <td>0</td>\n",
       "      <td>0</td>\n",
       "      <td>0</td>\n",
       "      <td>...</td>\n",
       "      <td>0</td>\n",
       "      <td>0</td>\n",
       "      <td>0</td>\n",
       "      <td>0</td>\n",
       "      <td>0</td>\n",
       "      <td>0</td>\n",
       "      <td>0</td>\n",
       "      <td>0</td>\n",
       "      <td>0</td>\n",
       "      <td>ToxVal</td>\n",
       "    </tr>\n",
       "    <tr>\n",
       "      <th>...</th>\n",
       "      <td>...</td>\n",
       "      <td>...</td>\n",
       "      <td>...</td>\n",
       "      <td>...</td>\n",
       "      <td>...</td>\n",
       "      <td>...</td>\n",
       "      <td>...</td>\n",
       "      <td>...</td>\n",
       "      <td>...</td>\n",
       "      <td>...</td>\n",
       "      <td>...</td>\n",
       "      <td>...</td>\n",
       "      <td>...</td>\n",
       "      <td>...</td>\n",
       "      <td>...</td>\n",
       "      <td>...</td>\n",
       "      <td>...</td>\n",
       "      <td>...</td>\n",
       "      <td>...</td>\n",
       "      <td>...</td>\n",
       "      <td>...</td>\n",
       "    </tr>\n",
       "    <tr>\n",
       "      <th>198</th>\n",
       "      <td>DTXSID9020407</td>\n",
       "      <td>0</td>\n",
       "      <td>0</td>\n",
       "      <td>0</td>\n",
       "      <td>0</td>\n",
       "      <td>0</td>\n",
       "      <td>0</td>\n",
       "      <td>0</td>\n",
       "      <td>0</td>\n",
       "      <td>0</td>\n",
       "      <td>...</td>\n",
       "      <td>0</td>\n",
       "      <td>0</td>\n",
       "      <td>0</td>\n",
       "      <td>0</td>\n",
       "      <td>0</td>\n",
       "      <td>0</td>\n",
       "      <td>0</td>\n",
       "      <td>0</td>\n",
       "      <td>0</td>\n",
       "      <td>Escher</td>\n",
       "    </tr>\n",
       "    <tr>\n",
       "      <th>199</th>\n",
       "      <td>DTXSID7020267</td>\n",
       "      <td>0</td>\n",
       "      <td>0</td>\n",
       "      <td>0</td>\n",
       "      <td>0</td>\n",
       "      <td>0</td>\n",
       "      <td>0</td>\n",
       "      <td>0</td>\n",
       "      <td>0</td>\n",
       "      <td>0</td>\n",
       "      <td>...</td>\n",
       "      <td>0</td>\n",
       "      <td>0</td>\n",
       "      <td>0</td>\n",
       "      <td>0</td>\n",
       "      <td>0</td>\n",
       "      <td>0</td>\n",
       "      <td>0</td>\n",
       "      <td>0</td>\n",
       "      <td>0</td>\n",
       "      <td>Escher</td>\n",
       "    </tr>\n",
       "    <tr>\n",
       "      <th>200</th>\n",
       "      <td>DTXSID9025536</td>\n",
       "      <td>0</td>\n",
       "      <td>0</td>\n",
       "      <td>0</td>\n",
       "      <td>0</td>\n",
       "      <td>0</td>\n",
       "      <td>0</td>\n",
       "      <td>0</td>\n",
       "      <td>0</td>\n",
       "      <td>0</td>\n",
       "      <td>...</td>\n",
       "      <td>0</td>\n",
       "      <td>0</td>\n",
       "      <td>0</td>\n",
       "      <td>0</td>\n",
       "      <td>0</td>\n",
       "      <td>0</td>\n",
       "      <td>0</td>\n",
       "      <td>0</td>\n",
       "      <td>0</td>\n",
       "      <td>Escher</td>\n",
       "    </tr>\n",
       "    <tr>\n",
       "      <th>201</th>\n",
       "      <td>DTXSID5035957</td>\n",
       "      <td>0</td>\n",
       "      <td>0</td>\n",
       "      <td>0</td>\n",
       "      <td>0</td>\n",
       "      <td>0</td>\n",
       "      <td>0</td>\n",
       "      <td>0</td>\n",
       "      <td>0</td>\n",
       "      <td>0</td>\n",
       "      <td>...</td>\n",
       "      <td>0</td>\n",
       "      <td>0</td>\n",
       "      <td>0</td>\n",
       "      <td>0</td>\n",
       "      <td>0</td>\n",
       "      <td>0</td>\n",
       "      <td>0</td>\n",
       "      <td>0</td>\n",
       "      <td>0</td>\n",
       "      <td>Escher</td>\n",
       "    </tr>\n",
       "    <tr>\n",
       "      <th>202</th>\n",
       "      <td>DTXSID2020688</td>\n",
       "      <td>0</td>\n",
       "      <td>0</td>\n",
       "      <td>0</td>\n",
       "      <td>0</td>\n",
       "      <td>0</td>\n",
       "      <td>0</td>\n",
       "      <td>0</td>\n",
       "      <td>0</td>\n",
       "      <td>0</td>\n",
       "      <td>...</td>\n",
       "      <td>0</td>\n",
       "      <td>0</td>\n",
       "      <td>0</td>\n",
       "      <td>0</td>\n",
       "      <td>0</td>\n",
       "      <td>0</td>\n",
       "      <td>0</td>\n",
       "      <td>0</td>\n",
       "      <td>0</td>\n",
       "      <td>Escher</td>\n",
       "    </tr>\n",
       "  </tbody>\n",
       "</table>\n",
       "<p>803 rows × 731 columns</p>\n",
       "</div>"
      ],
      "text/plain": [
       "            DTXSID atom:element_main_group atom:element_metal_group_I_II  \\\n",
       "0    DTXSID0020315                       0                             0   \n",
       "1    DTXSID0020446                       0                             0   \n",
       "2    DTXSID0021096                       0                             0   \n",
       "3    DTXSID0021381                       0                             0   \n",
       "4    DTXSID0021383                       0                             0   \n",
       "..             ...                     ...                           ...   \n",
       "198  DTXSID9020407                       0                             0   \n",
       "199  DTXSID7020267                       0                             0   \n",
       "200  DTXSID9025536                       0                             0   \n",
       "201  DTXSID5035957                       0                             0   \n",
       "202  DTXSID2020688                       0                             0   \n",
       "\n",
       "    atom:element_metal_group_III atom:element_metal_metalloid  \\\n",
       "0                              0                            0   \n",
       "1                              0                            0   \n",
       "2                              0                            0   \n",
       "3                              0                            0   \n",
       "4                              0                            0   \n",
       "..                           ...                          ...   \n",
       "198                            0                            0   \n",
       "199                            0                            0   \n",
       "200                            0                            0   \n",
       "201                            0                            0   \n",
       "202                            0                            0   \n",
       "\n",
       "    atom:element_metal_poor_metal atom:element_metal_transistion_metal  \\\n",
       "0                               0                                    0   \n",
       "1                               0                                    0   \n",
       "2                               0                                    0   \n",
       "3                               0                                    0   \n",
       "4                               0                                    0   \n",
       "..                            ...                                  ...   \n",
       "198                             0                                    0   \n",
       "199                             0                                    0   \n",
       "200                             0                                    0   \n",
       "201                             0                                    0   \n",
       "202                             0                                    0   \n",
       "\n",
       "    atom:element_noble_gas bond:C#N_cyano_acylcyanide  \\\n",
       "0                        0                          0   \n",
       "1                        0                          0   \n",
       "2                        0                          0   \n",
       "3                        0                          0   \n",
       "4                        0                          0   \n",
       "..                     ...                        ...   \n",
       "198                      0                          0   \n",
       "199                      0                          0   \n",
       "200                      0                          0   \n",
       "201                      0                          0   \n",
       "202                      0                          0   \n",
       "\n",
       "    bond:C#N_cyano_cyanamide  ... ring:polycycle_spiro_[2.2]pentane  \\\n",
       "0                          0  ...                                 0   \n",
       "1                          0  ...                                 0   \n",
       "2                          0  ...                                 0   \n",
       "3                          0  ...                                 0   \n",
       "4                          0  ...                                 0   \n",
       "..                       ...  ...                               ...   \n",
       "198                        0  ...                                 0   \n",
       "199                        0  ...                                 0   \n",
       "200                        0  ...                                 0   \n",
       "201                        0  ...                                 0   \n",
       "202                        0  ...                                 0   \n",
       "\n",
       "    ring:polycycle_spiro_[2.5]octane ring:polycycle_spiro_[4.5]decane  \\\n",
       "0                                  0                                0   \n",
       "1                                  0                                0   \n",
       "2                                  0                                0   \n",
       "3                                  0                                0   \n",
       "4                                  0                                0   \n",
       "..                               ...                              ...   \n",
       "198                                0                                0   \n",
       "199                                0                                0   \n",
       "200                                0                                0   \n",
       "201                                0                                0   \n",
       "202                                0                                0   \n",
       "\n",
       "    ring:polycycle_spiro_1_4-dioxaspiro[4.5]decane  \\\n",
       "0                                                0   \n",
       "1                                                0   \n",
       "2                                                0   \n",
       "3                                                0   \n",
       "4                                                0   \n",
       "..                                             ...   \n",
       "198                                              0   \n",
       "199                                              0   \n",
       "200                                              0   \n",
       "201                                              0   \n",
       "202                                              0   \n",
       "\n",
       "    ring:polycycle_tricyclo_[3.5.5]_cyclopropa[cd]pentalene  \\\n",
       "0                                                    0        \n",
       "1                                                    0        \n",
       "2                                                    0        \n",
       "3                                                    0        \n",
       "4                                                    0        \n",
       "..                                                 ...        \n",
       "198                                                  0        \n",
       "199                                                  0        \n",
       "200                                                  0        \n",
       "201                                                  0        \n",
       "202                                                  0        \n",
       "\n",
       "    ring:polycycle_tricyclo_[3.7.7]bullvalene  \\\n",
       "0                                           0   \n",
       "1                                           0   \n",
       "2                                           0   \n",
       "3                                           0   \n",
       "4                                           0   \n",
       "..                                        ...   \n",
       "198                                         0   \n",
       "199                                         0   \n",
       "200                                         0   \n",
       "201                                         0   \n",
       "202                                         0   \n",
       "\n",
       "    ring:polycycle_tricyclo_[3.7.7]semibullvalene  \\\n",
       "0                                               0   \n",
       "1                                               0   \n",
       "2                                               0   \n",
       "3                                               0   \n",
       "4                                               0   \n",
       "..                                            ...   \n",
       "198                                             0   \n",
       "199                                             0   \n",
       "200                                             0   \n",
       "201                                             0   \n",
       "202                                             0   \n",
       "\n",
       "    ring:polycycle_tricyclo_adamantane ring:polycycle_tricyclo_benzvalene  \\\n",
       "0                                    0                                  0   \n",
       "1                                    0                                  0   \n",
       "2                                    0                                  0   \n",
       "3                                    0                                  0   \n",
       "4                                    0                                  0   \n",
       "..                                 ...                                ...   \n",
       "198                                  0                                  0   \n",
       "199                                  0                                  0   \n",
       "200                                  0                                  0   \n",
       "201                                  0                                  0   \n",
       "202                                  0                                  0   \n",
       "\n",
       "     source  \n",
       "0    ToxVal  \n",
       "1    ToxVal  \n",
       "2    ToxVal  \n",
       "3    ToxVal  \n",
       "4    ToxVal  \n",
       "..      ...  \n",
       "198  Escher  \n",
       "199  Escher  \n",
       "200  Escher  \n",
       "201  Escher  \n",
       "202  Escher  \n",
       "\n",
       "[803 rows x 731 columns]"
      ]
     },
     "execution_count": 84,
     "metadata": {},
     "output_type": "execute_result"
    }
   ],
   "source": [
    "df"
   ]
  },
  {
   "cell_type": "code",
   "execution_count": 85,
   "metadata": {},
   "outputs": [],
   "source": [
    "from sklearn.manifold import TSNE"
   ]
  },
  {
   "cell_type": "code",
   "execution_count": 86,
   "metadata": {},
   "outputs": [],
   "source": [
    "model_txps = TSNE(learning_rate = 200)"
   ]
  },
  {
   "cell_type": "code",
   "execution_count": 93,
   "metadata": {},
   "outputs": [],
   "source": [
    "df = df[df['atom:element_main_group'] != '-']"
   ]
  },
  {
   "cell_type": "code",
   "execution_count": 94,
   "metadata": {},
   "outputs": [],
   "source": [
    "\n",
    "tsne_features = model_txps.fit_transform(df.iloc[:,1:-1])"
   ]
  },
  {
   "cell_type": "code",
   "execution_count": 102,
   "metadata": {},
   "outputs": [
    {
     "data": {
      "text/plain": [
       "array([[-34.476997 ,   9.7976265],\n",
       "       [-21.432543 ,  16.142288 ],\n",
       "       [-15.612772 , -13.106263 ],\n",
       "       ...,\n",
       "       [-15.042525 ,  -8.308499 ],\n",
       "       [-16.01129  ,  35.297855 ],\n",
       "       [-38.152534 ,  11.126309 ]], dtype=float32)"
      ]
     },
     "execution_count": 102,
     "metadata": {},
     "output_type": "execute_result"
    }
   ],
   "source": [
    "tsne_features"
   ]
  },
  {
   "cell_type": "code",
   "execution_count": 104,
   "metadata": {},
   "outputs": [],
   "source": [
    "df2 = df.set_index('DTXSID')"
   ]
  },
  {
   "cell_type": "code",
   "execution_count": 107,
   "metadata": {},
   "outputs": [],
   "source": [
    "tsne_df=pd.concat([pd.DataFrame(tsne_features, index = df2.index, columns = ['tsne_x', 'tsne_y']), df2['source']],axis =1)\n"
   ]
  },
  {
   "cell_type": "code",
   "execution_count": 113,
   "metadata": {},
   "outputs": [],
   "source": [
    "tsne_df = tsne_df.reset_index()"
   ]
  },
  {
   "cell_type": "code",
   "execution_count": 118,
   "metadata": {},
   "outputs": [
    {
     "data": {
      "image/png": "[encoded data removed]",
      "text/plain": [
       "<Figure size 720x648 with 1 Axes>"
      ]
     },
     "metadata": {
      "needs_background": "light"
     },
     "output_type": "display_data"
    }
   ],
   "source": [
    "fig, ax = plt.subplots(figsize = (10,9))\n",
    "\n",
    "colors = {'ToxVal':'green','Carthew':'red', 'Escher': 'blue'}\n",
    "\n",
    "grouped = tsne_df .groupby('source')\n",
    "for key, group in grouped:\n",
    "    group.plot(ax=ax, kind='scatter', x='tsne_x', y='tsne_y', label=key, color=colors[key])\n",
    "plt.title('2D Visualisation using ToxPrint fingerprints')\n",
    "plt.savefig(figures_dir+'TxP_2D_Landscape.png')"
   ]
  },
  {
   "cell_type": "code",
   "execution_count": null,
   "metadata": {},
   "outputs": [],
   "source": []
  }
 ],
 "metadata": {
  "kernelspec": {
   "display_name": "Python 3",
   "language": "python",
   "name": "python3"
  },
  "language_info": {
   "codemirror_mode": {
    "name": "ipython",
    "version": 3
   },
   "file_extension": ".py",
   "mimetype": "text/x-python",
   "name": "python",
   "nbconvert_exporter": "python",
   "pygments_lexer": "ipython3",
   "version": "3.7.6"
  }
 },
 "nbformat": 4,
 "nbformat_minor": 4
}
