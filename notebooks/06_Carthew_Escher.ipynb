{
 "cells": [
  {
   "cell_type": "code",
   "execution_count": 1,
   "metadata": {},
   "outputs": [],
   "source": [
    "raw_dat_dir = '/home/grace/Documents/python/ttc_inhalation/data/raw/'\n",
    "processed_dat_dir = '/home/grace/Documents/python/ttc_inhalation/data/processed/'\n",
    "interim_dat_dir = '/home/grace/Documents/python/ttc_inhalation/data/interim/'\n",
    "figures_dir = '/home/grace/Documents/python/ttc_inhalation/reports/figures/'"
   ]
  },
  {
   "cell_type": "code",
   "execution_count": 2,
   "metadata": {},
   "outputs": [],
   "source": [
    "import pandas as pd\n",
    "import numpy as np\n",
    "import matplotlib.pyplot as plt\n",
    "import seaborn as sns\n",
    "%matplotlib inline"
   ]
  },
  {
   "cell_type": "code",
   "execution_count": 3,
   "metadata": {},
   "outputs": [],
   "source": [
    "ClassIII_rep_ppm = pd.read_csv(processed_dat_dir+'ClassIII_rep_ppm.csv')\n",
    "ClassIII_rep_mgm3 = pd.read_csv(processed_dat_dir+'ClassIII_rep_mgm3.csv')\n",
    "\n",
    "ClassII_rep_ppm = pd.read_csv(processed_dat_dir+'ClassII_rep_ppm.csv')\n",
    "ClassII_rep_mgm3 = pd.read_csv(processed_dat_dir+'ClassII_rep_mgm3.csv')\n",
    "\n",
    "ClassI_rep_ppm = pd.read_csv(processed_dat_dir+'ClassI_rep_ppm.csv')\n",
    "ClassI_rep_mgm3 = pd.read_csv(processed_dat_dir+'ClassI_rep_mgm3.csv')"
   ]
  },
  {
   "cell_type": "code",
   "execution_count": 5,
   "metadata": {},
   "outputs": [],
   "source": [
    "xls = pd.read_excel(raw_dat_dir+'Escher_2010_Appendix_A.xlsx')"
   ]
  },
  {
   "cell_type": "code",
   "execution_count": 11,
   "metadata": {},
   "outputs": [
    {
     "data": {
      "text/html": [
       "<div>\n",
       "<style scoped>\n",
       "    .dataframe tbody tr th:only-of-type {\n",
       "        vertical-align: middle;\n",
       "    }\n",
       "\n",
       "    .dataframe tbody tr th {\n",
       "        vertical-align: top;\n",
       "    }\n",
       "\n",
       "    .dataframe thead th {\n",
       "        text-align: right;\n",
       "    }\n",
       "</style>\n",
       "<table border=\"1\" class=\"dataframe\">\n",
       "  <thead>\n",
       "    <tr style=\"text-align: right;\">\n",
       "      <th></th>\n",
       "      <th>CAS</th>\n",
       "      <th>Name</th>\n",
       "      <th>Author/review</th>\n",
       "      <th>Publication</th>\n",
       "      <th>Year</th>\n",
       "      <th>Cramer_class</th>\n",
       "      <th>Study duration</th>\n",
       "      <th>Genotoxicity Alert</th>\n",
       "      <th>OP</th>\n",
       "      <th>General_NOEC_ppm</th>\n",
       "      <th>Systemic_NOEC_ppm</th>\n",
       "      <th>Local_NOEC_ppm</th>\n",
       "    </tr>\n",
       "  </thead>\n",
       "  <tbody>\n",
       "    <tr>\n",
       "      <th>0</th>\n",
       "      <td>50000</td>\n",
       "      <td>Formaldehyde</td>\n",
       "      <td>Woutersen et al.</td>\n",
       "      <td>J. Appl. Toxicol.</td>\n",
       "      <td>1989.0</td>\n",
       "      <td>1</td>\n",
       "      <td>chronic</td>\n",
       "      <td>NaN</td>\n",
       "      <td>NaN</td>\n",
       "      <td>1.02</td>\n",
       "      <td>1.02</td>\n",
       "      <td>1.02</td>\n",
       "    </tr>\n",
       "    <tr>\n",
       "      <th>1</th>\n",
       "      <td>57556</td>\n",
       "      <td>Propylene glycol</td>\n",
       "      <td>La Kind et al.</td>\n",
       "      <td>CRC Crit. Rev. Toxicol.</td>\n",
       "      <td>1999.0</td>\n",
       "      <td>1</td>\n",
       "      <td>subchronic</td>\n",
       "      <td>NaN</td>\n",
       "      <td>NaN</td>\n",
       "      <td>25.70</td>\n",
       "      <td>160.70</td>\n",
       "      <td>25.70</td>\n",
       "    </tr>\n",
       "    <tr>\n",
       "      <th>2</th>\n",
       "      <td>64186</td>\n",
       "      <td>Formic acid</td>\n",
       "      <td>NTP</td>\n",
       "      <td>TOX 19</td>\n",
       "      <td>1992.0</td>\n",
       "      <td>1</td>\n",
       "      <td>subchronic</td>\n",
       "      <td>NaN</td>\n",
       "      <td>NaN</td>\n",
       "      <td>1.33</td>\n",
       "      <td>1.33</td>\n",
       "      <td>4.00</td>\n",
       "    </tr>\n",
       "    <tr>\n",
       "      <th>3</th>\n",
       "      <td>67561</td>\n",
       "      <td>Methanol</td>\n",
       "      <td>Andrews et al.</td>\n",
       "      <td>J. Toxicol. Environ. Health</td>\n",
       "      <td>1987.0</td>\n",
       "      <td>1</td>\n",
       "      <td>subacute</td>\n",
       "      <td>NaN</td>\n",
       "      <td>NaN</td>\n",
       "      <td>28.20</td>\n",
       "      <td>84.60</td>\n",
       "      <td>28.20</td>\n",
       "    </tr>\n",
       "    <tr>\n",
       "      <th>4</th>\n",
       "      <td>67630</td>\n",
       "      <td>2-Propanol</td>\n",
       "      <td>Burleigh-Flayer et al.</td>\n",
       "      <td>Fundam. Appl. Toxicol.</td>\n",
       "      <td>1997.0</td>\n",
       "      <td>1</td>\n",
       "      <td>chronic</td>\n",
       "      <td>NaN</td>\n",
       "      <td>NaN</td>\n",
       "      <td>166.80</td>\n",
       "      <td>166.80</td>\n",
       "      <td>NaN</td>\n",
       "    </tr>\n",
       "  </tbody>\n",
       "</table>\n",
       "</div>"
      ],
      "text/plain": [
       "     CAS              Name           Author/review  \\\n",
       "0  50000      Formaldehyde        Woutersen et al.   \n",
       "1  57556  Propylene glycol          La Kind et al.   \n",
       "2  64186       Formic acid                     NTP   \n",
       "3  67561          Methanol          Andrews et al.   \n",
       "4  67630        2-Propanol  Burleigh-Flayer et al.   \n",
       "\n",
       "                   Publication    Year  Cramer_class Study duration  \\\n",
       "0            J. Appl. Toxicol.  1989.0             1        chronic   \n",
       "1      CRC Crit. Rev. Toxicol.  1999.0             1     subchronic   \n",
       "2                       TOX 19  1992.0             1     subchronic   \n",
       "3  J. Toxicol. Environ. Health  1987.0             1       subacute   \n",
       "4       Fundam. Appl. Toxicol.  1997.0             1        chronic   \n",
       "\n",
       "  Genotoxicity Alert   OP  General_NOEC_ppm  Systemic_NOEC_ppm  Local_NOEC_ppm  \n",
       "0                NaN  NaN              1.02               1.02            1.02  \n",
       "1                NaN  NaN             25.70             160.70           25.70  \n",
       "2                NaN  NaN              1.33               1.33            4.00  \n",
       "3                NaN  NaN             28.20              84.60           28.20  \n",
       "4                NaN  NaN            166.80             166.80             NaN  "
      ]
     },
     "execution_count": 11,
     "metadata": {},
     "output_type": "execute_result"
    }
   ],
   "source": [
    "xls.head()"
   ]
  },
  {
   "cell_type": "code",
   "execution_count": 21,
   "metadata": {},
   "outputs": [],
   "source": [
    "import re"
   ]
  },
  {
   "cell_type": "code",
   "execution_count": 92,
   "metadata": {},
   "outputs": [],
   "source": [
    "cas = re.findall(r'\\d$', item)\n"
   ]
  },
  {
   "cell_type": "code",
   "execution_count": 136,
   "metadata": {},
   "outputs": [],
   "source": [
    "mylst = []\n",
    "xls['CAS#'] = [str(e) for e in xls.CAS]\n",
    "for item in xls['CAS#']:\n",
    "    for e in item.split():\n",
    "        a = e[-1]\n",
    "        b = e[-3]+e[-2]\n",
    "        c = e[:-3]\n",
    "        d = c + '-' + b+ '-' +a\n",
    "        mylst.append(d)\n",
    "xls['INPUT'] = mylst"
   ]
  },
  {
   "cell_type": "code",
   "execution_count": 141,
   "metadata": {},
   "outputs": [
    {
     "data": {
      "text/plain": [
       "(203, 14)"
      ]
     },
     "execution_count": 141,
     "metadata": {},
     "output_type": "execute_result"
    }
   ],
   "source": [
    "xls.shape"
   ]
  },
  {
   "cell_type": "code",
   "execution_count": 96,
   "metadata": {},
   "outputs": [],
   "source": [
    "escher_smi = pd.read_csv(raw_dat_dir+'Escher_2010_Appendix_A_SMILES.tsv', sep= '\\t')"
   ]
  },
  {
   "cell_type": "code",
   "execution_count": 97,
   "metadata": {},
   "outputs": [
    {
     "name": "stdout",
     "output_type": "stream",
     "text": [
      "<class 'pandas.core.frame.DataFrame'>\n",
      "RangeIndex: 203 entries, 0 to 202\n",
      "Data columns (total 7 columns):\n",
      "INPUT                203 non-null object\n",
      "FOUND_BY             203 non-null object\n",
      "DTXSID               203 non-null object\n",
      "PREFERRED_NAME       203 non-null object\n",
      "SMILES               203 non-null object\n",
      "AVERAGE_MASS         203 non-null float64\n",
      "QSAR_READY_SMILES    203 non-null object\n",
      "dtypes: float64(1), object(6)\n",
      "memory usage: 11.2+ KB\n"
     ]
    }
   ],
   "source": [
    "escher_smi.info()"
   ]
  },
  {
   "cell_type": "code",
   "execution_count": 140,
   "metadata": {},
   "outputs": [
    {
     "data": {
      "text/plain": [
       "(203, 7)"
      ]
     },
     "execution_count": 140,
     "metadata": {},
     "output_type": "execute_result"
    }
   ],
   "source": [
    "escher_smi.shape"
   ]
  },
  {
   "cell_type": "code",
   "execution_count": 138,
   "metadata": {},
   "outputs": [],
   "source": [
    "escher = pd.merge(xls, escher_smi, on = 'INPUT', how = 'left')"
   ]
  },
  {
   "cell_type": "code",
   "execution_count": 145,
   "metadata": {},
   "outputs": [
    {
     "name": "stdout",
     "output_type": "stream",
     "text": [
      "<class 'pandas.core.frame.DataFrame'>\n",
      "Int64Index: 203 entries, 0 to 202\n",
      "Data columns (total 20 columns):\n",
      "CAS                   203 non-null int64\n",
      "Name                  203 non-null object\n",
      "Author/review         203 non-null object\n",
      "Publication           203 non-null object\n",
      "Year                  200 non-null float64\n",
      "Cramer_class          203 non-null int64\n",
      "Study duration        203 non-null object\n",
      "Genotoxicity Alert    65 non-null object\n",
      "OP                    14 non-null object\n",
      "General_NOEC_ppm      203 non-null float64\n",
      "Systemic_NOEC_ppm     199 non-null float64\n",
      "Local_NOEC_ppm        102 non-null float64\n",
      "CAS#                  203 non-null object\n",
      "INPUT                 203 non-null object\n",
      "FOUND_BY              203 non-null object\n",
      "DTXSID                203 non-null object\n",
      "PREFERRED_NAME        203 non-null object\n",
      "SMILES                203 non-null object\n",
      "AVERAGE_MASS          203 non-null float64\n",
      "QSAR_READY_SMILES     203 non-null object\n",
      "dtypes: float64(5), int64(2), object(13)\n",
      "memory usage: 33.3+ KB\n"
     ]
    }
   ],
   "source": [
    "escher.info()"
   ]
  },
  {
   "cell_type": "code",
   "execution_count": 14,
   "metadata": {},
   "outputs": [
    {
     "name": "stdout",
     "output_type": "stream",
     "text": [
      "[nan 'Genotox Alert']\n",
      "[nan 'OP']\n"
     ]
    }
   ],
   "source": [
    "print(xls['Genotoxicity Alert'].unique())\n",
    "print(xls['OP'].unique())"
   ]
  },
  {
   "cell_type": "code",
   "execution_count": 146,
   "metadata": {},
   "outputs": [],
   "source": [
    "mask1 = (escher['Cramer_class'] == 1) \n",
    "mask3 = (escher['Cramer_class'] == 3) \n"
   ]
  },
  {
   "cell_type": "code",
   "execution_count": 147,
   "metadata": {},
   "outputs": [],
   "source": [
    "escher1 = escher[mask1]"
   ]
  },
  {
   "cell_type": "code",
   "execution_count": 151,
   "metadata": {},
   "outputs": [
    {
     "name": "stderr",
     "output_type": "stream",
     "text": [
      "/home/grace/anaconda3/envs/clone_newchem/lib/python3.6/site-packages/ipykernel_launcher.py:1: SettingWithCopyWarning: \n",
      "A value is trying to be set on a copy of a slice from a DataFrame.\n",
      "Try using .loc[row_indexer,col_indexer] = value instead\n",
      "\n",
      "See the caveats in the documentation: http://pandas.pydata.org/pandas-docs/stable/indexing.html#indexing-view-versus-copy\n",
      "  \"\"\"Entry point for launching an IPython kernel.\n"
     ]
    }
   ],
   "source": [
    "cc"
   ]
  },
  {
   "cell_type": "code",
   "execution_count": 154,
   "metadata": {},
   "outputs": [
    {
     "data": {
      "text/plain": [
       "<matplotlib.axes._subplots.AxesSubplot at 0x7f28dc2e9d30>"
      ]
     },
     "execution_count": 154,
     "metadata": {},
     "output_type": "execute_result"
    },
    {
     "data": {
      "image/png": "[encoded data removed]",
      "text/plain": [
       "<Figure size 432x288 with 1 Axes>"
      ]
     },
     "metadata": {},
     "output_type": "display_data"
    }
   ],
   "source": [
    "plt.style.use('ggplot')\n",
    "escher1.General_NOEC_mgm3.plot(kind = 'hist')"
   ]
  },
  {
   "cell_type": "code",
   "execution_count": 155,
   "metadata": {},
   "outputs": [
    {
     "name": "stderr",
     "output_type": "stream",
     "text": [
      "/home/grace/anaconda3/envs/clone_newchem/lib/python3.6/site-packages/ipykernel_launcher.py:1: SettingWithCopyWarning: \n",
      "A value is trying to be set on a copy of a slice from a DataFrame.\n",
      "Try using .loc[row_indexer,col_indexer] = value instead\n",
      "\n",
      "See the caveats in the documentation: http://pandas.pydata.org/pandas-docs/stable/indexing.html#indexing-view-versus-copy\n",
      "  \"\"\"Entry point for launching an IPython kernel.\n"
     ]
    }
   ],
   "source": [
    "escher1['logNOEC_mgm3'] = np.log10(escher1['General_NOEC_mgm3'])"
   ]
  },
  {
   "cell_type": "code",
   "execution_count": 156,
   "metadata": {},
   "outputs": [
    {
     "data": {
      "text/plain": [
       "<matplotlib.axes._subplots.AxesSubplot at 0x7f28dc27bda0>"
      ]
     },
     "execution_count": 156,
     "metadata": {},
     "output_type": "execute_result"
    },
    {
     "data": {
      "image/png": "[encoded data removed]",
      "text/plain": [
       "<Figure size 432x288 with 1 Axes>"
      ]
     },
     "metadata": {},
     "output_type": "display_data"
    }
   ],
   "source": [
    "escher1['logNOEC_mgm3'].plot(kind = 'hist')"
   ]
  },
  {
   "cell_type": "markdown",
   "metadata": {},
   "source": [
    "### Computing the percentiles and TTC values for the Escher set"
   ]
  },
  {
   "cell_type": "code",
   "execution_count": 160,
   "metadata": {},
   "outputs": [],
   "source": [
    "pct1 = 10**np.percentile(escher1['logNOEC_mgm3'],5)"
   ]
  },
  {
   "cell_type": "code",
   "execution_count": 164,
   "metadata": {},
   "outputs": [],
   "source": [
    "dex = (6/24)*(5/7)\n",
    "V = 20\n",
    "bw = 60"
   ]
  },
  {
   "cell_type": "code",
   "execution_count": 165,
   "metadata": {},
   "outputs": [],
   "source": [
    "TTCmgm31 = (pct1*dex)/(10*2.5)"
   ]
  },
  {
   "cell_type": "code",
   "execution_count": 166,
   "metadata": {},
   "outputs": [],
   "source": [
    "NOEL1 = pct1*dex *(V/bw)*1000\n",
    "TTC_1 = (NOEL1*bw)/(10*2.5)"
   ]
  },
  {
   "cell_type": "code",
   "execution_count": 191,
   "metadata": {},
   "outputs": [
    {
     "name": "stdout",
     "output_type": "stream",
     "text": [
      "91.4408756552113\n",
      "0.004572043782760565\n"
     ]
    }
   ],
   "source": [
    "print(TTC_1)\n",
    "print(TTCmgm31)"
   ]
  },
  {
   "cell_type": "code",
   "execution_count": 168,
   "metadata": {},
   "outputs": [],
   "source": [
    "escher3 = escher[mask3]"
   ]
  },
  {
   "cell_type": "code",
   "execution_count": 169,
   "metadata": {},
   "outputs": [
    {
     "name": "stderr",
     "output_type": "stream",
     "text": [
      "/home/grace/anaconda3/envs/clone_newchem/lib/python3.6/site-packages/ipykernel_launcher.py:1: SettingWithCopyWarning: \n",
      "A value is trying to be set on a copy of a slice from a DataFrame.\n",
      "Try using .loc[row_indexer,col_indexer] = value instead\n",
      "\n",
      "See the caveats in the documentation: http://pandas.pydata.org/pandas-docs/stable/indexing.html#indexing-view-versus-copy\n",
      "  \"\"\"Entry point for launching an IPython kernel.\n"
     ]
    }
   ],
   "source": [
    "escher3['General_NOEC_mgm3'] = (escher3['General_NOEC_ppm'] * escher3['AVERAGE_MASS'])/24.45"
   ]
  },
  {
   "cell_type": "code",
   "execution_count": 170,
   "metadata": {},
   "outputs": [
    {
     "name": "stderr",
     "output_type": "stream",
     "text": [
      "/home/grace/anaconda3/envs/clone_newchem/lib/python3.6/site-packages/ipykernel_launcher.py:1: RuntimeWarning: divide by zero encountered in log10\n",
      "  \"\"\"Entry point for launching an IPython kernel.\n",
      "/home/grace/anaconda3/envs/clone_newchem/lib/python3.6/site-packages/ipykernel_launcher.py:1: SettingWithCopyWarning: \n",
      "A value is trying to be set on a copy of a slice from a DataFrame.\n",
      "Try using .loc[row_indexer,col_indexer] = value instead\n",
      "\n",
      "See the caveats in the documentation: http://pandas.pydata.org/pandas-docs/stable/indexing.html#indexing-view-versus-copy\n",
      "  \"\"\"Entry point for launching an IPython kernel.\n"
     ]
    }
   ],
   "source": [
    "escher3['logNOEC_mgm3'] = np.log10(escher3['General_NOEC_mgm3'])"
   ]
  },
  {
   "cell_type": "code",
   "execution_count": 184,
   "metadata": {},
   "outputs": [],
   "source": [
    "escher3a = escher3[escher3['General_NOEC_mgm3'] !=0]\n"
   ]
  },
  {
   "cell_type": "code",
   "execution_count": 192,
   "metadata": {},
   "outputs": [
    {
     "data": {
      "text/plain": [
       "(137, 22)"
      ]
     },
     "execution_count": 192,
     "metadata": {},
     "output_type": "execute_result"
    }
   ],
   "source": [
    "escher3a.shape"
   ]
  },
  {
   "cell_type": "code",
   "execution_count": 185,
   "metadata": {},
   "outputs": [
    {
     "data": {
      "text/plain": [
       "<matplotlib.axes._subplots.AxesSubplot at 0x7f28dc0764a8>"
      ]
     },
     "execution_count": 185,
     "metadata": {},
     "output_type": "execute_result"
    },
    {
     "data": {
      "image/png": "[encoded data removed]",
      "text/plain": [
       "<Figure size 432x288 with 1 Axes>"
      ]
     },
     "metadata": {},
     "output_type": "display_data"
    }
   ],
   "source": [
    "escher3a['logNOEC_mgm3'].plot(kind = 'hist')"
   ]
  },
  {
   "cell_type": "code",
   "execution_count": 186,
   "metadata": {},
   "outputs": [],
   "source": [
    "pct3 = 10**np.percentile(escher3a['logNOEC_mgm3'],5)"
   ]
  },
  {
   "cell_type": "code",
   "execution_count": 187,
   "metadata": {},
   "outputs": [],
   "source": [
    "TTCmgm33 = (pct3*dex)/(10*2.5)"
   ]
  },
  {
   "cell_type": "code",
   "execution_count": 188,
   "metadata": {},
   "outputs": [],
   "source": [
    "NOEL3 = pct3*dex *(V/bw)*1000\n",
    "TTC_3 = (NOEL3*bw)/(10*2.5)"
   ]
  },
  {
   "cell_type": "code",
   "execution_count": 190,
   "metadata": {},
   "outputs": [
    {
     "name": "stdout",
     "output_type": "stream",
     "text": [
      "5.564109206942473\n",
      "0.0002782054603471237\n"
     ]
    }
   ],
   "source": [
    "print(TTC_3)\n",
    "print(TTCmgm33)"
   ]
  },
  {
   "cell_type": "markdown",
   "metadata": {},
   "source": [
    "### Carthew data"
   ]
  },
  {
   "cell_type": "code",
   "execution_count": 194,
   "metadata": {},
   "outputs": [],
   "source": [
    "carthew_smi =pd.read_csv(raw_dat_dir+'Carthew_2009_Appendix_A_SMILES.tsv', sep= '\\t')"
   ]
  },
  {
   "cell_type": "code",
   "execution_count": 196,
   "metadata": {},
   "outputs": [],
   "source": [
    "carthew =pd.read_excel(raw_dat_dir+'Carthew_2009_Appendix_A.xlsx')"
   ]
  },
  {
   "cell_type": "code",
   "execution_count": 212,
   "metadata": {},
   "outputs": [
    {
     "data": {
      "text/plain": [
       "(92, 9)"
      ]
     },
     "execution_count": 212,
     "metadata": {},
     "output_type": "execute_result"
    }
   ],
   "source": [
    "carthew.shape"
   ]
  },
  {
   "cell_type": "code",
   "execution_count": 199,
   "metadata": {},
   "outputs": [],
   "source": [
    "#carthew_smi.head()"
   ]
  },
  {
   "cell_type": "code",
   "execution_count": 200,
   "metadata": {},
   "outputs": [],
   "source": [
    "carthew['NOAEL_mgm3'] = carthew['Systemic NOAEL (mg/kg/day)']/(dex*(V/bw))"
   ]
  },
  {
   "cell_type": "code",
   "execution_count": 202,
   "metadata": {},
   "outputs": [],
   "source": [
    "carthew['log_NOAEL_mgm3'] = np.log10(carthew['NOAEL_mgm3'])"
   ]
  },
  {
   "cell_type": "code",
   "execution_count": 203,
   "metadata": {},
   "outputs": [
    {
     "data": {
      "text/plain": [
       "<matplotlib.axes._subplots.AxesSubplot at 0x7f28d77b7080>"
      ]
     },
     "execution_count": 203,
     "metadata": {},
     "output_type": "execute_result"
    },
    {
     "data": {
      "image/png": "[encoded data removed]",
      "text/plain": [
       "<Figure size 432x288 with 1 Axes>"
      ]
     },
     "metadata": {},
     "output_type": "display_data"
    }
   ],
   "source": [
    "carthew['log_NOAEL_mgm3'].plot(kind = 'hist')"
   ]
  },
  {
   "cell_type": "code",
   "execution_count": 205,
   "metadata": {},
   "outputs": [],
   "source": [
    "carthew['Cramer_class'].unique()\n",
    "\n",
    "c_mask1 = carthew['Cramer_class'] == 1\n",
    "c_mask3 = carthew['Cramer_class'] == 3\n",
    "\n",
    "carthew1 = carthew[c_mask1]\n",
    "carthew3 = carthew[c_mask3]"
   ]
  },
  {
   "cell_type": "code",
   "execution_count": 206,
   "metadata": {},
   "outputs": [],
   "source": [
    "carth_pct1 = 10**np.percentile(carthew1['log_NOAEL_mgm3'],5)\n",
    "carth_pct3 = 10**np.percentile(carthew3['log_NOAEL_mgm3'],5)"
   ]
  },
  {
   "cell_type": "code",
   "execution_count": 207,
   "metadata": {},
   "outputs": [
    {
     "name": "stdout",
     "output_type": "stream",
     "text": [
      "6.05640310874478\n",
      "1.0149444590861494\n"
     ]
    }
   ],
   "source": [
    "print(carth_pct1)\n",
    "print(carth_pct3)"
   ]
  },
  {
   "cell_type": "code",
   "execution_count": 208,
   "metadata": {},
   "outputs": [],
   "source": [
    "c1TTCmgm3 = (carth_pct1*dex)/(10*2.5)\n",
    "NOELc1 = carth_pct1*dex *(V/bw)*1000\n",
    "TTC_c1 = (NOELc1*bw)/(10*2.5)"
   ]
  },
  {
   "cell_type": "code",
   "execution_count": 209,
   "metadata": {},
   "outputs": [
    {
     "name": "stdout",
     "output_type": "stream",
     "text": [
      "865.2004441063971\n",
      "0.043260022205319854\n"
     ]
    }
   ],
   "source": [
    "print(TTC_c1)\n",
    "print(c1TTCmgm3)"
   ]
  },
  {
   "cell_type": "code",
   "execution_count": 210,
   "metadata": {},
   "outputs": [],
   "source": [
    "c3TTCmgm3 = (carth_pct3*dex)/(10*2.5)\n",
    "NOELc3 = carth_pct3*dex *(V/bw)*1000\n",
    "TTC_c3 = (NOELc3*bw)/(10*2.5)"
   ]
  },
  {
   "cell_type": "code",
   "execution_count": 211,
   "metadata": {},
   "outputs": [
    {
     "name": "stdout",
     "output_type": "stream",
     "text": [
      "144.99206558373564\n",
      "0.007249603279186782\n"
     ]
    }
   ],
   "source": [
    "print(TTC_c3)\n",
    "print(c3TTCmgm3)"
   ]
  },
  {
   "cell_type": "code",
   "execution_count": 214,
   "metadata": {},
   "outputs": [
    {
     "data": {
      "text/plain": [
       "(50, 9)"
      ]
     },
     "execution_count": 214,
     "metadata": {},
     "output_type": "execute_result"
    }
   ],
   "source": [
    "carthew3.shape"
   ]
  },
  {
   "cell_type": "code",
   "execution_count": null,
   "metadata": {},
   "outputs": [],
   "source": []
  },
  {
   "cell_type": "code",
   "execution_count": null,
   "metadata": {},
   "outputs": [],
   "source": []
  },
  {
   "cell_type": "code",
   "execution_count": null,
   "metadata": {},
   "outputs": [],
   "source": []
  }
 ],
 "metadata": {
  "kernelspec": {
   "display_name": "nbdev_chem",
   "language": "python",
   "name": "nbdev_chem"
  },
  "language_info": {
   "codemirror_mode": {
    "name": "ipython",
    "version": 3
   },
   "file_extension": ".py",
   "mimetype": "text/x-python",
   "name": "python",
   "nbconvert_exporter": "python",
   "pygments_lexer": "ipython3",
   "version": "3.6.4"
  }
 },
 "nbformat": 4,
 "nbformat_minor": 2
}
