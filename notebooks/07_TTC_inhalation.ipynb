{
 "cells": [
  {
   "cell_type": "code",
   "execution_count": 1,
   "metadata": {},
   "outputs": [],
   "source": [
    "import numpy as np\n",
    "import pandas as pd\n",
    "import matplotlib.pyplot as plt\n",
    "import seaborn as sns\n",
    "%matplotlib inline"
   ]
  },
  {
   "cell_type": "code",
   "execution_count": 2,
   "metadata": {},
   "outputs": [],
   "source": [
    "raw_dat_dir = '/home/grace/Documents/python/ttc_inhalation/data/raw/'\n",
    "processed_dat_dir = '/home/grace/Documents/python/ttc_inhalation/data/processed/'\n",
    "interim_dat_dir = '/home/grace/Documents/python/ttc_inhalation/data/interim/'\n",
    "figures_dir = '/home/grace/Documents/python/ttc_inhalation/reports/figures/'"
   ]
  },
  {
   "cell_type": "code",
   "execution_count": 3,
   "metadata": {},
   "outputs": [
    {
     "name": "stdout",
     "output_type": "stream",
     "text": [
      "01_ToxVal_processing.ipynb          06_Carthew_Escher.ipynb\n",
      "02_Kroes_processed.ipynb            \u001b[0m\u001b[01;32m07_TTC_inhalation.ipynb\u001b[0m*\n",
      "03_chemprop_alerts.ipynb            08_confusion_matrix_verhaar.ipynb\n",
      "04_subsetting_for_inhalation.ipynb  \u001b[01;32mNelms_TTC.R\u001b[0m*\n",
      "05_TTC_derivation_Cramer.ipynb\n"
     ]
    }
   ],
   "source": [
    "ls"
   ]
  },
  {
   "cell_type": "code",
   "execution_count": 4,
   "metadata": {},
   "outputs": [],
   "source": [
    "ttc = pd.read_csv(raw_dat_dir+'ToxVal_filtered_Inhal_Cramer.csv')"
   ]
  },
  {
   "cell_type": "code",
   "execution_count": 5,
   "metadata": {},
   "outputs": [
    {
     "data": {
      "text/plain": [
       "(2594, 178)"
      ]
     },
     "execution_count": 5,
     "metadata": {},
     "output_type": "execute_result"
    }
   ],
   "source": [
    "ttc.shape"
   ]
  },
  {
   "cell_type": "code",
   "execution_count": 6,
   "metadata": {},
   "outputs": [],
   "source": [
    "ttc.drop(['Unnamed: 168', 'Unnamed: 169', 'Unnamed: 170', 'Unnamed: 171',\n",
    "       'Unnamed: 172', 'Unnamed: 173', 'Unnamed: 174', 'Unnamed: 175',\n",
    "       'Unnamed: 176', 'Unnamed: 177'], axis = 1, inplace = True)"
   ]
  },
  {
   "cell_type": "code",
   "execution_count": 7,
   "metadata": {},
   "outputs": [],
   "source": [
    "ttc = ttc[ttc.columns.tolist()[0:60]]"
   ]
  },
  {
   "cell_type": "code",
   "execution_count": 8,
   "metadata": {},
   "outputs": [
    {
     "data": {
      "text/plain": [
       "490"
      ]
     },
     "execution_count": 8,
     "metadata": {},
     "output_type": "execute_result"
    }
   ],
   "source": [
    "ttc.DTXSID.nunique()"
   ]
  },
  {
   "cell_type": "code",
   "execution_count": 9,
   "metadata": {},
   "outputs": [],
   "source": [
    "import glob"
   ]
  },
  {
   "cell_type": "code",
   "execution_count": 10,
   "metadata": {},
   "outputs": [],
   "source": [
    "all_cramer = pd.DataFrame()\n",
    "for f in glob.glob(processed_dat_dir+'Class*mgm3.csv'):\n",
    "    df = pd.read_csv(f)\n",
    "    df['filename'] = f\n",
    "    all_cramer = all_cramer.append(df,  ignore_index=True)"
   ]
  },
  {
   "cell_type": "code",
   "execution_count": 11,
   "metadata": {},
   "outputs": [
    {
     "data": {
      "text/html": [
       "<div>\n",
       "<style scoped>\n",
       "    .dataframe tbody tr th:only-of-type {\n",
       "        vertical-align: middle;\n",
       "    }\n",
       "\n",
       "    .dataframe tbody tr th {\n",
       "        vertical-align: top;\n",
       "    }\n",
       "\n",
       "    .dataframe thead th {\n",
       "        text-align: right;\n",
       "    }\n",
       "</style>\n",
       "<table border=\"1\" class=\"dataframe\">\n",
       "  <thead>\n",
       "    <tr style=\"text-align: right;\">\n",
       "      <th></th>\n",
       "      <th>Unnamed: 0</th>\n",
       "      <th>DTXSID</th>\n",
       "      <th>min_toxval_mgm3_adj</th>\n",
       "      <th>filename</th>\n",
       "    </tr>\n",
       "  </thead>\n",
       "  <tbody>\n",
       "    <tr>\n",
       "      <th>0</th>\n",
       "      <td>0</td>\n",
       "      <td>DTXSID0020315</td>\n",
       "      <td>0.005000</td>\n",
       "      <td>/home/grace/Documents/python/ttc_inhalation/da...</td>\n",
       "    </tr>\n",
       "    <tr>\n",
       "      <th>1</th>\n",
       "      <td>1</td>\n",
       "      <td>DTXSID0020446</td>\n",
       "      <td>0.683333</td>\n",
       "      <td>/home/grace/Documents/python/ttc_inhalation/da...</td>\n",
       "    </tr>\n",
       "    <tr>\n",
       "      <th>2</th>\n",
       "      <td>2</td>\n",
       "      <td>DTXSID0021096</td>\n",
       "      <td>9.800000</td>\n",
       "      <td>/home/grace/Documents/python/ttc_inhalation/da...</td>\n",
       "    </tr>\n",
       "    <tr>\n",
       "      <th>3</th>\n",
       "      <td>3</td>\n",
       "      <td>DTXSID0021381</td>\n",
       "      <td>550.382960</td>\n",
       "      <td>/home/grace/Documents/python/ttc_inhalation/da...</td>\n",
       "    </tr>\n",
       "    <tr>\n",
       "      <th>4</th>\n",
       "      <td>4</td>\n",
       "      <td>DTXSID0021383</td>\n",
       "      <td>24.750000</td>\n",
       "      <td>/home/grace/Documents/python/ttc_inhalation/da...</td>\n",
       "    </tr>\n",
       "  </tbody>\n",
       "</table>\n",
       "</div>"
      ],
      "text/plain": [
       "   Unnamed: 0         DTXSID  min_toxval_mgm3_adj  \\\n",
       "0           0  DTXSID0020315             0.005000   \n",
       "1           1  DTXSID0020446             0.683333   \n",
       "2           2  DTXSID0021096             9.800000   \n",
       "3           3  DTXSID0021381           550.382960   \n",
       "4           4  DTXSID0021383            24.750000   \n",
       "\n",
       "                                            filename  \n",
       "0  /home/grace/Documents/python/ttc_inhalation/da...  \n",
       "1  /home/grace/Documents/python/ttc_inhalation/da...  \n",
       "2  /home/grace/Documents/python/ttc_inhalation/da...  \n",
       "3  /home/grace/Documents/python/ttc_inhalation/da...  \n",
       "4  /home/grace/Documents/python/ttc_inhalation/da...  "
      ]
     },
     "execution_count": 11,
     "metadata": {},
     "output_type": "execute_result"
    }
   ],
   "source": [
    "all_cramer.head()"
   ]
  },
  {
   "cell_type": "code",
   "execution_count": 12,
   "metadata": {},
   "outputs": [
    {
     "data": {
      "text/plain": [
       "(519, 4)"
      ]
     },
     "execution_count": 12,
     "metadata": {},
     "output_type": "execute_result"
    }
   ],
   "source": [
    "all_cramer.shape"
   ]
  },
  {
   "cell_type": "code",
   "execution_count": 13,
   "metadata": {},
   "outputs": [
    {
     "data": {
      "text/plain": [
       "array(['/home/grace/Documents/python/ttc_inhalation/data/processed/ClassIII_rep_mgm3.csv',\n",
       "       '/home/grace/Documents/python/ttc_inhalation/data/processed/ClassI_rep_mgm3.csv',\n",
       "       '/home/grace/Documents/python/ttc_inhalation/data/processed/ClassII_rep_mgm3.csv'],\n",
       "      dtype=object)"
      ]
     },
     "execution_count": 13,
     "metadata": {},
     "output_type": "execute_result"
    }
   ],
   "source": [
    "all_cramer.filename.unique()"
   ]
  },
  {
   "cell_type": "code",
   "execution_count": 14,
   "metadata": {},
   "outputs": [],
   "source": [
    "import re"
   ]
  },
  {
   "cell_type": "code",
   "execution_count": 15,
   "metadata": {},
   "outputs": [
    {
     "data": {
      "text/plain": [
       "re.compile(r'Page.\\d{1,}.of.\\d{1,}', re.UNICODE)"
      ]
     },
     "execution_count": 15,
     "metadata": {},
     "output_type": "execute_result"
    }
   ],
   "source": [
    "re.compile('Page.\\d{1,}.of.\\d{1,}')"
   ]
  },
  {
   "cell_type": "code",
   "execution_count": 16,
   "metadata": {},
   "outputs": [
    {
     "ename": "NameError",
     "evalue": "name 'content_new' is not defined",
     "output_type": "error",
     "traceback": [
      "\u001b[0;31m---------------------------------------------------------------------------\u001b[0m",
      "\u001b[0;31mNameError\u001b[0m                                 Traceback (most recent call last)",
      "\u001b[0;32m<ipython-input-16-a24c0a9430ca>\u001b[0m in \u001b[0;36m<module>\u001b[0;34m\u001b[0m\n\u001b[0;32m----> 1\u001b[0;31m \u001b[0;34m[\u001b[0m\u001b[0mm\u001b[0m\u001b[0;34m.\u001b[0m\u001b[0mgroup\u001b[0m\u001b[0;34m(\u001b[0m\u001b[0;36m0\u001b[0m\u001b[0;34m)\u001b[0m \u001b[0;32mfor\u001b[0m \u001b[0ml\u001b[0m \u001b[0;32min\u001b[0m \u001b[0mcontent_new\u001b[0m \u001b[0;32mfor\u001b[0m \u001b[0mm\u001b[0m \u001b[0;32min\u001b[0m \u001b[0;34m[\u001b[0m\u001b[0mregex\u001b[0m\u001b[0;34m.\u001b[0m\u001b[0msearch\u001b[0m\u001b[0;34m(\u001b[0m\u001b[0ml\u001b[0m\u001b[0;34m)\u001b[0m\u001b[0;34m]\u001b[0m \u001b[0;32mif\u001b[0m \u001b[0mm\u001b[0m\u001b[0;34m]\u001b[0m\u001b[0;34m\u001b[0m\u001b[0;34m\u001b[0m\u001b[0m\n\u001b[0m",
      "\u001b[0;31mNameError\u001b[0m: name 'content_new' is not defined"
     ]
    }
   ],
   "source": [
    "[m.group(0) for l in content_new for m in [regex.search(l)] if m] "
   ]
  },
  {
   "cell_type": "code",
   "execution_count": 17,
   "metadata": {},
   "outputs": [],
   "source": [
    "regex= re.compile('Class\\w{3,}')"
   ]
  },
  {
   "cell_type": "code",
   "execution_count": 18,
   "metadata": {},
   "outputs": [],
   "source": [
    "filenames =[m.group(0) for l in all_cramer['filename'] for m in [regex.search(l)] if m]"
   ]
  },
  {
   "cell_type": "code",
   "execution_count": 19,
   "metadata": {},
   "outputs": [],
   "source": [
    "classes= [e.split('_')[0] for e in filenames]"
   ]
  },
  {
   "cell_type": "code",
   "execution_count": 20,
   "metadata": {},
   "outputs": [],
   "source": [
    "all_cramer['Cramer_class'] = classes"
   ]
  },
  {
   "cell_type": "code",
   "execution_count": 21,
   "metadata": {},
   "outputs": [],
   "source": [
    "all_cramer.drop(['Unnamed: 0','filename'],axis = 1, inplace = True)"
   ]
  },
  {
   "cell_type": "code",
   "execution_count": 22,
   "metadata": {},
   "outputs": [
    {
     "data": {
      "text/html": [
       "<div>\n",
       "<style scoped>\n",
       "    .dataframe tbody tr th:only-of-type {\n",
       "        vertical-align: middle;\n",
       "    }\n",
       "\n",
       "    .dataframe tbody tr th {\n",
       "        vertical-align: top;\n",
       "    }\n",
       "\n",
       "    .dataframe thead th {\n",
       "        text-align: right;\n",
       "    }\n",
       "</style>\n",
       "<table border=\"1\" class=\"dataframe\">\n",
       "  <thead>\n",
       "    <tr style=\"text-align: right;\">\n",
       "      <th></th>\n",
       "      <th>DTXSID</th>\n",
       "      <th>min_toxval_mgm3_adj</th>\n",
       "      <th>Cramer_class</th>\n",
       "    </tr>\n",
       "  </thead>\n",
       "  <tbody>\n",
       "    <tr>\n",
       "      <th>0</th>\n",
       "      <td>DTXSID0020315</td>\n",
       "      <td>0.005000</td>\n",
       "      <td>ClassIII</td>\n",
       "    </tr>\n",
       "    <tr>\n",
       "      <th>1</th>\n",
       "      <td>DTXSID0020446</td>\n",
       "      <td>0.683333</td>\n",
       "      <td>ClassIII</td>\n",
       "    </tr>\n",
       "    <tr>\n",
       "      <th>2</th>\n",
       "      <td>DTXSID0021096</td>\n",
       "      <td>9.800000</td>\n",
       "      <td>ClassIII</td>\n",
       "    </tr>\n",
       "    <tr>\n",
       "      <th>3</th>\n",
       "      <td>DTXSID0021381</td>\n",
       "      <td>550.382960</td>\n",
       "      <td>ClassIII</td>\n",
       "    </tr>\n",
       "    <tr>\n",
       "      <th>4</th>\n",
       "      <td>DTXSID0021383</td>\n",
       "      <td>24.750000</td>\n",
       "      <td>ClassIII</td>\n",
       "    </tr>\n",
       "  </tbody>\n",
       "</table>\n",
       "</div>"
      ],
      "text/plain": [
       "          DTXSID  min_toxval_mgm3_adj Cramer_class\n",
       "0  DTXSID0020315             0.005000     ClassIII\n",
       "1  DTXSID0020446             0.683333     ClassIII\n",
       "2  DTXSID0021096             9.800000     ClassIII\n",
       "3  DTXSID0021381           550.382960     ClassIII\n",
       "4  DTXSID0021383            24.750000     ClassIII"
      ]
     },
     "execution_count": 22,
     "metadata": {},
     "output_type": "execute_result"
    }
   ],
   "source": [
    "all_cramer.head()"
   ]
  },
  {
   "cell_type": "code",
   "execution_count": 23,
   "metadata": {},
   "outputs": [],
   "source": [
    "moa_tb = pd.read_excel(processed_dat_dir+'Cramer_4TB_out.xlsx')"
   ]
  },
  {
   "cell_type": "code",
   "execution_count": 24,
   "metadata": {},
   "outputs": [
    {
     "data": {
      "text/html": [
       "<div>\n",
       "<style scoped>\n",
       "    .dataframe tbody tr th:only-of-type {\n",
       "        vertical-align: middle;\n",
       "    }\n",
       "\n",
       "    .dataframe tbody tr th {\n",
       "        vertical-align: top;\n",
       "    }\n",
       "\n",
       "    .dataframe thead th {\n",
       "        text-align: right;\n",
       "    }\n",
       "</style>\n",
       "<table border=\"1\" class=\"dataframe\">\n",
       "  <thead>\n",
       "    <tr style=\"text-align: right;\">\n",
       "      <th></th>\n",
       "      <th>CAS Number</th>\n",
       "      <th>Chemical name(s)</th>\n",
       "      <th>SMILES</th>\n",
       "      <th>Molecular Formula</th>\n",
       "      <th>Predefined substance type</th>\n",
       "      <th>Additional Ids</th>\n",
       "      <th>Composition</th>\n",
       "      <th>CAS Smiles relation</th>\n",
       "      <th>Acute aquatic toxicity MOA by OASIS</th>\n",
       "      <th>Acute aquatic toxicity classification by Verhaar (Modified)</th>\n",
       "    </tr>\n",
       "  </thead>\n",
       "  <tbody>\n",
       "    <tr>\n",
       "      <th>0</th>\n",
       "      <td>No CAS number</td>\n",
       "      <td>38480;Ethylbenzene;DTXSID3020596</td>\n",
       "      <td>CCc1ccccc1</td>\n",
       "      <td>C8H10</td>\n",
       "      <td>Mono constituent</td>\n",
       "      <td>NaN</td>\n",
       "      <td>NaN</td>\n",
       "      <td>Not applicable</td>\n",
       "      <td>Basesurface narcotics</td>\n",
       "      <td>Class 1 (narcosis or baseline toxicity)</td>\n",
       "    </tr>\n",
       "    <tr>\n",
       "      <th>1</th>\n",
       "      <td>No CAS number</td>\n",
       "      <td>vinylbenzene;DTXSID2021284</td>\n",
       "      <td>C=Cc1ccccc1</td>\n",
       "      <td>C8H8</td>\n",
       "      <td>Mono constituent</td>\n",
       "      <td>NaN</td>\n",
       "      <td>NaN</td>\n",
       "      <td>Not applicable</td>\n",
       "      <td>Basesurface narcotics</td>\n",
       "      <td>Class 1 (narcosis or baseline toxicity)</td>\n",
       "    </tr>\n",
       "    <tr>\n",
       "      <th>2</th>\n",
       "      <td>No CAS number</td>\n",
       "      <td>DTXSID1020431</td>\n",
       "      <td>Clc1ccc(Cl)cc1</td>\n",
       "      <td>C6H4Cl2</td>\n",
       "      <td>Mono constituent</td>\n",
       "      <td>NaN</td>\n",
       "      <td>NaN</td>\n",
       "      <td>Not applicable</td>\n",
       "      <td>Basesurface narcotics</td>\n",
       "      <td>Class 3 (unspecific reactivity)</td>\n",
       "    </tr>\n",
       "    <tr>\n",
       "      <th>3</th>\n",
       "      <td>No CAS number</td>\n",
       "      <td>DTXSID1021871</td>\n",
       "      <td>Oc1ccc(Cl)cc1</td>\n",
       "      <td>C6H5ClO</td>\n",
       "      <td>Mono constituent</td>\n",
       "      <td>NaN</td>\n",
       "      <td>NaN</td>\n",
       "      <td>Not applicable</td>\n",
       "      <td>Phenols and Anilines</td>\n",
       "      <td>Class 3 (unspecific reactivity)</td>\n",
       "    </tr>\n",
       "    <tr>\n",
       "      <th>4</th>\n",
       "      <td>No CAS number</td>\n",
       "      <td>Acrylonitrile;DTXSID5020029</td>\n",
       "      <td>C=CC#N</td>\n",
       "      <td>C3H3N</td>\n",
       "      <td>Mono constituent</td>\n",
       "      <td>NaN</td>\n",
       "      <td>NaN</td>\n",
       "      <td>Not applicable</td>\n",
       "      <td>Reactive unspecified</td>\n",
       "      <td>Class 3 (unspecific reactivity)</td>\n",
       "    </tr>\n",
       "  </tbody>\n",
       "</table>\n",
       "</div>"
      ],
      "text/plain": [
       "      CAS Number                  Chemical name(s)          SMILES  \\\n",
       "0  No CAS number  38480;Ethylbenzene;DTXSID3020596      CCc1ccccc1   \n",
       "1  No CAS number        vinylbenzene;DTXSID2021284     C=Cc1ccccc1   \n",
       "2  No CAS number                     DTXSID1020431  Clc1ccc(Cl)cc1   \n",
       "3  No CAS number                     DTXSID1021871   Oc1ccc(Cl)cc1   \n",
       "4  No CAS number       Acrylonitrile;DTXSID5020029          C=CC#N   \n",
       "\n",
       "  Molecular Formula Predefined substance type Additional Ids  Composition  \\\n",
       "0             C8H10          Mono constituent            NaN          NaN   \n",
       "1              C8H8          Mono constituent            NaN          NaN   \n",
       "2           C6H4Cl2          Mono constituent            NaN          NaN   \n",
       "3           C6H5ClO          Mono constituent            NaN          NaN   \n",
       "4             C3H3N          Mono constituent            NaN          NaN   \n",
       "\n",
       "  CAS Smiles relation Acute aquatic toxicity MOA by OASIS  \\\n",
       "0      Not applicable               Basesurface narcotics   \n",
       "1      Not applicable               Basesurface narcotics   \n",
       "2      Not applicable               Basesurface narcotics   \n",
       "3      Not applicable                Phenols and Anilines   \n",
       "4      Not applicable                Reactive unspecified   \n",
       "\n",
       "  Acute aquatic toxicity classification by Verhaar (Modified)  \n",
       "0            Class 1 (narcosis or baseline toxicity)           \n",
       "1            Class 1 (narcosis or baseline toxicity)           \n",
       "2                    Class 3 (unspecific reactivity)           \n",
       "3                    Class 3 (unspecific reactivity)           \n",
       "4                    Class 3 (unspecific reactivity)           "
      ]
     },
     "execution_count": 24,
     "metadata": {},
     "output_type": "execute_result"
    }
   ],
   "source": [
    "moa_tb.head()"
   ]
  },
  {
   "cell_type": "code",
   "execution_count": 25,
   "metadata": {},
   "outputs": [],
   "source": [
    "moa_tb['DTXSID'] = moa_tb['Chemical name(s)'].str.extract(r'(DTXSID\\d{1,})')"
   ]
  },
  {
   "cell_type": "code",
   "execution_count": 26,
   "metadata": {},
   "outputs": [],
   "source": [
    "moa_tb = moa_tb[~moa_tb.DTXSID.isnull()]"
   ]
  },
  {
   "cell_type": "code",
   "execution_count": 27,
   "metadata": {},
   "outputs": [
    {
     "data": {
      "text/plain": [
       "3388"
      ]
     },
     "execution_count": 27,
     "metadata": {},
     "output_type": "execute_result"
    }
   ],
   "source": [
    "moa_tb.DTXSID.nunique()"
   ]
  },
  {
   "cell_type": "code",
   "execution_count": 28,
   "metadata": {},
   "outputs": [],
   "source": [
    "moa_tb.drop(['CAS Number', 'Chemical name(s)', 'SMILES', 'Molecular Formula',\n",
    "       'Predefined substance type', 'Additional Ids', 'Composition',\n",
    "       'CAS Smiles relation' ], axis = 1, inplace= True)"
   ]
  },
  {
   "cell_type": "code",
   "execution_count": 29,
   "metadata": {},
   "outputs": [
    {
     "data": {
      "text/html": [
       "<div>\n",
       "<style scoped>\n",
       "    .dataframe tbody tr th:only-of-type {\n",
       "        vertical-align: middle;\n",
       "    }\n",
       "\n",
       "    .dataframe tbody tr th {\n",
       "        vertical-align: top;\n",
       "    }\n",
       "\n",
       "    .dataframe thead th {\n",
       "        text-align: right;\n",
       "    }\n",
       "</style>\n",
       "<table border=\"1\" class=\"dataframe\">\n",
       "  <thead>\n",
       "    <tr style=\"text-align: right;\">\n",
       "      <th></th>\n",
       "      <th>Acute aquatic toxicity MOA by OASIS</th>\n",
       "      <th>Acute aquatic toxicity classification by Verhaar (Modified)</th>\n",
       "      <th>DTXSID</th>\n",
       "    </tr>\n",
       "  </thead>\n",
       "  <tbody>\n",
       "    <tr>\n",
       "      <th>0</th>\n",
       "      <td>Basesurface narcotics</td>\n",
       "      <td>Class 1 (narcosis or baseline toxicity)</td>\n",
       "      <td>DTXSID3020596</td>\n",
       "    </tr>\n",
       "    <tr>\n",
       "      <th>1</th>\n",
       "      <td>Basesurface narcotics</td>\n",
       "      <td>Class 1 (narcosis or baseline toxicity)</td>\n",
       "      <td>DTXSID2021284</td>\n",
       "    </tr>\n",
       "    <tr>\n",
       "      <th>2</th>\n",
       "      <td>Basesurface narcotics</td>\n",
       "      <td>Class 3 (unspecific reactivity)</td>\n",
       "      <td>DTXSID1020431</td>\n",
       "    </tr>\n",
       "    <tr>\n",
       "      <th>3</th>\n",
       "      <td>Phenols and Anilines</td>\n",
       "      <td>Class 3 (unspecific reactivity)</td>\n",
       "      <td>DTXSID1021871</td>\n",
       "    </tr>\n",
       "    <tr>\n",
       "      <th>4</th>\n",
       "      <td>Reactive unspecified</td>\n",
       "      <td>Class 3 (unspecific reactivity)</td>\n",
       "      <td>DTXSID5020029</td>\n",
       "    </tr>\n",
       "  </tbody>\n",
       "</table>\n",
       "</div>"
      ],
      "text/plain": [
       "  Acute aquatic toxicity MOA by OASIS  \\\n",
       "0               Basesurface narcotics   \n",
       "1               Basesurface narcotics   \n",
       "2               Basesurface narcotics   \n",
       "3                Phenols and Anilines   \n",
       "4                Reactive unspecified   \n",
       "\n",
       "  Acute aquatic toxicity classification by Verhaar (Modified)         DTXSID  \n",
       "0            Class 1 (narcosis or baseline toxicity)           DTXSID3020596  \n",
       "1            Class 1 (narcosis or baseline toxicity)           DTXSID2021284  \n",
       "2                    Class 3 (unspecific reactivity)           DTXSID1020431  \n",
       "3                    Class 3 (unspecific reactivity)           DTXSID1021871  \n",
       "4                    Class 3 (unspecific reactivity)           DTXSID5020029  "
      ]
     },
     "execution_count": 29,
     "metadata": {},
     "output_type": "execute_result"
    }
   ],
   "source": [
    "moa_tb.head()"
   ]
  },
  {
   "cell_type": "code",
   "execution_count": 30,
   "metadata": {},
   "outputs": [],
   "source": [
    "moa_tb.rename(columns = {'Acute aquatic toxicity MOA by OASIS' : 'Aquatic_OASIS', 'Acute aquatic toxicity classification by Verhaar (Modified)': 'Verhaar'}, inplace = True)"
   ]
  },
  {
   "cell_type": "code",
   "execution_count": 31,
   "metadata": {},
   "outputs": [
    {
     "data": {
      "text/plain": [
       "Class 5 (Not possible to classify according to these rules)                   1283\n",
       "Class 3 (unspecific reactivity)                                               1226\n",
       "Class 1 (narcosis or baseline toxicity)                                        718\n",
       "Class 2 (less inert compounds)                                                  82\n",
       "Class 4 (Compounds and groups of compounds acting by a specific mechanism)      77\n",
       "(N/A)                                                                            2\n",
       "Name: Verhaar, dtype: int64"
      ]
     },
     "execution_count": 31,
     "metadata": {},
     "output_type": "execute_result"
    }
   ],
   "source": [
    "moa_tb.Verhaar.value_counts()"
   ]
  },
  {
   "cell_type": "code",
   "execution_count": 32,
   "metadata": {},
   "outputs": [
    {
     "data": {
      "text/plain": [
       "Reactive unspecified                  1195\n",
       "Basesurface narcotics                 1145\n",
       "Esters                                 535\n",
       "Phenols and Anilines                   243\n",
       "Narcotic Amine                         234\n",
       "Alpha-, Beta-unsaturated alcochols      25\n",
       "Aldehydes                               11\n",
       "Name: Aquatic_OASIS, dtype: int64"
      ]
     },
     "execution_count": 32,
     "metadata": {},
     "output_type": "execute_result"
    }
   ],
   "source": [
    "moa_tb.Aquatic_OASIS.value_counts()"
   ]
  },
  {
   "cell_type": "code",
   "execution_count": 33,
   "metadata": {},
   "outputs": [],
   "source": [
    "ttc_moa = pd.merge(all_cramer, moa_tb, on = 'DTXSID', how = 'left')"
   ]
  },
  {
   "cell_type": "code",
   "execution_count": 34,
   "metadata": {},
   "outputs": [
    {
     "name": "stdout",
     "output_type": "stream",
     "text": [
      "(519, 3)\n",
      "(519, 5)\n"
     ]
    }
   ],
   "source": [
    "print(all_cramer.shape)\n",
    "print(ttc_moa.shape)"
   ]
  },
  {
   "cell_type": "code",
   "execution_count": 35,
   "metadata": {},
   "outputs": [
    {
     "data": {
      "text/html": [
       "<div>\n",
       "<style scoped>\n",
       "    .dataframe tbody tr th:only-of-type {\n",
       "        vertical-align: middle;\n",
       "    }\n",
       "\n",
       "    .dataframe tbody tr th {\n",
       "        vertical-align: top;\n",
       "    }\n",
       "\n",
       "    .dataframe thead th {\n",
       "        text-align: right;\n",
       "    }\n",
       "</style>\n",
       "<table border=\"1\" class=\"dataframe\">\n",
       "  <thead>\n",
       "    <tr style=\"text-align: right;\">\n",
       "      <th></th>\n",
       "      <th>DTXSID</th>\n",
       "      <th>min_toxval_mgm3_adj</th>\n",
       "      <th>Cramer_class</th>\n",
       "      <th>Aquatic_OASIS</th>\n",
       "      <th>Verhaar</th>\n",
       "    </tr>\n",
       "  </thead>\n",
       "  <tbody>\n",
       "    <tr>\n",
       "      <th>0</th>\n",
       "      <td>DTXSID0020315</td>\n",
       "      <td>0.005000</td>\n",
       "      <td>ClassIII</td>\n",
       "      <td>Basesurface narcotics</td>\n",
       "      <td>Class 5 (Not possible to classify according to...</td>\n",
       "    </tr>\n",
       "    <tr>\n",
       "      <th>1</th>\n",
       "      <td>DTXSID0020446</td>\n",
       "      <td>0.683333</td>\n",
       "      <td>ClassIII</td>\n",
       "      <td>Basesurface narcotics</td>\n",
       "      <td>Class 3 (unspecific reactivity)</td>\n",
       "    </tr>\n",
       "    <tr>\n",
       "      <th>2</th>\n",
       "      <td>DTXSID0021096</td>\n",
       "      <td>9.800000</td>\n",
       "      <td>ClassIII</td>\n",
       "      <td>Reactive unspecified</td>\n",
       "      <td>Class 5 (Not possible to classify according to...</td>\n",
       "    </tr>\n",
       "    <tr>\n",
       "      <th>3</th>\n",
       "      <td>DTXSID0021381</td>\n",
       "      <td>550.382960</td>\n",
       "      <td>ClassIII</td>\n",
       "      <td>Basesurface narcotics</td>\n",
       "      <td>Class 1 (narcosis or baseline toxicity)</td>\n",
       "    </tr>\n",
       "    <tr>\n",
       "      <th>4</th>\n",
       "      <td>DTXSID0021383</td>\n",
       "      <td>24.750000</td>\n",
       "      <td>ClassIII</td>\n",
       "      <td>Basesurface narcotics</td>\n",
       "      <td>Class 1 (narcosis or baseline toxicity)</td>\n",
       "    </tr>\n",
       "  </tbody>\n",
       "</table>\n",
       "</div>"
      ],
      "text/plain": [
       "          DTXSID  min_toxval_mgm3_adj Cramer_class          Aquatic_OASIS  \\\n",
       "0  DTXSID0020315             0.005000     ClassIII  Basesurface narcotics   \n",
       "1  DTXSID0020446             0.683333     ClassIII  Basesurface narcotics   \n",
       "2  DTXSID0021096             9.800000     ClassIII   Reactive unspecified   \n",
       "3  DTXSID0021381           550.382960     ClassIII  Basesurface narcotics   \n",
       "4  DTXSID0021383            24.750000     ClassIII  Basesurface narcotics   \n",
       "\n",
       "                                             Verhaar  \n",
       "0  Class 5 (Not possible to classify according to...  \n",
       "1                    Class 3 (unspecific reactivity)  \n",
       "2  Class 5 (Not possible to classify according to...  \n",
       "3            Class 1 (narcosis or baseline toxicity)  \n",
       "4            Class 1 (narcosis or baseline toxicity)  "
      ]
     },
     "execution_count": 35,
     "metadata": {},
     "output_type": "execute_result"
    }
   ],
   "source": [
    "ttc_moa.head()"
   ]
  },
  {
   "cell_type": "code",
   "execution_count": 36,
   "metadata": {},
   "outputs": [
    {
     "data": {
      "text/plain": [
       "(array([0., 0., 0., 0., 0., 0., 0., 1., 0., 0., 0., 0., 0., 0., 0.]),\n",
       " array([-0.5       , -0.43333333, -0.36666667, -0.3       , -0.23333333,\n",
       "        -0.16666667, -0.1       , -0.03333333,  0.03333333,  0.1       ,\n",
       "         0.16666667,  0.23333333,  0.3       ,  0.36666667,  0.43333333,\n",
       "         0.5       ]),\n",
       " <a list of 15 Patch objects>)"
      ]
     },
     "execution_count": 36,
     "metadata": {},
     "output_type": "execute_result"
    },
    {
     "data": {
      "image/png": "[encoded data removed]",
      "text/plain": [
       "<Figure size 432x288 with 1 Axes>"
      ]
     },
     "metadata": {},
     "output_type": "display_data"
    }
   ],
   "source": [
    "plt.style.use('ggplot')\n",
    "plt.hist('min_toxval_mgm3_adj', bins = 15)"
   ]
  },
  {
   "cell_type": "code",
   "execution_count": 37,
   "metadata": {},
   "outputs": [],
   "source": [
    "ttc_moa['log_min_toxval_mgm3_adj'] = np.log10(ttc_moa['min_toxval_mgm3_adj'])"
   ]
  },
  {
   "cell_type": "code",
   "execution_count": 38,
   "metadata": {},
   "outputs": [
    {
     "data": {
      "text/html": [
       "<div>\n",
       "<style scoped>\n",
       "    .dataframe tbody tr th:only-of-type {\n",
       "        vertical-align: middle;\n",
       "    }\n",
       "\n",
       "    .dataframe tbody tr th {\n",
       "        vertical-align: top;\n",
       "    }\n",
       "\n",
       "    .dataframe thead th {\n",
       "        text-align: right;\n",
       "    }\n",
       "</style>\n",
       "<table border=\"1\" class=\"dataframe\">\n",
       "  <thead>\n",
       "    <tr style=\"text-align: right;\">\n",
       "      <th></th>\n",
       "      <th>DTXSID</th>\n",
       "      <th>min_toxval_mgm3_adj</th>\n",
       "      <th>Cramer_class</th>\n",
       "      <th>Aquatic_OASIS</th>\n",
       "      <th>Verhaar</th>\n",
       "      <th>log_min_toxval_mgm3_adj</th>\n",
       "    </tr>\n",
       "  </thead>\n",
       "  <tbody>\n",
       "  </tbody>\n",
       "</table>\n",
       "</div>"
      ],
      "text/plain": [
       "Empty DataFrame\n",
       "Columns: [DTXSID, min_toxval_mgm3_adj, Cramer_class, Aquatic_OASIS, Verhaar, log_min_toxval_mgm3_adj]\n",
       "Index: []"
      ]
     },
     "execution_count": 38,
     "metadata": {},
     "output_type": "execute_result"
    }
   ],
   "source": [
    "ttc_moa[ttc_moa['log_min_toxval_mgm3_adj'].isnull()]"
   ]
  },
  {
   "cell_type": "code",
   "execution_count": 39,
   "metadata": {},
   "outputs": [],
   "source": [
    "def ecdf(data):\n",
    "    \"\"\"Compute ECDF for a one-dimensional array of measurements.\"\"\"\n",
    "    # Number of data points: n\n",
    "    n = len(data)\n",
    "\n",
    "    # x-data for the ECDF: x\n",
    "    x = np.sort(data)\n",
    "\n",
    "    # y-data for the ECDF: y\n",
    "    y = np.arange(1, n + 1) / n\n",
    "\n",
    "    return x, y"
   ]
  },
  {
   "cell_type": "code",
   "execution_count": 40,
   "metadata": {},
   "outputs": [],
   "source": [
    "from scipy.stats import norm\n",
    "def make_model(sample, size=201):\n",
    "    \"\"\"Estimate the parameters of a Gaussian model.\n",
    "    \"\"\"\n",
    "    mu = np.mean(sample)\n",
    "    sigma = np.std(sample)\n",
    "    model = norm(mu, sigma)\n",
    "\n",
    "    xs = np.linspace(np.min(sample), np.max(sample), size)\n",
    "    ys = model.cdf(xs)\n",
    "    return xs, ys"
   ]
  },
  {
   "cell_type": "code",
   "execution_count": 41,
   "metadata": {},
   "outputs": [
    {
     "data": {
      "text/plain": [
       "<Figure size 720x648 with 0 Axes>"
      ]
     },
     "metadata": {},
     "output_type": "display_data"
    },
    {
     "data": {
      "image/png": "[encoded data removed]",
      "text/plain": [
       "<Figure size 720x648 with 1 Axes>"
      ]
     },
     "metadata": {},
     "output_type": "display_data"
    }
   ],
   "source": [
    "plt.figure(figsize = (10,9))\n",
    "all_logPODs = ttc_moa['log_min_toxval_mgm3_adj']\n",
    "x_all, y_all = ecdf(all_logPODs)\n",
    "\n",
    "cx,cy = make_model(ttc_moa['log_min_toxval_mgm3_adj'])\n",
    "plt.figure(figsize = (10,9))\n",
    "plt.plot(x_all, y_all , marker = '.', linestyle = 'none')\n",
    "plt.plot(cx, cy , linestyle = '-')\n",
    "plt.xlabel('all_PODs')\n",
    "plt.ylabel('ECDF')\n",
    "\n",
    "plt.tight_layout()"
   ]
  },
  {
   "cell_type": "code",
   "execution_count": 42,
   "metadata": {},
   "outputs": [
    {
     "name": "stdout",
     "output_type": "stream",
     "text": [
      "Statistics=0.992, p=0.005\n",
      "Sample does not look Gaussian (reject H0)\n"
     ]
    }
   ],
   "source": [
    "from scipy.stats import shapiro\n",
    "# seed the random number generator\n",
    "\n",
    "# normality test\n",
    "stat, p = shapiro(ttc_moa['log_min_toxval_mgm3_adj'])\n",
    "print('Statistics=%.3f, p=%.3f' % (stat, p))\n",
    "# interpret\n",
    "alpha = 0.05\n",
    "if p > alpha:\n",
    "\tprint('Sample looks Gaussian (fail to reject H0)')\n",
    "else:\n",
    "\tprint('Sample does not look Gaussian (reject H0)')"
   ]
  },
  {
   "cell_type": "code",
   "execution_count": 43,
   "metadata": {},
   "outputs": [],
   "source": [
    "def bootstrap_replicate_1d(data, func):\n",
    "    return func(np.random.choice(data, size = len(data)), 5)"
   ]
  },
  {
   "cell_type": "code",
   "execution_count": 44,
   "metadata": {},
   "outputs": [],
   "source": [
    "def draw_bs_reps(data, func, size = 1):\n",
    "    bs_replicates = np.empty(size)\n",
    "    for i in range(size):\n",
    "        bs_replicates[i] = bootstrap_replicate_1d(data, func)\n",
    "    return bs_replicates"
   ]
  },
  {
   "cell_type": "code",
   "execution_count": 45,
   "metadata": {},
   "outputs": [
    {
     "data": {
      "text/plain": [
       "Basesurface narcotics                 231\n",
       "Reactive unspecified                  154\n",
       "Narcotic Amine                         60\n",
       "Esters                                 56\n",
       "Phenols and Anilines                   13\n",
       "Alpha-, Beta-unsaturated alcochols      3\n",
       "Aldehydes                               2\n",
       "Name: Aquatic_OASIS, dtype: int64"
      ]
     },
     "execution_count": 45,
     "metadata": {},
     "output_type": "execute_result"
    }
   ],
   "source": [
    "ttc_moa.Aquatic_OASIS.value_counts()"
   ]
  },
  {
   "cell_type": "code",
   "execution_count": 46,
   "metadata": {},
   "outputs": [],
   "source": [
    "oasis_dict = {'Basesurface narcotics' :'baseline_narcotic',  'Reactive unspecified' : 'reactive', \n",
    "             'Esters': 'esters', 'Narcotic Amine' : 'narcotic_amine', 'Alpha-, Beta-unsaturated alcochols' : 'other', 'Phenols and Anilines': 'other','Aldehydes' : 'other'}\n",
    "\n",
    "ttc_moa['Aquatic_OASIS'] = ttc_moa.Aquatic_OASIS.map(oasis_dict)"
   ]
  },
  {
   "cell_type": "code",
   "execution_count": 47,
   "metadata": {},
   "outputs": [
    {
     "data": {
      "image/png": "[encoded data removed]",
      "text/plain": [
       "<Figure size 720x648 with 1 Axes>"
      ]
     },
     "metadata": {},
     "output_type": "display_data"
    }
   ],
   "source": [
    "o1_logPODs = ttc_moa[ttc_moa['Aquatic_OASIS'] == 'baseline_narcotic']['log_min_toxval_mgm3_adj']\n",
    "o2_logPODs = ttc_moa[ttc_moa['Aquatic_OASIS'] == 'reactive']['log_min_toxval_mgm3_adj']\n",
    "o3_logPODs = ttc_moa[ttc_moa['Aquatic_OASIS'] == 'esters']['log_min_toxval_mgm3_adj']\n",
    "o4_logPODs = ttc_moa[ttc_moa['Aquatic_OASIS'] == 'narcotic_amine']['log_min_toxval_mgm3_adj']\n",
    "o5_logPODs = ttc_moa[ttc_moa['Aquatic_OASIS'] == 'other']['log_min_toxval_mgm3_adj']\n",
    "x_o1, y_o1 = ecdf(o1_logPODs)\n",
    "x_o2, y_o2 = ecdf(o2_logPODs)\n",
    "x_o3, y_o3 = ecdf(o3_logPODs)\n",
    "x_o4, y_o4 = ecdf(o4_logPODs)\n",
    "x_o5, y_o5 = ecdf(o5_logPODs)\n",
    "\n",
    "\n",
    "all_logPODs = ttc_moa['log_min_toxval_mgm3_adj']\n",
    "x_all, y_all = ecdf(all_logPODs)\n",
    "\n",
    "plt.figure(figsize = (10,9))\n",
    "plt.plot(x_all, y_all , marker = '.', linestyle = 'none', color = 'w', label = 'all')# all\n",
    "plt.plot(x_o1, y_o1 , marker = '.', linestyle = 'none', color = 'r', label = 'baseline') # baseline\n",
    "plt.plot(x_o2, y_o2 , marker = '.', linestyle = 'none', color = 'g', label = 'reactive') # reactive\n",
    "plt.plot(x_o3, y_o3 , marker = '.', linestyle = 'none', color = 'b', label = 'esters') # esters\n",
    "plt.plot(x_o4, y_o4 , marker = '.', linestyle = 'none', color = 'y', label = 'narcotic amine') # narcotic amine\n",
    "plt.plot(x_o5, y_o5 , marker = '.', linestyle = 'none', color = 'brown', label = 'other') # other\n",
    "plt.legend()\n",
    "plt.xlabel('log_min_toxval_mgm3')\n",
    "plt.ylabel('ECDF')\n",
    "plt.savefig(figures_dir+'OASIS_ECDFs.jpg', dpi = 300)"
   ]
  },
  {
   "cell_type": "code",
   "execution_count": 48,
   "metadata": {},
   "outputs": [],
   "source": [
    "verhaar_dict = {'Class 1 (narcosis or baseline toxicity)' : 'baseline_narcotic', 'Class 5 (Not possible to classify according to these rules)' : 'unclassified', \n",
    "                \n",
    "                'Class 3 (unspecific reactivity)' : 'reactive', 'Class 2 (less inert compounds)' : 'polar_narcotic', \n",
    "                'Class 4 (Compounds and groups of compounds acting by a specific mechanism)' : 'specific_acting'}"
   ]
  },
  {
   "cell_type": "code",
   "execution_count": 49,
   "metadata": {},
   "outputs": [],
   "source": [
    "ttc_moa['Verhaar'] = ttc_moa.Verhaar.map(verhaar_dict)"
   ]
  },
  {
   "cell_type": "code",
   "execution_count": 50,
   "metadata": {},
   "outputs": [
    {
     "data": {
      "text/plain": [
       "unclassified         220\n",
       "baseline_narcotic    169\n",
       "reactive             108\n",
       "polar_narcotic        15\n",
       "specific_acting        7\n",
       "Name: Verhaar, dtype: int64"
      ]
     },
     "execution_count": 50,
     "metadata": {},
     "output_type": "execute_result"
    }
   ],
   "source": [
    "ttc_moa['Verhaar'].value_counts()"
   ]
  },
  {
   "cell_type": "code",
   "execution_count": 51,
   "metadata": {},
   "outputs": [
    {
     "data": {
      "image/png": "[encoded data removed]",
      "text/plain": [
       "<Figure size 720x648 with 1 Axes>"
      ]
     },
     "metadata": {},
     "output_type": "display_data"
    }
   ],
   "source": [
    "v1_logPODs = ttc_moa[ttc_moa['Verhaar'] == 'baseline_narcotic']['log_min_toxval_mgm3_adj']\n",
    "v2_logPODs = ttc_moa[ttc_moa['Verhaar'] == 'unclassified']['log_min_toxval_mgm3_adj']\n",
    "v3_logPODs = ttc_moa[ttc_moa['Verhaar'] == 'reactive']['log_min_toxval_mgm3_adj']\n",
    "v4_logPODs = ttc_moa[ttc_moa['Verhaar'] == 'polar_narcotic']['log_min_toxval_mgm3_adj']\n",
    "v5_logPODs = ttc_moa[ttc_moa['Verhaar'] == 'specific_acting']['log_min_toxval_mgm3_adj']\n",
    "x_v1, y_v1 = ecdf(v1_logPODs)\n",
    "x_v2, y_v2 = ecdf(v2_logPODs)\n",
    "x_v3, y_v3 = ecdf(v3_logPODs)\n",
    "x_v4, y_v4 = ecdf(v4_logPODs)\n",
    "x_v5, y_v5 = ecdf(v5_logPODs)\n",
    "\n",
    "\n",
    "all_logPODs = ttc_moa['log_min_toxval_mgm3_adj']\n",
    "x_all, y_all = ecdf(all_logPODs)\n",
    "\n",
    "plt.figure(figsize = (10,9))\n",
    "plt.plot(x_all, y_all , marker = '.', linestyle = 'none', color = 'w', label = 'all')\n",
    "plt.plot(x_v1, y_v1 , marker = '.', linestyle = 'none', color = 'r', label = 'baseline') # baseline\n",
    "plt.plot(x_v2, y_v2 , marker = '.', linestyle = 'none', color = 'g', label = 'unclassified') # unclassified\n",
    "plt.plot(x_v3, y_v3 , marker = '.', linestyle = 'none', color = 'b', label = 'reactive') # reactive\n",
    "plt.plot(x_v4, y_v4 , marker = '.', linestyle = 'none', color = 'black', label = 'polar narcotic')\n",
    "plt.plot(x_v5, y_v5 , marker = '.', linestyle = 'none', color = 'brown', label = 'specific acting')\n",
    "plt.legend()\n",
    "plt.xlabel('log_min_toxval_mgm3')\n",
    "plt.ylabel('ECDF')\n",
    "plt.savefig(figures_dir+'TBVerhaar_ECDFs.jpg', dpi = 300)"
   ]
  },
  {
   "cell_type": "code",
   "execution_count": 52,
   "metadata": {},
   "outputs": [],
   "source": [
    "toxtree_verhaar = pd.read_csv(processed_dat_dir+'Verhaar_Toxtree.csv')"
   ]
  },
  {
   "cell_type": "code",
   "execution_count": 53,
   "metadata": {},
   "outputs": [],
   "source": [
    "toxtree_verhaar.drop(['Kroes TTC decision tree',\n",
    "       'Kroes TTC decision tree#explanation', 'SMILES', 'cdk:Remark', 'cdk:Title', 'genetox',\n",
    "       'name'],axis =1, inplace = True)"
   ]
  },
  {
   "cell_type": "code",
   "execution_count": 54,
   "metadata": {},
   "outputs": [
    {
     "data": {
      "text/html": [
       "<div>\n",
       "<style scoped>\n",
       "    .dataframe tbody tr th:only-of-type {\n",
       "        vertical-align: middle;\n",
       "    }\n",
       "\n",
       "    .dataframe tbody tr th {\n",
       "        vertical-align: top;\n",
       "    }\n",
       "\n",
       "    .dataframe thead th {\n",
       "        text-align: right;\n",
       "    }\n",
       "</style>\n",
       "<table border=\"1\" class=\"dataframe\">\n",
       "  <thead>\n",
       "    <tr style=\"text-align: right;\">\n",
       "      <th></th>\n",
       "      <th>DTXSID</th>\n",
       "      <th>Verhaar scheme</th>\n",
       "      <th>Verhaar scheme#explanation</th>\n",
       "    </tr>\n",
       "  </thead>\n",
       "  <tbody>\n",
       "    <tr>\n",
       "      <th>0</th>\n",
       "      <td>DTXSID3020596</td>\n",
       "      <td>Class 1 (narcosis or baseline toxicity)</td>\n",
       "      <td>0.1Y,0.2Y,0.3Y,1.1Y,1.2Y,1.3Y</td>\n",
       "    </tr>\n",
       "    <tr>\n",
       "      <th>1</th>\n",
       "      <td>DTXSID2021284</td>\n",
       "      <td>Class 1 (narcosis or baseline toxicity)</td>\n",
       "      <td>0.1Y,0.2Y,0.3Y,1.1Y,1.2Y,1.3Y</td>\n",
       "    </tr>\n",
       "    <tr>\n",
       "      <th>2</th>\n",
       "      <td>DTXSID1020431</td>\n",
       "      <td>Class 1 (narcosis or baseline toxicity)</td>\n",
       "      <td>0.1Y,0.2Y,0.3Y,1.1Y,1.2Y,1.3N,1.4Y,1.4.1N,1.4.2Y</td>\n",
       "    </tr>\n",
       "    <tr>\n",
       "      <th>3</th>\n",
       "      <td>DTXSID1021871</td>\n",
       "      <td>Class 5 (Not possible to classify according to...</td>\n",
       "      <td>0.1Y,0.2Y,0.3Y,1.1Y,1.2Y,1.3N,1.4N,1.5N,1.6N,1...</td>\n",
       "    </tr>\n",
       "    <tr>\n",
       "      <th>4</th>\n",
       "      <td>DTXSID5020029</td>\n",
       "      <td>Class 3 (unspecific reactivity)</td>\n",
       "      <td>0.1Y,0.2Y,0.3Y,1.1Y,1.2Y,1.3N,1.4N,1.5N,1.6Y,1...</td>\n",
       "    </tr>\n",
       "  </tbody>\n",
       "</table>\n",
       "</div>"
      ],
      "text/plain": [
       "          DTXSID                                     Verhaar scheme  \\\n",
       "0  DTXSID3020596            Class 1 (narcosis or baseline toxicity)   \n",
       "1  DTXSID2021284            Class 1 (narcosis or baseline toxicity)   \n",
       "2  DTXSID1020431            Class 1 (narcosis or baseline toxicity)   \n",
       "3  DTXSID1021871  Class 5 (Not possible to classify according to...   \n",
       "4  DTXSID5020029                    Class 3 (unspecific reactivity)   \n",
       "\n",
       "                          Verhaar scheme#explanation  \n",
       "0                      0.1Y,0.2Y,0.3Y,1.1Y,1.2Y,1.3Y  \n",
       "1                      0.1Y,0.2Y,0.3Y,1.1Y,1.2Y,1.3Y  \n",
       "2   0.1Y,0.2Y,0.3Y,1.1Y,1.2Y,1.3N,1.4Y,1.4.1N,1.4.2Y  \n",
       "3  0.1Y,0.2Y,0.3Y,1.1Y,1.2Y,1.3N,1.4N,1.5N,1.6N,1...  \n",
       "4  0.1Y,0.2Y,0.3Y,1.1Y,1.2Y,1.3N,1.4N,1.5N,1.6Y,1...  "
      ]
     },
     "execution_count": 54,
     "metadata": {},
     "output_type": "execute_result"
    }
   ],
   "source": [
    "toxtree_verhaar.head()"
   ]
  },
  {
   "cell_type": "code",
   "execution_count": 55,
   "metadata": {},
   "outputs": [],
   "source": [
    "toxtree_verhaar['Verhaar_toxtree'] = toxtree_verhaar['Verhaar scheme'].map(verhaar_dict)"
   ]
  },
  {
   "cell_type": "code",
   "execution_count": 56,
   "metadata": {},
   "outputs": [
    {
     "data": {
      "text/html": [
       "<div>\n",
       "<style scoped>\n",
       "    .dataframe tbody tr th:only-of-type {\n",
       "        vertical-align: middle;\n",
       "    }\n",
       "\n",
       "    .dataframe tbody tr th {\n",
       "        vertical-align: top;\n",
       "    }\n",
       "\n",
       "    .dataframe thead th {\n",
       "        text-align: right;\n",
       "    }\n",
       "</style>\n",
       "<table border=\"1\" class=\"dataframe\">\n",
       "  <thead>\n",
       "    <tr style=\"text-align: right;\">\n",
       "      <th></th>\n",
       "      <th>DTXSID</th>\n",
       "      <th>Verhaar scheme</th>\n",
       "      <th>Verhaar scheme#explanation</th>\n",
       "      <th>Verhaar_toxtree</th>\n",
       "    </tr>\n",
       "  </thead>\n",
       "  <tbody>\n",
       "    <tr>\n",
       "      <th>0</th>\n",
       "      <td>DTXSID3020596</td>\n",
       "      <td>Class 1 (narcosis or baseline toxicity)</td>\n",
       "      <td>0.1Y,0.2Y,0.3Y,1.1Y,1.2Y,1.3Y</td>\n",
       "      <td>baseline_narcotic</td>\n",
       "    </tr>\n",
       "    <tr>\n",
       "      <th>1</th>\n",
       "      <td>DTXSID2021284</td>\n",
       "      <td>Class 1 (narcosis or baseline toxicity)</td>\n",
       "      <td>0.1Y,0.2Y,0.3Y,1.1Y,1.2Y,1.3Y</td>\n",
       "      <td>baseline_narcotic</td>\n",
       "    </tr>\n",
       "    <tr>\n",
       "      <th>2</th>\n",
       "      <td>DTXSID1020431</td>\n",
       "      <td>Class 1 (narcosis or baseline toxicity)</td>\n",
       "      <td>0.1Y,0.2Y,0.3Y,1.1Y,1.2Y,1.3N,1.4Y,1.4.1N,1.4.2Y</td>\n",
       "      <td>baseline_narcotic</td>\n",
       "    </tr>\n",
       "    <tr>\n",
       "      <th>3</th>\n",
       "      <td>DTXSID1021871</td>\n",
       "      <td>Class 5 (Not possible to classify according to...</td>\n",
       "      <td>0.1Y,0.2Y,0.3Y,1.1Y,1.2Y,1.3N,1.4N,1.5N,1.6N,1...</td>\n",
       "      <td>unclassified</td>\n",
       "    </tr>\n",
       "    <tr>\n",
       "      <th>4</th>\n",
       "      <td>DTXSID5020029</td>\n",
       "      <td>Class 3 (unspecific reactivity)</td>\n",
       "      <td>0.1Y,0.2Y,0.3Y,1.1Y,1.2Y,1.3N,1.4N,1.5N,1.6Y,1...</td>\n",
       "      <td>reactive</td>\n",
       "    </tr>\n",
       "  </tbody>\n",
       "</table>\n",
       "</div>"
      ],
      "text/plain": [
       "          DTXSID                                     Verhaar scheme  \\\n",
       "0  DTXSID3020596            Class 1 (narcosis or baseline toxicity)   \n",
       "1  DTXSID2021284            Class 1 (narcosis or baseline toxicity)   \n",
       "2  DTXSID1020431            Class 1 (narcosis or baseline toxicity)   \n",
       "3  DTXSID1021871  Class 5 (Not possible to classify according to...   \n",
       "4  DTXSID5020029                    Class 3 (unspecific reactivity)   \n",
       "\n",
       "                          Verhaar scheme#explanation    Verhaar_toxtree  \n",
       "0                      0.1Y,0.2Y,0.3Y,1.1Y,1.2Y,1.3Y  baseline_narcotic  \n",
       "1                      0.1Y,0.2Y,0.3Y,1.1Y,1.2Y,1.3Y  baseline_narcotic  \n",
       "2   0.1Y,0.2Y,0.3Y,1.1Y,1.2Y,1.3N,1.4Y,1.4.1N,1.4.2Y  baseline_narcotic  \n",
       "3  0.1Y,0.2Y,0.3Y,1.1Y,1.2Y,1.3N,1.4N,1.5N,1.6N,1...       unclassified  \n",
       "4  0.1Y,0.2Y,0.3Y,1.1Y,1.2Y,1.3N,1.4N,1.5N,1.6Y,1...           reactive  "
      ]
     },
     "execution_count": 56,
     "metadata": {},
     "output_type": "execute_result"
    }
   ],
   "source": [
    "toxtree_verhaar.head()"
   ]
  },
  {
   "cell_type": "code",
   "execution_count": 57,
   "metadata": {},
   "outputs": [],
   "source": [
    "ttc_moa_df = pd.merge(ttc_moa, toxtree_verhaar, on = 'DTXSID', how = 'left')"
   ]
  },
  {
   "cell_type": "code",
   "execution_count": 58,
   "metadata": {},
   "outputs": [],
   "source": [
    "ttc_moa_df.drop(['Verhaar scheme',\n",
    "       'Verhaar scheme#explanation'], axis = 1, inplace = True)"
   ]
  },
  {
   "cell_type": "code",
   "execution_count": 59,
   "metadata": {},
   "outputs": [
    {
     "data": {
      "text/html": [
       "<div>\n",
       "<style scoped>\n",
       "    .dataframe tbody tr th:only-of-type {\n",
       "        vertical-align: middle;\n",
       "    }\n",
       "\n",
       "    .dataframe tbody tr th {\n",
       "        vertical-align: top;\n",
       "    }\n",
       "\n",
       "    .dataframe thead th {\n",
       "        text-align: right;\n",
       "    }\n",
       "</style>\n",
       "<table border=\"1\" class=\"dataframe\">\n",
       "  <thead>\n",
       "    <tr style=\"text-align: right;\">\n",
       "      <th></th>\n",
       "      <th>DTXSID</th>\n",
       "      <th>min_toxval_mgm3_adj</th>\n",
       "      <th>Cramer_class</th>\n",
       "      <th>Aquatic_OASIS</th>\n",
       "      <th>Verhaar</th>\n",
       "      <th>log_min_toxval_mgm3_adj</th>\n",
       "      <th>Verhaar_toxtree</th>\n",
       "    </tr>\n",
       "  </thead>\n",
       "  <tbody>\n",
       "    <tr>\n",
       "      <th>0</th>\n",
       "      <td>DTXSID0020315</td>\n",
       "      <td>0.005000</td>\n",
       "      <td>ClassIII</td>\n",
       "      <td>baseline_narcotic</td>\n",
       "      <td>unclassified</td>\n",
       "      <td>-2.301030</td>\n",
       "      <td>unclassified</td>\n",
       "    </tr>\n",
       "    <tr>\n",
       "      <th>1</th>\n",
       "      <td>DTXSID0020446</td>\n",
       "      <td>0.683333</td>\n",
       "      <td>ClassIII</td>\n",
       "      <td>baseline_narcotic</td>\n",
       "      <td>reactive</td>\n",
       "      <td>-0.165367</td>\n",
       "      <td>unclassified</td>\n",
       "    </tr>\n",
       "    <tr>\n",
       "      <th>2</th>\n",
       "      <td>DTXSID0021096</td>\n",
       "      <td>9.800000</td>\n",
       "      <td>ClassIII</td>\n",
       "      <td>reactive</td>\n",
       "      <td>unclassified</td>\n",
       "      <td>0.991226</td>\n",
       "      <td>unclassified</td>\n",
       "    </tr>\n",
       "    <tr>\n",
       "      <th>3</th>\n",
       "      <td>DTXSID0021381</td>\n",
       "      <td>550.382960</td>\n",
       "      <td>ClassIII</td>\n",
       "      <td>baseline_narcotic</td>\n",
       "      <td>baseline_narcotic</td>\n",
       "      <td>2.740665</td>\n",
       "      <td>baseline_narcotic</td>\n",
       "    </tr>\n",
       "    <tr>\n",
       "      <th>4</th>\n",
       "      <td>DTXSID0021383</td>\n",
       "      <td>24.750000</td>\n",
       "      <td>ClassIII</td>\n",
       "      <td>baseline_narcotic</td>\n",
       "      <td>baseline_narcotic</td>\n",
       "      <td>1.393575</td>\n",
       "      <td>baseline_narcotic</td>\n",
       "    </tr>\n",
       "  </tbody>\n",
       "</table>\n",
       "</div>"
      ],
      "text/plain": [
       "          DTXSID  min_toxval_mgm3_adj Cramer_class      Aquatic_OASIS  \\\n",
       "0  DTXSID0020315             0.005000     ClassIII  baseline_narcotic   \n",
       "1  DTXSID0020446             0.683333     ClassIII  baseline_narcotic   \n",
       "2  DTXSID0021096             9.800000     ClassIII           reactive   \n",
       "3  DTXSID0021381           550.382960     ClassIII  baseline_narcotic   \n",
       "4  DTXSID0021383            24.750000     ClassIII  baseline_narcotic   \n",
       "\n",
       "             Verhaar  log_min_toxval_mgm3_adj    Verhaar_toxtree  \n",
       "0       unclassified                -2.301030       unclassified  \n",
       "1           reactive                -0.165367       unclassified  \n",
       "2       unclassified                 0.991226       unclassified  \n",
       "3  baseline_narcotic                 2.740665  baseline_narcotic  \n",
       "4  baseline_narcotic                 1.393575  baseline_narcotic  "
      ]
     },
     "execution_count": 59,
     "metadata": {},
     "output_type": "execute_result"
    }
   ],
   "source": [
    "ttc_moa_df.head()"
   ]
  },
  {
   "cell_type": "code",
   "execution_count": 60,
   "metadata": {},
   "outputs": [
    {
     "data": {
      "text/plain": [
       "unclassified         241\n",
       "baseline_narcotic    200\n",
       "reactive              48\n",
       "polar_narcotic        28\n",
       "Name: Verhaar_toxtree, dtype: int64"
      ]
     },
     "execution_count": 60,
     "metadata": {},
     "output_type": "execute_result"
    }
   ],
   "source": [
    "ttc_moa_df.Verhaar_toxtree.value_counts()"
   ]
  },
  {
   "cell_type": "code",
   "execution_count": 61,
   "metadata": {},
   "outputs": [
    {
     "data": {
      "image/png": "[encoded data removed]",
      "text/plain": [
       "<Figure size 720x648 with 1 Axes>"
      ]
     },
     "metadata": {},
     "output_type": "display_data"
    }
   ],
   "source": [
    "v1_logPODs = ttc_moa_df[ttc_moa_df['Verhaar_toxtree'] == 'baseline_narcotic']['log_min_toxval_mgm3_adj']\n",
    "v2_logPODs = ttc_moa_df[ttc_moa_df['Verhaar_toxtree'] == 'unclassified']['log_min_toxval_mgm3_adj']\n",
    "v3_logPODs = ttc_moa_df[ttc_moa_df['Verhaar_toxtree'] == 'reactive']['log_min_toxval_mgm3_adj']\n",
    "v4_logPODs = ttc_moa_df[ttc_moa_df['Verhaar_toxtree'] == 'polar_narcotic']['log_min_toxval_mgm3_adj']\n",
    "v5_logPODs = ttc_moa_df[ttc_moa_df['Verhaar_toxtree'] == 'specific_acting']['log_min_toxval_mgm3_adj']\n",
    "x_v1, y_v1 = ecdf(v1_logPODs)\n",
    "x_v2, y_v2 = ecdf(v2_logPODs)\n",
    "x_v3, y_v3 = ecdf(v3_logPODs)\n",
    "x_v4, y_v4 = ecdf(v4_logPODs)\n",
    "x_v5, y_v5 = ecdf(v5_logPODs)\n",
    "\n",
    "\n",
    "all_logPODs = ttc_moa['log_min_toxval_mgm3_adj']\n",
    "x_all, y_all = ecdf(all_logPODs)\n",
    "\n",
    "plt.figure(figsize = (10,9))\n",
    "plt.plot(x_all, y_all , marker = '.', linestyle = 'none', color = 'w', label = 'all')\n",
    "plt.plot(x_v1, y_v1 , marker = '.', linestyle = 'none', color = 'r', label = 'baseline') # baseline\n",
    "plt.plot(x_v2, y_v2 , marker = '.', linestyle = 'none', color = 'g', label = 'unclassified') # unclassified\n",
    "plt.plot(x_v3, y_v3 , marker = '.', linestyle = 'none', color = 'b', label = 'reactive') # reactive\n",
    "plt.plot(x_v4, y_v4 , marker = '.', linestyle = 'none', color = 'black', label = 'polar narcotic')\n",
    "plt.plot(x_v5, y_v5 , marker = '.', linestyle = 'none', color = 'brown', label = 'specific acting')\n",
    "plt.legend()\n",
    "plt.xlabel('log_min_toxval_mgm3')\n",
    "plt.ylabel('ECDF')\n",
    "plt.savefig(figures_dir+'Toxtree_Verhaar_ECDFs.jpg', dpi = 300)"
   ]
  },
  {
   "cell_type": "code",
   "execution_count": 62,
   "metadata": {},
   "outputs": [],
   "source": [
    "from sklearn.metrics import confusion_matrix\n",
    "from sklearn.metrics import classification_report, precision_recall_fscore_support"
   ]
  },
  {
   "cell_type": "code",
   "execution_count": 63,
   "metadata": {},
   "outputs": [
    {
     "data": {
      "text/plain": [
       "unclassified         220\n",
       "baseline_narcotic    169\n",
       "reactive             108\n",
       "polar_narcotic        15\n",
       "specific_acting        7\n",
       "Name: Verhaar, dtype: int64"
      ]
     },
     "execution_count": 63,
     "metadata": {},
     "output_type": "execute_result"
    }
   ],
   "source": [
    "ttc_moa_df['Verhaar'].value_counts(dropna = False)"
   ]
  },
  {
   "cell_type": "code",
   "execution_count": 64,
   "metadata": {},
   "outputs": [],
   "source": [
    "ttc_moa_df['Verhaar_toxtree'].value_counts(dropna = False)\n",
    "ttc_moa_df['Verhaar_toxtree'] = ttc_moa_df['Verhaar_toxtree'].replace(np.nan, 'Missing')"
   ]
  },
  {
   "cell_type": "code",
   "execution_count": 65,
   "metadata": {},
   "outputs": [],
   "source": [
    "xticklabels = sorted(ttc_moa_df['Verhaar_toxtree'].unique())\n",
    "yticklabels = sorted(ttc_moa_df['Verhaar_toxtree'].unique())"
   ]
  },
  {
   "cell_type": "code",
   "execution_count": 66,
   "metadata": {},
   "outputs": [
    {
     "data": {
      "image/png": "[encoded data removed]",
      "text/plain": [
       "<Figure size 432x288 with 2 Axes>"
      ]
     },
     "metadata": {},
     "output_type": "display_data"
    }
   ],
   "source": [
    "sns.heatmap(confusion_matrix(ttc_moa_df['Verhaar'], ttc_moa_df['Verhaar_toxtree'] ),xticklabels = xticklabels, yticklabels = yticklabels , annot = True)\n",
    "plt.tight_layout()\n",
    "plt.savefig(figures_dir+'hm_verhaar.png', dpi = 300)"
   ]
  },
  {
   "cell_type": "code",
   "execution_count": 67,
   "metadata": {},
   "outputs": [
    {
     "name": "stdout",
     "output_type": "stream",
     "text": [
      "                   precision    recall  f1-score   support\n",
      "\n",
      "          Missing       0.00      0.00      0.00         0\n",
      "baseline_narcotic       0.76      0.90      0.82       169\n",
      "   polar_narcotic       0.36      0.67      0.47        15\n",
      "         reactive       0.71      0.31      0.44       108\n",
      "  specific_acting       0.00      0.00      0.00         7\n",
      "     unclassified       0.73      0.80      0.76       220\n",
      "\n",
      "         accuracy                           0.71       519\n",
      "        macro avg       0.43      0.45      0.41       519\n",
      "     weighted avg       0.71      0.71      0.69       519\n",
      "\n"
     ]
    },
    {
     "name": "stderr",
     "output_type": "stream",
     "text": [
      "/home/grace/anaconda3/lib/python3.7/site-packages/sklearn/metrics/_classification.py:1272: UndefinedMetricWarning: Precision and F-score are ill-defined and being set to 0.0 in labels with no predicted samples. Use `zero_division` parameter to control this behavior.\n",
      "  _warn_prf(average, modifier, msg_start, len(result))\n",
      "/home/grace/anaconda3/lib/python3.7/site-packages/sklearn/metrics/_classification.py:1272: UndefinedMetricWarning: Recall and F-score are ill-defined and being set to 0.0 in labels with no true samples. Use `zero_division` parameter to control this behavior.\n",
      "  _warn_prf(average, modifier, msg_start, len(result))\n"
     ]
    }
   ],
   "source": [
    "print(classification_report(ttc_moa_df['Verhaar'], ttc_moa_df['Verhaar_toxtree']))"
   ]
  },
  {
   "cell_type": "code",
   "execution_count": 68,
   "metadata": {},
   "outputs": [],
   "source": [
    "ttc_moa_df['OASIS_v2'] = ttc_moa_df.Aquatic_OASIS.map({'baseline_narcotic' : 'baseline_narcotic', 'reactive': 'reactive','esters': 'polar_narcotic', 'narcotic_amine': 'polar_narcotic', 'other': 'polar_narcotic'})"
   ]
  },
  {
   "cell_type": "code",
   "execution_count": 69,
   "metadata": {},
   "outputs": [],
   "source": [
    "consensus = []\n",
    "for x,y,z in list(zip(ttc_moa_df['Verhaar_toxtree'],ttc_moa_df['Verhaar'],ttc_moa_df['OASIS_v2'])):\n",
    "    if x == y:\n",
    "        consensus.append(x)\n",
    "    elif x != y:\n",
    "        if x == 'specific_acting' or y == 'specific_acting':\n",
    "            consensus.append('specific_acting')\n",
    "        elif x == 'reactive' or y == 'reactive':\n",
    "            consensus.append('reactive')\n",
    "        elif x == 'polar_narcotic' or y == 'polar_narcotic':\n",
    "            consensus.append('polar_narcotic')\n",
    "        elif x == 'baseline_narcotic' or y == 'baseline_narcotic':\n",
    "            consensus.append('baseline_narcotic')\n",
    "        else:\n",
    "            consensus.append('unclassified')\n",
    "    "
   ]
  },
  {
   "cell_type": "code",
   "execution_count": 70,
   "metadata": {},
   "outputs": [],
   "source": [
    "ttc_moa_df['consensus_MOA'] = consensus"
   ]
  },
  {
   "cell_type": "code",
   "execution_count": 71,
   "metadata": {},
   "outputs": [
    {
     "data": {
      "text/plain": [
       "baseline_narcotic    190\n",
       "unclassified         175\n",
       "reactive             118\n",
       "polar_narcotic        29\n",
       "specific_acting        7\n",
       "Name: consensus_MOA, dtype: int64"
      ]
     },
     "execution_count": 71,
     "metadata": {},
     "output_type": "execute_result"
    }
   ],
   "source": [
    "ttc_moa_df.consensus_MOA.value_counts()"
   ]
  },
  {
   "cell_type": "code",
   "execution_count": 153,
   "metadata": {},
   "outputs": [
    {
     "data": {
      "image/png": "[encoded data removed]",
      "text/plain": [
       "<Figure size 720x648 with 1 Axes>"
      ]
     },
     "metadata": {},
     "output_type": "display_data"
    }
   ],
   "source": [
    "cbn_logPODs = ttc_moa_df[ttc_moa_df['consensus_MOA'] == 'baseline_narcotic']['log_min_toxval_mgm3_adj']\n",
    "cun_logPODs = ttc_moa_df[ttc_moa_df['consensus_MOA'] == 'unclassified']['log_min_toxval_mgm3_adj']\n",
    "cr_logPODs = ttc_moa_df[ttc_moa_df['consensus_MOA'] == 'reactive']['log_min_toxval_mgm3_adj']\n",
    "cpr_logPODs = ttc_moa_df[ttc_moa_df['consensus_MOA'] == 'polar_narcotic']['log_min_toxval_mgm3_adj']\n",
    "csa_logPODs = ttc_moa_df[ttc_moa_df['consensus_MOA'] == 'specific_acting']['log_min_toxval_mgm3_adj']\n",
    "x_cn1, y_cn1 = ecdf(cbn_logPODs)\n",
    "x_cn2, y_cn2 = ecdf(cun_logPODs)\n",
    "x_cn3, y_cn3 = ecdf(cr_logPODs)\n",
    "x_cn4, y_cn4 = ecdf(cpr_logPODs)\n",
    "x_cn5, y_cn5 = ecdf(csa_logPODs)\n",
    "\n",
    "\n",
    "all_logPODs = ttc_moa_df['log_min_toxval_mgm3_adj']\n",
    "x_all, y_all = ecdf(all_logPODs)\n",
    "\n",
    "plt.figure(figsize = (10,9))\n",
    "plt.plot(x_all, y_all , marker = '.', linestyle = 'none', color = 'w', label = 'all')\n",
    "plt.plot(x_cn1, y_cn1 , marker = '.', linestyle = 'none', color = 'r', label = 'baseline') # baseline\n",
    "plt.plot(x_cn2, y_cn2 , marker = '.', linestyle = 'none', color = 'g', label = 'unclassified') # unclassified\n",
    "plt.plot(x_cn3, y_cn3, marker = '.', linestyle = 'none', color = 'b', label = 'reactive') # reactive\n",
    "plt.plot(x_cn4, y_cn4 , marker = '.', linestyle = 'none', color = 'black', label = 'polar narcotic')\n",
    "plt.plot(x_cn5, y_cn5 , marker = '.', linestyle = 'none', color = 'brown', label = 'specific acting')\n",
    "plt.legend()\n",
    "# Label the axes\n",
    "plt.xlabel('MOA subcategorisation of the log_toxval dataset')\n",
    "plt.ylabel('Empirical Cumulative Distribution Function (ECDF)')\n",
    "plt.savefig(figures_dir+'consensus_ecdf.jpg', dpi = 300)"
   ]
  },
  {
   "cell_type": "code",
   "execution_count": 154,
   "metadata": {},
   "outputs": [],
   "source": [
    "from scipy.stats import ks_2samp"
   ]
  },
  {
   "cell_type": "code",
   "execution_count": 155,
   "metadata": {},
   "outputs": [
    {
     "name": "stdout",
     "output_type": "stream",
     "text": [
      "Ks_2sampResult(statistic=0.22051739518287244, pvalue=0.0013487470471625657)\n"
     ]
    }
   ],
   "source": [
    "print(ks_2samp(cbn_logPODs, cr_logPODs)) # baseline and reactive"
   ]
  },
  {
   "cell_type": "code",
   "execution_count": 157,
   "metadata": {},
   "outputs": [
    {
     "name": "stdout",
     "output_type": "stream",
     "text": [
      "dists are different\n"
     ]
    }
   ],
   "source": [
    "alpha = 0.05\n",
    "res = ks_2samp(cbn_logPODs, cr_logPODs)\n",
    "if res[1] < alpha:\n",
    "    print('dists are different')"
   ]
  },
  {
   "cell_type": "code",
   "execution_count": 158,
   "metadata": {},
   "outputs": [],
   "source": [
    "bs_replicates_bn = draw_bs_reps(cbn_logPODs, np.percentile, size = 10000)"
   ]
  },
  {
   "cell_type": "code",
   "execution_count": 159,
   "metadata": {},
   "outputs": [],
   "source": [
    "bs_replicates_cr = draw_bs_reps(cr_logPODs, np.percentile, size = 10000)"
   ]
  },
  {
   "cell_type": "code",
   "execution_count": 164,
   "metadata": {},
   "outputs": [
    {
     "name": "stdout",
     "output_type": "stream",
     "text": [
      "95% confidence interval =  [0.08514127 0.53201846]\n",
      "median =  0.15673364082099908\n"
     ]
    }
   ],
   "source": [
    "median_thresh = 10**np.median(bs_replicates_bn)\n",
    "conf_int = 10**np.percentile(bs_replicates_bn, [2.5,97.5])\n",
    "print('95% confidence interval = ', conf_int)\n",
    "print('median = ', median_thresh)"
   ]
  },
  {
   "cell_type": "code",
   "execution_count": 165,
   "metadata": {},
   "outputs": [
    {
     "data": {
      "image/png": "[encoded data removed]",
      "text/plain": [
       "<Figure size 432x288 with 1 Axes>"
      ]
     },
     "metadata": {},
     "output_type": "display_data"
    }
   ],
   "source": [
    "plt.hist(bs_replicates_bn, bins = 5)\n",
    "plt.xlabel('bs_replicate_5th_percentile')\n",
    "plt.tight_layout()"
   ]
  },
  {
   "cell_type": "code",
   "execution_count": 167,
   "metadata": {},
   "outputs": [
    {
     "name": "stdout",
     "output_type": "stream",
     "text": [
      "95% confidence interval =  [0.00876346 0.09814286]\n",
      "median =  0.029999999999999995\n"
     ]
    }
   ],
   "source": [
    "median_thresh_cr = 10**np.median(bs_replicates_cr)\n",
    "conf_int_cr = 10**np.percentile(bs_replicates_cr, [2.5,97.5])\n",
    "print('95% confidence interval = ', conf_int_cr)\n",
    "print('median = ', median_thresh_cr)"
   ]
  },
  {
   "cell_type": "code",
   "execution_count": 168,
   "metadata": {},
   "outputs": [
    {
     "name": "stdout",
     "output_type": "stream",
     "text": [
      "0.0011195260058642791\n",
      "0.00021428571428571425\n"
     ]
    }
   ],
   "source": [
    "\n",
    "d = (6/24)*(5/7)\n",
    "V = 20\n",
    "bw = 60\n",
    "\n",
    "TTC_bn = (median_thresh * d)/(10*2.5)\n",
    "print(TTC_bn)\n",
    "\n",
    "TTC_cr = (median_thresh_cr * d)/(10*2.5)\n",
    "\n",
    "print(TTC_cr)"
   ]
  },
  {
   "cell_type": "code",
   "execution_count": 173,
   "metadata": {},
   "outputs": [],
   "source": [
    "NOEL_bn = (median_thresh*d) * (V/bw)*1000\n",
    "NOEL_cr = (median_thresh_cr*d) * (V/bw)*1000"
   ]
  },
  {
   "cell_type": "code",
   "execution_count": 174,
   "metadata": {},
   "outputs": [
    {
     "name": "stdout",
     "output_type": "stream",
     "text": [
      "22.39052011728558\n",
      "4.285714285714285\n"
     ]
    }
   ],
   "source": [
    "TTC_bn_d = (NOEL_bn*bw)/(10*2.5)\n",
    "TTC_cr_d = (NOEL_cr*bw)/(10*2.5)\n",
    "print(TTC_bn_d)\n",
    "print(TTC_cr_d)"
   ]
  },
  {
   "cell_type": "markdown",
   "metadata": {},
   "source": [
    "### Threshold = 5thpercentileNOEC x dexp/(10*2.5) where 2.5 is an uncertainty factor and 10 is an interdividual variation dexp - 6/24 X 5/7 d to adjust for 6h/d on 5d/week for animal studies to 24hr exposure over 7 days\n",
    "\n",
    "\n"
   ]
  },
  {
   "cell_type": "markdown",
   "metadata": {},
   "source": [
    "###NOEL (ug/kg/d) = 5th percentil NOEC(mg/m3) x desp x (Vres m3/d/bw kg) x 1000\n",
    "###Threshold ug/person/d) = NOEL x bw/10*2.5"
   ]
  },
  {
   "cell_type": "code",
   "execution_count": 283,
   "metadata": {},
   "outputs": [],
   "source": [
    "def try_join(l):\n",
    "    try:\n",
    "        return ','.join(map(str,l))\n",
    "    except TypeError:\n",
    "        return np.nan\n",
    "    "
   ]
  },
  {
   "cell_type": "code",
   "execution_count": 175,
   "metadata": {},
   "outputs": [],
   "source": [
    "writer = pd.ExcelWriter(processed_dat_dir+'ttc_moa_v1.xlsx', engine='xlsxwriter')\n",
    "\n",
    "# Convert the dataframe to an XlsxWriter Excel object.\n",
    "ttc_moa_df.to_excel(writer, sheet_name = 'ttc_moa_v1')\n",
    "\n",
    "\n",
    "writer.save()"
   ]
  },
  {
   "cell_type": "code",
   "execution_count": null,
   "metadata": {},
   "outputs": [],
   "source": []
  },
  {
   "cell_type": "code",
   "execution_count": null,
   "metadata": {},
   "outputs": [],
   "source": []
  },
  {
   "cell_type": "code",
   "execution_count": null,
   "metadata": {},
   "outputs": [],
   "source": []
  },
  {
   "cell_type": "code",
   "execution_count": null,
   "metadata": {},
   "outputs": [],
   "source": []
  },
  {
   "cell_type": "code",
   "execution_count": null,
   "metadata": {},
   "outputs": [],
   "source": []
  },
  {
   "cell_type": "code",
   "execution_count": null,
   "metadata": {},
   "outputs": [],
   "source": []
  }
 ],
 "metadata": {
  "kernelspec": {
   "display_name": "Python 3",
   "language": "python",
   "name": "python3"
  },
  "language_info": {
   "codemirror_mode": {
    "name": "ipython",
    "version": 3
   },
   "file_extension": ".py",
   "mimetype": "text/x-python",
   "name": "python",
   "nbconvert_exporter": "python",
   "pygments_lexer": "ipython3",
   "version": "3.7.6"
  }
 },
 "nbformat": 4,
 "nbformat_minor": 4
}
